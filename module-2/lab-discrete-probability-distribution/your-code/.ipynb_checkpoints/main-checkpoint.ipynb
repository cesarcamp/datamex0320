{
 "cells": [
  {
   "cell_type": "markdown",
   "metadata": {},
   "source": [
    "# Before your start:\n",
    "\n",
    "    Read the README.md file\n",
    "    Comment as much as you can and use the resources (README.md file)\n",
    "    Happy learning!\n",
    "\n",
    "*Notes:* \n",
    "\n",
    "- Solve the questions with python.\n",
    "\n",
    "- Round the final answer to three decimal places."
   ]
  },
  {
   "cell_type": "markdown",
   "metadata": {},
   "source": [
    "## Bernoulli's Distribution\n",
    "\n",
    "In a basket containing 100 fruits, there are 60 apples and 40 oranges. \n",
    "\n",
    "A fruit is picked randomly from the basket. \n",
    "\n",
    "1. **What is the probability that the fruit is apple?**\n",
    "1. **What is the probability that it is an orange?**"
   ]
  },
  {
   "cell_type": "code",
   "execution_count": 1,
   "metadata": {},
   "outputs": [],
   "source": [
    "from scipy.stats import binom\n",
    "import matplotlib.pyplot as plt"
   ]
  },
  {
   "cell_type": "code",
   "execution_count": 48,
   "metadata": {},
   "outputs": [
    {
     "data": {
      "text/plain": [
       "0.6"
      ]
     },
     "execution_count": 48,
     "metadata": {},
     "output_type": "execute_result"
    }
   ],
   "source": [
    "m=60/100\n",
    "m"
   ]
  },
  {
   "cell_type": "code",
   "execution_count": 49,
   "metadata": {},
   "outputs": [
    {
     "data": {
      "text/plain": [
       "0.4"
      ]
     },
     "execution_count": 49,
     "metadata": {},
     "output_type": "execute_result"
    }
   ],
   "source": [
    "n=40/100\n",
    "n\n"
   ]
  },
  {
   "cell_type": "code",
   "execution_count": 5,
   "metadata": {},
   "outputs": [
    {
     "data": {
      "text/plain": [
       "0.6"
      ]
     },
     "execution_count": 5,
     "metadata": {},
     "output_type": "execute_result"
    }
   ],
   "source": [
    "\"\"\"\n",
    "Calculate:\n",
    "p = probability that the fruit is an apple \n",
    "q = probability that the fruit is an orange\n",
    "\"\"\"\n",
    "\n",
    "# your code here\n",
    "p = binom.pmf(1,1,0.6)\n",
    "p"
   ]
  },
  {
   "cell_type": "code",
   "execution_count": 4,
   "metadata": {},
   "outputs": [
    {
     "data": {
      "text/plain": [
       "0.4"
      ]
     },
     "execution_count": 4,
     "metadata": {},
     "output_type": "execute_result"
    }
   ],
   "source": [
    "q = binom.pmf(1,1,0.4)\n",
    "q"
   ]
  },
  {
   "cell_type": "markdown",
   "metadata": {},
   "source": [
    "Now we take a random sample of 20 fruits from the basket. After each fruit is taken, a new fruit of the same type is replaced in the basket. Therefore, every time we are taking 1 fruit from 100 fruits. \n",
    "\n",
    "1. **What is the probability that the first 5 fruits are all apples?**\n",
    "\n",
    "1. **What is the probability that the first 5 fruits are all apples and the next 15 fruits are all oranges?**\n",
    "\n",
    "You can include the `p` and `q` probabilities you previous calculated in your solution."
   ]
  },
  {
   "cell_type": "code",
   "execution_count": 60,
   "metadata": {},
   "outputs": [
    {
     "data": {
      "text/plain": [
       "0.078"
      ]
     },
     "execution_count": 60,
     "metadata": {},
     "output_type": "execute_result"
    }
   ],
   "source": [
    "# your code here\n",
    "#1.-\n",
    "round(binom.pmf(5,5,p),3)"
   ]
  },
  {
   "cell_type": "code",
   "execution_count": 64,
   "metadata": {},
   "outputs": [
    {
     "data": {
      "text/plain": [
       "8.349416423424002e-08"
      ]
     },
     "execution_count": 64,
     "metadata": {},
     "output_type": "execute_result"
    }
   ],
   "source": [
    "#2.-\n",
    "binom.pmf(5,5,p) * binom.pmf(15,15,q) "
   ]
  },
  {
   "cell_type": "markdown",
   "metadata": {},
   "source": [
    "## Binomial Distribution\n",
    "\n",
    "Similar to the above problem, this time again we randomly sample 20 fruits.\n",
    "\n",
    "**What is the probability that this time the sample contains 5 apples and 15 oranges?**\n",
    "\n",
    "Please note that this time the order of the fruits being picked does not matter."
   ]
  },
  {
   "cell_type": "code",
   "execution_count": 65,
   "metadata": {},
   "outputs": [
    {
     "data": {
      "text/plain": [
       "0.07776107374182399"
      ]
     },
     "execution_count": 65,
     "metadata": {},
     "output_type": "execute_result"
    }
   ],
   "source": [
    "# your code here\n",
    "binom.pmf(5,5,p) + binom.pmf(15,15,q) "
   ]
  },
  {
   "cell_type": "markdown",
   "metadata": {},
   "source": [
    "In the lesson we also discussed CDF (cumulative distribution function). In the context of the above problem, **what is the probability that less than 5 fruits picked are apples?**\n",
    "\n",
    "Write the formula and calculate the probability below."
   ]
  },
  {
   "cell_type": "code",
   "execution_count": 19,
   "metadata": {},
   "outputs": [
    {
     "data": {
      "text/plain": [
       "0.00036976919639490597"
      ]
     },
     "execution_count": 19,
     "metadata": {},
     "output_type": "execute_result"
    }
   ],
   "source": [
    "# your code here\n",
    "x=[i for i in range(5)]\n",
    "sum(binom.cdf(x, 20,p))\n",
    "#plt.plot(x,y)"
   ]
  },
  {
   "cell_type": "markdown",
   "metadata": {},
   "source": [
    "**Plot the PDF (probability distributiom function) for the above binomial distribution.**\n",
    "\n",
    "*Hint: The range of x in a binomial distribution is from `0` to `n`.*"
   ]
  },
  {
   "cell_type": "code",
   "execution_count": 21,
   "metadata": {},
   "outputs": [
    {
     "data": {
      "text/plain": [
       "[<matplotlib.lines.Line2D at 0x16159896cc8>]"
      ]
     },
     "execution_count": 21,
     "metadata": {},
     "output_type": "execute_result"
    },
    {
     "data": {
      "image/png": "[encoded data removed]",
      "text/plain": [
       "<Figure size 432x288 with 1 Axes>"
      ]
     },
     "metadata": {
      "needs_background": "light"
     },
     "output_type": "display_data"
    }
   ],
   "source": [
    "# your code here\n",
    "# Please label the axes and give a title to the plot \n",
    "x=[i for i in range(5)]\n",
    "y=[binom.cdf(x, 20,p) for x in x]\n",
    "plt.plot(x,y)"
   ]
  },
  {
   "cell_type": "markdown",
   "metadata": {},
   "source": [
    "## Poisson Distribution\n",
    "\n",
    "In this challenge you are required to use the Math library in python to solve the problems.\n",
    "\n",
    "In the UEFA champions league tournament, the average number of goals scored in a match is 2.3. \n",
    "\n",
    "**What is the probability that the number of goals scored in a match is 5?**\n",
    "\n",
    "*Hint: Use the exp() in the math library*\n",
    "\n",
    "And to calculate the factorial, you can use the following code:\n",
    "\n",
    "```python\n",
    "import math\n",
    "math.factorial(n) # n is the number you want to find the factorial of\n",
    "```"
   ]
  },
  {
   "cell_type": "code",
   "execution_count": 28,
   "metadata": {},
   "outputs": [],
   "source": [
    "# your code here \n",
    "import math\n",
    "from math import factorial\n",
    "import numpy as np"
   ]
  },
  {
   "cell_type": "code",
   "execution_count": 29,
   "metadata": {},
   "outputs": [],
   "source": [
    "def poisson_c(x,lamb):\n",
    "    return np.exp(-lamb)*lamb**x/factorial(x)"
   ]
  },
  {
   "cell_type": "code",
   "execution_count": 30,
   "metadata": {},
   "outputs": [
    {
     "data": {
      "text/plain": [
       "0.0537750255819468"
      ]
     },
     "execution_count": 30,
     "metadata": {},
     "output_type": "execute_result"
    }
   ],
   "source": [
    "poisson_c(5,2.3)"
   ]
  },
  {
   "cell_type": "code",
   "execution_count": 46,
   "metadata": {},
   "outputs": [
    {
     "data": {
      "text/plain": [
       "0.053775025581946814"
      ]
     },
     "execution_count": 46,
     "metadata": {},
     "output_type": "execute_result"
    }
   ],
   "source": [
    "poisson.pmf(5,2.3)"
   ]
  },
  {
   "cell_type": "markdown",
   "metadata": {},
   "source": [
    "**Draw a poisson probability distribution plot for the number of goals to be between 0 to 10.**"
   ]
  },
  {
   "cell_type": "code",
   "execution_count": 33,
   "metadata": {},
   "outputs": [],
   "source": [
    "import seaborn as sns\n",
    "from scipy.stats import poisson"
   ]
  },
  {
   "cell_type": "code",
   "execution_count": 45,
   "metadata": {},
   "outputs": [
    {
     "data": {
      "text/plain": [
       "[0.10025884372280375,\n",
       " 0.23059534056244857,\n",
       " 0.2651846416468159,\n",
       " 0.20330822526255884,\n",
       " 0.11690222952597128,\n",
       " 0.053775025581946814,\n",
       " 0.020613759806412932,\n",
       " 0.00677309250782139,\n",
       " 0.0019472640959986487,\n",
       " 0.0004976341578663217,\n",
       " 0.00011445585630925406]"
      ]
     },
     "execution_count": 45,
     "metadata": {},
     "output_type": "execute_result"
    }
   ],
   "source": [
    "# your code here\n",
    "# Please label the axes and give a title to the plot\n",
    "[poisson.pmf(i,2.3) for i in range(11)]"
   ]
  },
  {
   "cell_type": "code",
   "execution_count": null,
   "metadata": {},
   "outputs": [],
   "source": []
  },
  {
   "cell_type": "code",
   "execution_count": null,
   "metadata": {},
   "outputs": [],
   "source": []
  }
 ],
 "metadata": {
  "kernelspec": {
   "display_name": "Python 3",
   "language": "python",
   "name": "python3"
  },
  "language_info": {
   "codemirror_mode": {
    "name": "ipython",
    "version": 3
   },
   "file_extension": ".py",
   "mimetype": "text/x-python",
   "name": "python",
   "nbconvert_exporter": "python",
   "pygments_lexer": "ipython3",
   "version": "3.7.6"
  }
 },
 "nbformat": 4,
 "nbformat_minor": 2
}
