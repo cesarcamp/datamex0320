{
 "cells": [
  {
   "cell_type": "code",
   "execution_count": 2,
   "metadata": {},
   "outputs": [
    {
     "name": "stdout",
     "output_type": "stream",
     "text": [
      "Guess the number\n",
      "\n",
      "You have three chances to guess the number that the CPU is thinking about\n",
      "\n",
      "Choose a number from 1 to 10\n",
      "Keep trying\n",
      "Keep trying\n",
      "Keep trying\n",
      "Keep trying\n"
     ]
    }
   ],
   "source": [
    "import random\n",
    "\n",
    "print ('Guess the number')\n",
    "print('')\n",
    "print('You have three chances to guess the number that the CPU is thinking about')\n",
    "print('')\n",
    "print('Choose a number from 1 to 10')\n",
    "\n",
    "cpu_numbers=[i for i in range (1,21)]\n",
    "\n",
    "def cpu(number):\n",
    "\treturn random.choice(cpu_numbers)\n",
    "\n",
    "def player(guess):\n",
    "\tplayer=None\n",
    "\tprint('')\n",
    "\tprint('Please enter a number')\n",
    "\twhile player not in guess:\n",
    "\t\ttry:\n",
    "\t\t\tprint('')\n",
    "\t\t\tprint('the number you entered is out of the range. Please enter a number from 1 to 20')\n",
    "\t\t\tplayer=int(input())\n",
    "\t\texcept:\n",
    "\t\t\tplayer=None\n",
    "\t\treturn player\n",
    "\n",
    "def game(player,cpu):\n",
    "\twhile player!=cpu and attempts<4:\n",
    "\t\treturn 0\n",
    "\n",
    "\tif player==cpu and attempts<4:\n",
    "\t\treturn 1\n",
    "\n",
    "def results(player,cpu,game,you_lose,you_win):\n",
    "\tprint('')\n",
    "\tprint('Keep trying', player)\n",
    "\tif player!=cpu and attempts==3:\n",
    "\t\tprint('The number you chose is incorrect. 2 chances left')\n",
    "\telif player!=cpu and attempts==2:\n",
    "\t\tprint('The number you chose is incorrect. 1 chance left')\n",
    "\telif player!=cpu and attempts==0:\n",
    "\t\tprint('You lose!')\n",
    "\telif player==cpu and attempts<=3:\n",
    "\t\tprint('You rock! You have guessed correctly.')\n",
    "\tprint('attempts left',attempts)\n",
    "\n",
    "attempts=0\n",
    "max_chances=3\n",
    "\n",
    "while attempts<=max_chances:\n",
    "\tif player==cpu:\n",
    "\t\tprint(\"You've won\")\n",
    "\t\tbreak\n",
    "\telif player!=cpu:\n",
    "\t\tattempts+=1\n",
    "\t\tprint('Keep trying')\n",
    "\n",
    "    "
   ]
  }
 ],
 "metadata": {
  "kernelspec": {
   "display_name": "Python 3",
   "language": "python",
   "name": "python3"
  },
  "language_info": {
   "codemirror_mode": {
    "name": "ipython",
    "version": 3
   },
   "file_extension": ".py",
   "mimetype": "text/x-python",
   "name": "python",
   "nbconvert_exporter": "python",
   "pygments_lexer": "ipython3",
   "version": "3.7.6"
  }
 },
 "nbformat": 4,
 "nbformat_minor": 4
}
