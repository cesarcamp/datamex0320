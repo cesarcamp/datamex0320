{
 "cells": [
  {
   "cell_type": "code",
   "execution_count": 1,
   "metadata": {},
   "outputs": [],
   "source": [
    "import pandas as pd\n",
    "import numpy as np\n",
    "import re\n"
   ]
  },
  {
   "cell_type": "code",
   "execution_count": 2,
   "metadata": {},
   "outputs": [],
   "source": [
    "df = pd.read_csv('attacksoriginal.csv',encoding='latin-1')"
   ]
  },
  {
   "cell_type": "code",
   "execution_count": 3,
   "metadata": {
    "scrolled": true
   },
   "outputs": [
    {
     "name": "stdout",
     "output_type": "stream",
     "text": [
      "<class 'pandas.core.frame.DataFrame'>\n",
      "RangeIndex: 25723 entries, 0 to 25722\n",
      "Data columns (total 24 columns):\n",
      " #   Column                  Non-Null Count  Dtype  \n",
      "---  ------                  --------------  -----  \n",
      " 0   Case Number             8702 non-null   object \n",
      " 1   Date                    6302 non-null   object \n",
      " 2   Year                    6300 non-null   float64\n",
      " 3   Type                    6298 non-null   object \n",
      " 4   Country                 6252 non-null   object \n",
      " 5   Area                    5847 non-null   object \n",
      " 6   Location                5762 non-null   object \n",
      " 7   Activity                5758 non-null   object \n",
      " 8   Name                    6092 non-null   object \n",
      " 9   Sex                     5737 non-null   object \n",
      " 10  Age                     3471 non-null   object \n",
      " 11  Injury                  6274 non-null   object \n",
      " 12  Fatal (Y/N)             5763 non-null   object \n",
      " 13  Time                    2948 non-null   object \n",
      " 14  Species                 3464 non-null   object \n",
      " 15  Investigator or Source  6285 non-null   object \n",
      " 16  pdf                     6302 non-null   object \n",
      " 17  href formula            6301 non-null   object \n",
      " 18  href                    6302 non-null   object \n",
      " 19  Case Number.1           6302 non-null   object \n",
      " 20  Case Number.2           6302 non-null   object \n",
      " 21  original order          6309 non-null   float64\n",
      " 22  Additional Info         1 non-null      object \n",
      " 23  Others                  2 non-null      object \n",
      "dtypes: float64(2), object(22)\n",
      "memory usage: 4.7+ MB\n"
     ]
    }
   ],
   "source": [
    "df=df.rename(columns={'Unnamed: 22':'Additional Info','Unnamed: 23': 'Others'})\n",
    "df.info()"
   ]
  },
  {
   "cell_type": "code",
   "execution_count": 4,
   "metadata": {},
   "outputs": [],
   "source": [
    "df1=df.copy()"
   ]
  },
  {
   "cell_type": "code",
   "execution_count": 5,
   "metadata": {},
   "outputs": [
    {
     "name": "stdout",
     "output_type": "stream",
     "text": [
      "<class 'pandas.core.frame.DataFrame'>\n",
      "RangeIndex: 25723 entries, 0 to 25722\n",
      "Data columns (total 24 columns):\n",
      " #   Column                  Non-Null Count  Dtype  \n",
      "---  ------                  --------------  -----  \n",
      " 0   Case Number             8702 non-null   object \n",
      " 1   Date                    6302 non-null   object \n",
      " 2   Year                    6300 non-null   float64\n",
      " 3   Type                    6298 non-null   object \n",
      " 4   Country                 6252 non-null   object \n",
      " 5   Area                    5847 non-null   object \n",
      " 6   Location                5762 non-null   object \n",
      " 7   Activity                5758 non-null   object \n",
      " 8   Name                    6092 non-null   object \n",
      " 9   Sex                     5737 non-null   object \n",
      " 10  Age                     3471 non-null   object \n",
      " 11  Injury                  6274 non-null   object \n",
      " 12  Fatal (Y/N)             5763 non-null   object \n",
      " 13  Time                    2948 non-null   object \n",
      " 14  Species                 3464 non-null   object \n",
      " 15  Investigator or Source  6285 non-null   object \n",
      " 16  pdf                     6302 non-null   object \n",
      " 17  href formula            6301 non-null   object \n",
      " 18  href                    6302 non-null   object \n",
      " 19  Case Number.1           6302 non-null   object \n",
      " 20  Case Number.2           6302 non-null   object \n",
      " 21  original order          6309 non-null   float64\n",
      " 22  Additional Info         1 non-null      object \n",
      " 23  Others                  2 non-null      object \n",
      "dtypes: float64(2), object(22)\n",
      "memory usage: 4.7+ MB\n"
     ]
    }
   ],
   "source": [
    "df.info()"
   ]
  },
  {
   "cell_type": "code",
   "execution_count": 6,
   "metadata": {},
   "outputs": [],
   "source": [
    "df=df.dropna(axis=0,how='all')"
   ]
  },
  {
   "cell_type": "code",
   "execution_count": 7,
   "metadata": {},
   "outputs": [],
   "source": [
    "df=df.drop(25722)\n"
   ]
  },
  {
   "cell_type": "code",
   "execution_count": 8,
   "metadata": {},
   "outputs": [],
   "source": [
    "df.dropna(thresh=10,inplace=True)"
   ]
  },
  {
   "cell_type": "code",
   "execution_count": 9,
   "metadata": {},
   "outputs": [
    {
     "name": "stdout",
     "output_type": "stream",
     "text": [
      "<class 'pandas.core.frame.DataFrame'>\n",
      "Int64Index: 6302 entries, 0 to 6301\n",
      "Data columns (total 24 columns):\n",
      " #   Column                  Non-Null Count  Dtype  \n",
      "---  ------                  --------------  -----  \n",
      " 0   Case Number             6301 non-null   object \n",
      " 1   Date                    6302 non-null   object \n",
      " 2   Year                    6300 non-null   float64\n",
      " 3   Type                    6298 non-null   object \n",
      " 4   Country                 6252 non-null   object \n",
      " 5   Area                    5847 non-null   object \n",
      " 6   Location                5762 non-null   object \n",
      " 7   Activity                5758 non-null   object \n",
      " 8   Name                    6092 non-null   object \n",
      " 9   Sex                     5737 non-null   object \n",
      " 10  Age                     3471 non-null   object \n",
      " 11  Injury                  6274 non-null   object \n",
      " 12  Fatal (Y/N)             5763 non-null   object \n",
      " 13  Time                    2948 non-null   object \n",
      " 14  Species                 3464 non-null   object \n",
      " 15  Investigator or Source  6285 non-null   object \n",
      " 16  pdf                     6302 non-null   object \n",
      " 17  href formula            6301 non-null   object \n",
      " 18  href                    6302 non-null   object \n",
      " 19  Case Number.1           6302 non-null   object \n",
      " 20  Case Number.2           6302 non-null   object \n",
      " 21  original order          6302 non-null   float64\n",
      " 22  Additional Info         1 non-null      object \n",
      " 23  Others                  2 non-null      object \n",
      "dtypes: float64(2), object(22)\n",
      "memory usage: 1.2+ MB\n"
     ]
    }
   ],
   "source": [
    "df.info()"
   ]
  },
  {
   "cell_type": "code",
   "execution_count": 10,
   "metadata": {},
   "outputs": [],
   "source": [
    "df1=df.copy"
   ]
  },
  {
   "cell_type": "code",
   "execution_count": 11,
   "metadata": {},
   "outputs": [
    {
     "name": "stdout",
     "output_type": "stream",
     "text": [
      "<class 'pandas.core.frame.DataFrame'>\n",
      "Int64Index: 6302 entries, 0 to 6301\n",
      "Data columns (total 24 columns):\n",
      " #   Column                  Non-Null Count  Dtype  \n",
      "---  ------                  --------------  -----  \n",
      " 0   Case Number             6301 non-null   object \n",
      " 1   Date                    6302 non-null   object \n",
      " 2   Year                    6300 non-null   float64\n",
      " 3   Type                    6298 non-null   object \n",
      " 4   Country                 6252 non-null   object \n",
      " 5   Area                    5847 non-null   object \n",
      " 6   Location                5762 non-null   object \n",
      " 7   Activity                5758 non-null   object \n",
      " 8   Name                    6092 non-null   object \n",
      " 9   Sex                     5737 non-null   object \n",
      " 10  Age                     3471 non-null   object \n",
      " 11  Injury                  6274 non-null   object \n",
      " 12  Fatal (Y/N)             5763 non-null   object \n",
      " 13  Time                    2948 non-null   object \n",
      " 14  Species                 3464 non-null   object \n",
      " 15  Investigator or Source  6285 non-null   object \n",
      " 16  pdf                     6302 non-null   object \n",
      " 17  href formula            6301 non-null   object \n",
      " 18  href                    6302 non-null   object \n",
      " 19  Case Number.1           6302 non-null   object \n",
      " 20  Case Number.2           6302 non-null   object \n",
      " 21  original order          6302 non-null   float64\n",
      " 22  Additional Info         1 non-null      object \n",
      " 23  Others                  6302 non-null   object \n",
      "dtypes: float64(2), object(22)\n",
      "memory usage: 1.2+ MB\n"
     ]
    }
   ],
   "source": [
    "df['Others']=df['Others'].fillna('Not provided')\n",
    "df.info()"
   ]
  },
  {
   "cell_type": "code",
   "execution_count": 12,
   "metadata": {},
   "outputs": [
    {
     "name": "stdout",
     "output_type": "stream",
     "text": [
      "<class 'pandas.core.frame.DataFrame'>\n",
      "Int64Index: 6302 entries, 0 to 6301\n",
      "Data columns (total 24 columns):\n",
      " #   Column                  Non-Null Count  Dtype  \n",
      "---  ------                  --------------  -----  \n",
      " 0   Case Number             6301 non-null   object \n",
      " 1   Date                    6302 non-null   object \n",
      " 2   Year                    6300 non-null   float64\n",
      " 3   Type                    6298 non-null   object \n",
      " 4   Country                 6252 non-null   object \n",
      " 5   Area                    5847 non-null   object \n",
      " 6   Location                5762 non-null   object \n",
      " 7   Activity                5758 non-null   object \n",
      " 8   Name                    6092 non-null   object \n",
      " 9   Sex                     5737 non-null   object \n",
      " 10  Age                     3471 non-null   object \n",
      " 11  Injury                  6274 non-null   object \n",
      " 12  Fatal (Y/N)             5763 non-null   object \n",
      " 13  Time                    2948 non-null   object \n",
      " 14  Species                 3464 non-null   object \n",
      " 15  Investigator or Source  6285 non-null   object \n",
      " 16  pdf                     6302 non-null   object \n",
      " 17  href formula            6301 non-null   object \n",
      " 18  href                    6302 non-null   object \n",
      " 19  Case Number.1           6302 non-null   object \n",
      " 20  Case Number.2           6302 non-null   object \n",
      " 21  original order          6302 non-null   float64\n",
      " 22  Additional Info         6302 non-null   object \n",
      " 23  Others                  6302 non-null   object \n",
      "dtypes: float64(2), object(22)\n",
      "memory usage: 1.2+ MB\n"
     ]
    }
   ],
   "source": [
    "df['Additional Info']=df['Additional Info'].fillna('Not provided')\n",
    "df.info()"
   ]
  },
  {
   "cell_type": "code",
   "execution_count": 13,
   "metadata": {},
   "outputs": [],
   "source": [
    "df=df.rename(columns={'Case Number': 'Id'})"
   ]
  },
  {
   "cell_type": "code",
   "execution_count": 14,
   "metadata": {},
   "outputs": [],
   "source": [
    "df['Id'] = range(1, 1+len(df))"
   ]
  },
  {
   "cell_type": "code",
   "execution_count": 15,
   "metadata": {
    "scrolled": true
   },
   "outputs": [
    {
     "data": {
      "text/html": [
       "<div>\n",
       "<style scoped>\n",
       "    .dataframe tbody tr th:only-of-type {\n",
       "        vertical-align: middle;\n",
       "    }\n",
       "\n",
       "    .dataframe tbody tr th {\n",
       "        vertical-align: top;\n",
       "    }\n",
       "\n",
       "    .dataframe thead th {\n",
       "        text-align: right;\n",
       "    }\n",
       "</style>\n",
       "<table border=\"1\" class=\"dataframe\">\n",
       "  <thead>\n",
       "    <tr style=\"text-align: right;\">\n",
       "      <th></th>\n",
       "      <th>Id</th>\n",
       "      <th>Date</th>\n",
       "      <th>Year</th>\n",
       "      <th>Type</th>\n",
       "      <th>Country</th>\n",
       "      <th>Area</th>\n",
       "      <th>Location</th>\n",
       "      <th>Activity</th>\n",
       "      <th>Name</th>\n",
       "      <th>Sex</th>\n",
       "      <th>...</th>\n",
       "      <th>Species</th>\n",
       "      <th>Investigator or Source</th>\n",
       "      <th>pdf</th>\n",
       "      <th>href formula</th>\n",
       "      <th>href</th>\n",
       "      <th>Case Number.1</th>\n",
       "      <th>Case Number.2</th>\n",
       "      <th>original order</th>\n",
       "      <th>Additional Info</th>\n",
       "      <th>Others</th>\n",
       "    </tr>\n",
       "  </thead>\n",
       "  <tbody>\n",
       "    <tr>\n",
       "      <th>0</th>\n",
       "      <td>1</td>\n",
       "      <td>25-Jun-2018</td>\n",
       "      <td>2018.0</td>\n",
       "      <td>Boating</td>\n",
       "      <td>USA</td>\n",
       "      <td>California</td>\n",
       "      <td>Oceanside, San Diego County</td>\n",
       "      <td>Paddling</td>\n",
       "      <td>Julie Wolfe</td>\n",
       "      <td>F</td>\n",
       "      <td>...</td>\n",
       "      <td>White shark</td>\n",
       "      <td>R. Collier, GSAF</td>\n",
       "      <td>2018.06.25-Wolfe.pdf</td>\n",
       "      <td>http://sharkattackfile.net/spreadsheets/pdf_di...</td>\n",
       "      <td>http://sharkattackfile.net/spreadsheets/pdf_di...</td>\n",
       "      <td>2018.06.25</td>\n",
       "      <td>2018.06.25</td>\n",
       "      <td>6303.0</td>\n",
       "      <td>Not provided</td>\n",
       "      <td>Not provided</td>\n",
       "    </tr>\n",
       "    <tr>\n",
       "      <th>1</th>\n",
       "      <td>2</td>\n",
       "      <td>18-Jun-2018</td>\n",
       "      <td>2018.0</td>\n",
       "      <td>Unprovoked</td>\n",
       "      <td>USA</td>\n",
       "      <td>Georgia</td>\n",
       "      <td>St. Simon Island, Glynn County</td>\n",
       "      <td>Standing</td>\n",
       "      <td>Adyson McNeely</td>\n",
       "      <td>F</td>\n",
       "      <td>...</td>\n",
       "      <td>NaN</td>\n",
       "      <td>K.McMurray, TrackingSharks.com</td>\n",
       "      <td>2018.06.18-McNeely.pdf</td>\n",
       "      <td>http://sharkattackfile.net/spreadsheets/pdf_di...</td>\n",
       "      <td>http://sharkattackfile.net/spreadsheets/pdf_di...</td>\n",
       "      <td>2018.06.18</td>\n",
       "      <td>2018.06.18</td>\n",
       "      <td>6302.0</td>\n",
       "      <td>Not provided</td>\n",
       "      <td>Not provided</td>\n",
       "    </tr>\n",
       "    <tr>\n",
       "      <th>2</th>\n",
       "      <td>3</td>\n",
       "      <td>09-Jun-2018</td>\n",
       "      <td>2018.0</td>\n",
       "      <td>Invalid</td>\n",
       "      <td>USA</td>\n",
       "      <td>Hawaii</td>\n",
       "      <td>Habush, Oahu</td>\n",
       "      <td>Surfing</td>\n",
       "      <td>John Denges</td>\n",
       "      <td>M</td>\n",
       "      <td>...</td>\n",
       "      <td>NaN</td>\n",
       "      <td>K.McMurray, TrackingSharks.com</td>\n",
       "      <td>2018.06.09-Denges.pdf</td>\n",
       "      <td>http://sharkattackfile.net/spreadsheets/pdf_di...</td>\n",
       "      <td>http://sharkattackfile.net/spreadsheets/pdf_di...</td>\n",
       "      <td>2018.06.09</td>\n",
       "      <td>2018.06.09</td>\n",
       "      <td>6301.0</td>\n",
       "      <td>Not provided</td>\n",
       "      <td>Not provided</td>\n",
       "    </tr>\n",
       "    <tr>\n",
       "      <th>3</th>\n",
       "      <td>4</td>\n",
       "      <td>08-Jun-2018</td>\n",
       "      <td>2018.0</td>\n",
       "      <td>Unprovoked</td>\n",
       "      <td>AUSTRALIA</td>\n",
       "      <td>New South Wales</td>\n",
       "      <td>Arrawarra Headland</td>\n",
       "      <td>Surfing</td>\n",
       "      <td>male</td>\n",
       "      <td>M</td>\n",
       "      <td>...</td>\n",
       "      <td>2 m shark</td>\n",
       "      <td>B. Myatt, GSAF</td>\n",
       "      <td>2018.06.08-Arrawarra.pdf</td>\n",
       "      <td>http://sharkattackfile.net/spreadsheets/pdf_di...</td>\n",
       "      <td>http://sharkattackfile.net/spreadsheets/pdf_di...</td>\n",
       "      <td>2018.06.08</td>\n",
       "      <td>2018.06.08</td>\n",
       "      <td>6300.0</td>\n",
       "      <td>Not provided</td>\n",
       "      <td>Not provided</td>\n",
       "    </tr>\n",
       "    <tr>\n",
       "      <th>4</th>\n",
       "      <td>5</td>\n",
       "      <td>04-Jun-2018</td>\n",
       "      <td>2018.0</td>\n",
       "      <td>Provoked</td>\n",
       "      <td>MEXICO</td>\n",
       "      <td>Colima</td>\n",
       "      <td>La Ticla</td>\n",
       "      <td>Free diving</td>\n",
       "      <td>Gustavo Ramos</td>\n",
       "      <td>M</td>\n",
       "      <td>...</td>\n",
       "      <td>Tiger shark, 3m</td>\n",
       "      <td>A .Kipper</td>\n",
       "      <td>2018.06.04-Ramos.pdf</td>\n",
       "      <td>http://sharkattackfile.net/spreadsheets/pdf_di...</td>\n",
       "      <td>http://sharkattackfile.net/spreadsheets/pdf_di...</td>\n",
       "      <td>2018.06.04</td>\n",
       "      <td>2018.06.04</td>\n",
       "      <td>6299.0</td>\n",
       "      <td>Not provided</td>\n",
       "      <td>Not provided</td>\n",
       "    </tr>\n",
       "  </tbody>\n",
       "</table>\n",
       "<p>5 rows × 24 columns</p>\n",
       "</div>"
      ],
      "text/plain": [
       "   Id         Date    Year        Type    Country             Area  \\\n",
       "0   1  25-Jun-2018  2018.0     Boating        USA       California   \n",
       "1   2  18-Jun-2018  2018.0  Unprovoked        USA          Georgia   \n",
       "2   3  09-Jun-2018  2018.0     Invalid        USA           Hawaii   \n",
       "3   4  08-Jun-2018  2018.0  Unprovoked  AUSTRALIA  New South Wales   \n",
       "4   5  04-Jun-2018  2018.0    Provoked     MEXICO           Colima   \n",
       "\n",
       "                         Location     Activity             Name Sex   ...  \\\n",
       "0     Oceanside, San Diego County     Paddling      Julie Wolfe    F  ...   \n",
       "1  St. Simon Island, Glynn County     Standing  Adyson McNeely     F  ...   \n",
       "2                    Habush, Oahu      Surfing      John Denges    M  ...   \n",
       "3              Arrawarra Headland      Surfing             male    M  ...   \n",
       "4                        La Ticla  Free diving   Gustavo Ramos     M  ...   \n",
       "\n",
       "          Species           Investigator or Source                       pdf  \\\n",
       "0      White shark                R. Collier, GSAF      2018.06.25-Wolfe.pdf   \n",
       "1              NaN  K.McMurray, TrackingSharks.com    2018.06.18-McNeely.pdf   \n",
       "2              NaN  K.McMurray, TrackingSharks.com     2018.06.09-Denges.pdf   \n",
       "3        2 m shark                  B. Myatt, GSAF  2018.06.08-Arrawarra.pdf   \n",
       "4  Tiger shark, 3m                       A .Kipper      2018.06.04-Ramos.pdf   \n",
       "\n",
       "                                        href formula  \\\n",
       "0  http://sharkattackfile.net/spreadsheets/pdf_di...   \n",
       "1  http://sharkattackfile.net/spreadsheets/pdf_di...   \n",
       "2  http://sharkattackfile.net/spreadsheets/pdf_di...   \n",
       "3  http://sharkattackfile.net/spreadsheets/pdf_di...   \n",
       "4  http://sharkattackfile.net/spreadsheets/pdf_di...   \n",
       "\n",
       "                                                href Case Number.1  \\\n",
       "0  http://sharkattackfile.net/spreadsheets/pdf_di...    2018.06.25   \n",
       "1  http://sharkattackfile.net/spreadsheets/pdf_di...    2018.06.18   \n",
       "2  http://sharkattackfile.net/spreadsheets/pdf_di...    2018.06.09   \n",
       "3  http://sharkattackfile.net/spreadsheets/pdf_di...    2018.06.08   \n",
       "4  http://sharkattackfile.net/spreadsheets/pdf_di...    2018.06.04   \n",
       "\n",
       "  Case Number.2 original order Additional Info        Others  \n",
       "0    2018.06.25         6303.0    Not provided  Not provided  \n",
       "1    2018.06.18         6302.0    Not provided  Not provided  \n",
       "2    2018.06.09         6301.0    Not provided  Not provided  \n",
       "3    2018.06.08         6300.0    Not provided  Not provided  \n",
       "4    2018.06.04         6299.0    Not provided  Not provided  \n",
       "\n",
       "[5 rows x 24 columns]"
      ]
     },
     "execution_count": 15,
     "metadata": {},
     "output_type": "execute_result"
    }
   ],
   "source": [
    "df.head(5)"
   ]
  },
  {
   "cell_type": "code",
   "execution_count": 16,
   "metadata": {},
   "outputs": [],
   "source": [
    "df['Year']=df['Year'].fillna(0)"
   ]
  },
  {
   "cell_type": "code",
   "execution_count": 17,
   "metadata": {
    "scrolled": true
   },
   "outputs": [
    {
     "name": "stdout",
     "output_type": "stream",
     "text": [
      "<class 'pandas.core.frame.DataFrame'>\n",
      "Int64Index: 6302 entries, 0 to 6301\n",
      "Data columns (total 24 columns):\n",
      " #   Column                  Non-Null Count  Dtype  \n",
      "---  ------                  --------------  -----  \n",
      " 0   Id                      6302 non-null   int32  \n",
      " 1   Date                    6302 non-null   object \n",
      " 2   Year                    6302 non-null   float64\n",
      " 3   Type                    6298 non-null   object \n",
      " 4   Country                 6252 non-null   object \n",
      " 5   Area                    5847 non-null   object \n",
      " 6   Location                5762 non-null   object \n",
      " 7   Activity                5758 non-null   object \n",
      " 8   Name                    6092 non-null   object \n",
      " 9   Sex                     5737 non-null   object \n",
      " 10  Age                     3471 non-null   object \n",
      " 11  Injury                  6274 non-null   object \n",
      " 12  Fatal (Y/N)             5763 non-null   object \n",
      " 13  Time                    2948 non-null   object \n",
      " 14  Species                 3464 non-null   object \n",
      " 15  Investigator or Source  6285 non-null   object \n",
      " 16  pdf                     6302 non-null   object \n",
      " 17  href formula            6301 non-null   object \n",
      " 18  href                    6302 non-null   object \n",
      " 19  Case Number.1           6302 non-null   object \n",
      " 20  Case Number.2           6302 non-null   object \n",
      " 21  original order          6302 non-null   float64\n",
      " 22  Additional Info         6302 non-null   object \n",
      " 23  Others                  6302 non-null   object \n",
      "dtypes: float64(2), int32(1), object(21)\n",
      "memory usage: 1.2+ MB\n"
     ]
    }
   ],
   "source": [
    "df.info()"
   ]
  },
  {
   "cell_type": "code",
   "execution_count": 18,
   "metadata": {
    "scrolled": false
   },
   "outputs": [],
   "source": [
    "df.Year=df.Year.astype(int) "
   ]
  },
  {
   "cell_type": "code",
   "execution_count": 19,
   "metadata": {
    "scrolled": true
   },
   "outputs": [
    {
     "data": {
      "text/plain": [
       "array(['Boating', 'Unprovoked', 'Invalid', 'Provoked', 'Questionable',\n",
       "       'Sea Disaster', nan, 'Boat', 'Boatomg'], dtype=object)"
      ]
     },
     "execution_count": 19,
     "metadata": {},
     "output_type": "execute_result"
    }
   ],
   "source": [
    "df['Type'].unique()"
   ]
  },
  {
   "cell_type": "code",
   "execution_count": 20,
   "metadata": {
    "scrolled": true
   },
   "outputs": [],
   "source": [
    "df['Type']=df['Type'].fillna('Unknown')"
   ]
  },
  {
   "cell_type": "code",
   "execution_count": 21,
   "metadata": {},
   "outputs": [],
   "source": [
    "df.replace({'Type':'Unkown'},'Unknown',inplace=True)\n"
   ]
  },
  {
   "cell_type": "code",
   "execution_count": 22,
   "metadata": {},
   "outputs": [
    {
     "data": {
      "text/plain": [
       "array(['Boating', 'Unprovoked', 'Invalid', 'Provoked', 'Questionable',\n",
       "       'Sea Disaster', 'Unknown', 'Boat', 'Boatomg'], dtype=object)"
      ]
     },
     "execution_count": 22,
     "metadata": {},
     "output_type": "execute_result"
    }
   ],
   "source": [
    "df['Type'].unique()"
   ]
  },
  {
   "cell_type": "code",
   "execution_count": 23,
   "metadata": {
    "scrolled": true
   },
   "outputs": [],
   "source": [
    "df.replace({'Type': r'^Boa.$'}, {'Type': 'Boating'}, regex=True, inplace=True)"
   ]
  },
  {
   "cell_type": "code",
   "execution_count": 24,
   "metadata": {},
   "outputs": [
    {
     "data": {
      "text/plain": [
       "array(['Boating', 'Unprovoked', 'Invalid', 'Provoked', 'Questionable',\n",
       "       'Sea Disaster', 'Unknown', 'Boatomg'], dtype=object)"
      ]
     },
     "execution_count": 24,
     "metadata": {},
     "output_type": "execute_result"
    }
   ],
   "source": [
    "df['Type'].unique()"
   ]
  },
  {
   "cell_type": "code",
   "execution_count": 25,
   "metadata": {},
   "outputs": [],
   "source": [
    "df.replace({'Type':'Boatomg'},'Boating',inplace=True)"
   ]
  },
  {
   "cell_type": "code",
   "execution_count": 26,
   "metadata": {
    "scrolled": true
   },
   "outputs": [
    {
     "data": {
      "text/plain": [
       "array(['Boating', 'Unprovoked', 'Invalid', 'Provoked', 'Questionable',\n",
       "       'Sea Disaster', 'Unknown'], dtype=object)"
      ]
     },
     "execution_count": 26,
     "metadata": {},
     "output_type": "execute_result"
    }
   ],
   "source": [
    "df['Type'].unique()"
   ]
  },
  {
   "cell_type": "code",
   "execution_count": 27,
   "metadata": {},
   "outputs": [],
   "source": [
    "df.replace({'Type': 'Invalid'},'Unknown',inplace=True)"
   ]
  },
  {
   "cell_type": "code",
   "execution_count": 28,
   "metadata": {},
   "outputs": [
    {
     "data": {
      "text/plain": [
       "array(['Boating', 'Unprovoked', 'Unknown', 'Provoked', 'Questionable',\n",
       "       'Sea Disaster'], dtype=object)"
      ]
     },
     "execution_count": 28,
     "metadata": {},
     "output_type": "execute_result"
    }
   ],
   "source": [
    "df['Type'].unique()"
   ]
  },
  {
   "cell_type": "code",
   "execution_count": 29,
   "metadata": {},
   "outputs": [],
   "source": [
    "df.replace({'Type':'Sea Disaster'},'Unprovoked',inplace=True)\n",
    "#a sea disaster is not considered as provoked by the victim"
   ]
  },
  {
   "cell_type": "code",
   "execution_count": 30,
   "metadata": {},
   "outputs": [
    {
     "data": {
      "text/plain": [
       "Unprovoked      4834\n",
       "Provoked         574\n",
       "Unknown          551\n",
       "Boating          341\n",
       "Questionable       2\n",
       "Name: Type, dtype: int64"
      ]
     },
     "execution_count": 30,
     "metadata": {},
     "output_type": "execute_result"
    }
   ],
   "source": [
    "df['Type'].value_counts()"
   ]
  },
  {
   "cell_type": "code",
   "execution_count": 31,
   "metadata": {},
   "outputs": [
    {
     "data": {
      "text/html": [
       "<div>\n",
       "<style scoped>\n",
       "    .dataframe tbody tr th:only-of-type {\n",
       "        vertical-align: middle;\n",
       "    }\n",
       "\n",
       "    .dataframe tbody tr th {\n",
       "        vertical-align: top;\n",
       "    }\n",
       "\n",
       "    .dataframe thead th {\n",
       "        text-align: right;\n",
       "    }\n",
       "</style>\n",
       "<table border=\"1\" class=\"dataframe\">\n",
       "  <thead>\n",
       "    <tr style=\"text-align: right;\">\n",
       "      <th></th>\n",
       "      <th>Id</th>\n",
       "      <th>Date</th>\n",
       "      <th>Year</th>\n",
       "      <th>Type</th>\n",
       "      <th>Country</th>\n",
       "      <th>Area</th>\n",
       "      <th>Location</th>\n",
       "      <th>Activity</th>\n",
       "      <th>Name</th>\n",
       "      <th>Sex</th>\n",
       "      <th>...</th>\n",
       "      <th>Species</th>\n",
       "      <th>Investigator or Source</th>\n",
       "      <th>pdf</th>\n",
       "      <th>href formula</th>\n",
       "      <th>href</th>\n",
       "      <th>Case Number.1</th>\n",
       "      <th>Case Number.2</th>\n",
       "      <th>original order</th>\n",
       "      <th>Additional Info</th>\n",
       "      <th>Others</th>\n",
       "    </tr>\n",
       "  </thead>\n",
       "  <tbody>\n",
       "    <tr>\n",
       "      <th>16</th>\n",
       "      <td>17</td>\n",
       "      <td>09-May-2018</td>\n",
       "      <td>2018</td>\n",
       "      <td>Questionable</td>\n",
       "      <td>AUSTRALIA</td>\n",
       "      <td>New South Wales</td>\n",
       "      <td>Sharpes Beach, Ballina</td>\n",
       "      <td>Surfing</td>\n",
       "      <td>male</td>\n",
       "      <td>M</td>\n",
       "      <td>...</td>\n",
       "      <td>Shark involvement not confirmed</td>\n",
       "      <td>B. Myatt, GSAF</td>\n",
       "      <td>2018.05.09-SharpesBeach.pdf</td>\n",
       "      <td>http://sharkattackfile.net/spreadsheets/pdf_di...</td>\n",
       "      <td>http://sharkattackfile.net/spreadsheets/pdf_di...</td>\n",
       "      <td>2018.05.09</td>\n",
       "      <td>2018.05.09</td>\n",
       "      <td>6287.0</td>\n",
       "      <td>Not provided</td>\n",
       "      <td>Not provided</td>\n",
       "    </tr>\n",
       "    <tr>\n",
       "      <th>20</th>\n",
       "      <td>21</td>\n",
       "      <td>25-Apr-2018</td>\n",
       "      <td>2018</td>\n",
       "      <td>Questionable</td>\n",
       "      <td>AUSTRALIA</td>\n",
       "      <td>New South Wales</td>\n",
       "      <td>Lennox Head</td>\n",
       "      <td>Surfing</td>\n",
       "      <td>Matthew Lee</td>\n",
       "      <td>M</td>\n",
       "      <td>...</td>\n",
       "      <td>Questionable</td>\n",
       "      <td>B. Myatt, GSAF</td>\n",
       "      <td>2018.04.25.b-Lee.pdf</td>\n",
       "      <td>http://sharkattackfile.net/spreadsheets/pdf_di...</td>\n",
       "      <td>http://sharkattackfile.net/spreadsheets/pdf_di...</td>\n",
       "      <td>2018.04.25.b</td>\n",
       "      <td>2018.04.25.b</td>\n",
       "      <td>6283.0</td>\n",
       "      <td>Not provided</td>\n",
       "      <td>Not provided</td>\n",
       "    </tr>\n",
       "  </tbody>\n",
       "</table>\n",
       "<p>2 rows × 24 columns</p>\n",
       "</div>"
      ],
      "text/plain": [
       "    Id         Date  Year          Type    Country             Area  \\\n",
       "16  17  09-May-2018  2018  Questionable  AUSTRALIA  New South Wales   \n",
       "20  21  25-Apr-2018  2018  Questionable  AUSTRALIA  New South Wales   \n",
       "\n",
       "                  Location Activity         Name Sex   ...  \\\n",
       "16  Sharpes Beach, Ballina  Surfing         male    M  ...   \n",
       "20             Lennox Head  Surfing  Matthew Lee    M  ...   \n",
       "\n",
       "                           Species  Investigator or Source  \\\n",
       "16  Shark involvement not confirmed         B. Myatt, GSAF   \n",
       "20                     Questionable         B. Myatt, GSAF   \n",
       "\n",
       "                            pdf  \\\n",
       "16  2018.05.09-SharpesBeach.pdf   \n",
       "20         2018.04.25.b-Lee.pdf   \n",
       "\n",
       "                                         href formula  \\\n",
       "16  http://sharkattackfile.net/spreadsheets/pdf_di...   \n",
       "20  http://sharkattackfile.net/spreadsheets/pdf_di...   \n",
       "\n",
       "                                                 href Case Number.1  \\\n",
       "16  http://sharkattackfile.net/spreadsheets/pdf_di...    2018.05.09   \n",
       "20  http://sharkattackfile.net/spreadsheets/pdf_di...  2018.04.25.b   \n",
       "\n",
       "   Case Number.2 original order Additional Info        Others  \n",
       "16    2018.05.09         6287.0    Not provided  Not provided  \n",
       "20  2018.04.25.b         6283.0    Not provided  Not provided  \n",
       "\n",
       "[2 rows x 24 columns]"
      ]
     },
     "execution_count": 31,
     "metadata": {},
     "output_type": "execute_result"
    }
   ],
   "source": [
    "df.loc[df['Type']=='Questionable']\n",
    "#2 questionables practicing surfing not enough info so coulb be classified as unkown"
   ]
  },
  {
   "cell_type": "code",
   "execution_count": 32,
   "metadata": {},
   "outputs": [],
   "source": [
    "df.replace({'Type':'Questionable'},'Unknown',inplace=True)"
   ]
  },
  {
   "cell_type": "code",
   "execution_count": 33,
   "metadata": {},
   "outputs": [
    {
     "data": {
      "text/html": [
       "<div>\n",
       "<style scoped>\n",
       "    .dataframe tbody tr th:only-of-type {\n",
       "        vertical-align: middle;\n",
       "    }\n",
       "\n",
       "    .dataframe tbody tr th {\n",
       "        vertical-align: top;\n",
       "    }\n",
       "\n",
       "    .dataframe thead th {\n",
       "        text-align: right;\n",
       "    }\n",
       "</style>\n",
       "<table border=\"1\" class=\"dataframe\">\n",
       "  <thead>\n",
       "    <tr style=\"text-align: right;\">\n",
       "      <th></th>\n",
       "      <th>Id</th>\n",
       "      <th>Date</th>\n",
       "      <th>Year</th>\n",
       "      <th>Type</th>\n",
       "      <th>Country</th>\n",
       "      <th>Area</th>\n",
       "      <th>Location</th>\n",
       "      <th>Activity</th>\n",
       "      <th>Name</th>\n",
       "      <th>Sex</th>\n",
       "      <th>...</th>\n",
       "      <th>Species</th>\n",
       "      <th>Investigator or Source</th>\n",
       "      <th>pdf</th>\n",
       "      <th>href formula</th>\n",
       "      <th>href</th>\n",
       "      <th>Case Number.1</th>\n",
       "      <th>Case Number.2</th>\n",
       "      <th>original order</th>\n",
       "      <th>Additional Info</th>\n",
       "      <th>Others</th>\n",
       "    </tr>\n",
       "  </thead>\n",
       "  <tbody>\n",
       "    <tr>\n",
       "      <th>62</th>\n",
       "      <td>63</td>\n",
       "      <td>Reported 13-Nov-2017</td>\n",
       "      <td>2017</td>\n",
       "      <td>Unprovoked</td>\n",
       "      <td>NaN</td>\n",
       "      <td>NaN</td>\n",
       "      <td>NaN</td>\n",
       "      <td>Surfing</td>\n",
       "      <td>Timur Yunusov</td>\n",
       "      <td>M</td>\n",
       "      <td>...</td>\n",
       "      <td>NaN</td>\n",
       "      <td>Instagram</td>\n",
       "      <td>2017.11.13.R-Timur.pdf</td>\n",
       "      <td>http://sharkattackfile.net/spreadsheets/pdf_di...</td>\n",
       "      <td>http://sharkattackfile.net/spreadsheets/pdf_di...</td>\n",
       "      <td>2017.11.13.R</td>\n",
       "      <td>2017.11.13.R</td>\n",
       "      <td>6241.0</td>\n",
       "      <td>Not provided</td>\n",
       "      <td>Not provided</td>\n",
       "    </tr>\n",
       "    <tr>\n",
       "      <th>525</th>\n",
       "      <td>526</td>\n",
       "      <td>Aug-2014</td>\n",
       "      <td>2014</td>\n",
       "      <td>Unknown</td>\n",
       "      <td>NaN</td>\n",
       "      <td>NaN</td>\n",
       "      <td>NaN</td>\n",
       "      <td>Sea disaster</td>\n",
       "      <td>Cuban refugees</td>\n",
       "      <td>M</td>\n",
       "      <td>...</td>\n",
       "      <td>Shark involvement not confirmed</td>\n",
       "      <td>Associated Press, 11/27/2014</td>\n",
       "      <td>2014.08.00-Cuban-refugees.pdf</td>\n",
       "      <td>http://sharkattackfile.net/spreadsheets/pdf_di...</td>\n",
       "      <td>http://sharkattackfile.net/spreadsheets/pdf_di...</td>\n",
       "      <td>2014.08.00</td>\n",
       "      <td>2014.08.00</td>\n",
       "      <td>5778.0</td>\n",
       "      <td>Not provided</td>\n",
       "      <td>Not provided</td>\n",
       "    </tr>\n",
       "    <tr>\n",
       "      <th>2956</th>\n",
       "      <td>2957</td>\n",
       "      <td>Ca. 1983</td>\n",
       "      <td>1983</td>\n",
       "      <td>Unprovoked</td>\n",
       "      <td>NaN</td>\n",
       "      <td>English Channel</td>\n",
       "      <td>NaN</td>\n",
       "      <td>Swimming</td>\n",
       "      <td>Padma Shri Taranath Narayan Shenoy</td>\n",
       "      <td>M</td>\n",
       "      <td>...</td>\n",
       "      <td>NaN</td>\n",
       "      <td>Times of India, 2/5/2012</td>\n",
       "      <td>1983.00.00.d-Shenoy.pdf</td>\n",
       "      <td>http://sharkattackfile.net/spreadsheets/pdf_di...</td>\n",
       "      <td>http://sharkattackfile.net/spreadsheets/pdf_di...</td>\n",
       "      <td>1983.00.00.d</td>\n",
       "      <td>1983.00.00.d</td>\n",
       "      <td>3347.0</td>\n",
       "      <td>Not provided</td>\n",
       "      <td>Not provided</td>\n",
       "    </tr>\n",
       "    <tr>\n",
       "      <th>3378</th>\n",
       "      <td>3379</td>\n",
       "      <td>Nov-1970</td>\n",
       "      <td>1970</td>\n",
       "      <td>Unprovoked</td>\n",
       "      <td>NaN</td>\n",
       "      <td>NaN</td>\n",
       "      <td>NaN</td>\n",
       "      <td>NaN</td>\n",
       "      <td>Heinz Plotsky</td>\n",
       "      <td>M</td>\n",
       "      <td>...</td>\n",
       "      <td>NaN</td>\n",
       "      <td>H.D. Baldridge (1994), SAF Case #1645</td>\n",
       "      <td>1970.11.00-NV-Plotsky.pdf</td>\n",
       "      <td>http://sharkattackfile.net/spreadsheets/pdf_di...</td>\n",
       "      <td>http://sharkattackfile.net/spreadsheets/pdf_di...</td>\n",
       "      <td>1970.11.00</td>\n",
       "      <td>1970.11.00</td>\n",
       "      <td>2925.0</td>\n",
       "      <td>Not provided</td>\n",
       "      <td>Not provided</td>\n",
       "    </tr>\n",
       "    <tr>\n",
       "      <th>3387</th>\n",
       "      <td>3388</td>\n",
       "      <td>02-Aug-1970</td>\n",
       "      <td>1970</td>\n",
       "      <td>Unknown</td>\n",
       "      <td>NaN</td>\n",
       "      <td>Caribbean Sea</td>\n",
       "      <td>Between St. Kitts &amp; Nevis</td>\n",
       "      <td>Sea Disaster Sinking of ferryboat Christina</td>\n",
       "      <td>NaN</td>\n",
       "      <td>NaN</td>\n",
       "      <td>...</td>\n",
       "      <td>Shark involvement prior to death was not confi...</td>\n",
       "      <td>Rome News Tribune, 8/3/1970</td>\n",
       "      <td>1970.08.02-Christina-ferryboat.pdf</td>\n",
       "      <td>http://sharkattackfile.net/spreadsheets/pdf_di...</td>\n",
       "      <td>http://sharkattackfile.net/spreadsheets/pdf_di...</td>\n",
       "      <td>1970.08.02</td>\n",
       "      <td>1970.08.02</td>\n",
       "      <td>2916.0</td>\n",
       "      <td>Not provided</td>\n",
       "      <td>Not provided</td>\n",
       "    </tr>\n",
       "    <tr>\n",
       "      <th>3388</th>\n",
       "      <td>3389</td>\n",
       "      <td>5-Jul-1970</td>\n",
       "      <td>1970</td>\n",
       "      <td>Unprovoked</td>\n",
       "      <td>NaN</td>\n",
       "      <td>NaN</td>\n",
       "      <td>NaN</td>\n",
       "      <td>NaN</td>\n",
       "      <td>male</td>\n",
       "      <td>M</td>\n",
       "      <td>...</td>\n",
       "      <td>Mako shark</td>\n",
       "      <td>H.D. Baldridge (1994), SAF Case #1628</td>\n",
       "      <td>1970.07.05-NV-male.pdf</td>\n",
       "      <td>http://sharkattackfile.net/spreadsheets/pdf_di...</td>\n",
       "      <td>http://sharkattackfile.net/spreadsheets/pdf_di...</td>\n",
       "      <td>1970.07.05</td>\n",
       "      <td>1970.07.05</td>\n",
       "      <td>2915.0</td>\n",
       "      <td>Not provided</td>\n",
       "      <td>Not provided</td>\n",
       "    </tr>\n",
       "    <tr>\n",
       "      <th>3395</th>\n",
       "      <td>3396</td>\n",
       "      <td>Apr-1970</td>\n",
       "      <td>1970</td>\n",
       "      <td>Provoked</td>\n",
       "      <td>NaN</td>\n",
       "      <td>NaN</td>\n",
       "      <td>NaN</td>\n",
       "      <td>Freediving</td>\n",
       "      <td>Lionel Jarvis</td>\n",
       "      <td>M</td>\n",
       "      <td>...</td>\n",
       "      <td>Wobbegong shark</td>\n",
       "      <td>H.D. Baldridge (1994), SAF Case #1616</td>\n",
       "      <td>1970.04.00.b-NV-Jarvis.pdf</td>\n",
       "      <td>http://sharkattackfile.net/spreadsheets/pdf_di...</td>\n",
       "      <td>http://sharkattackfile.net/spreadsheets/pdf_di...</td>\n",
       "      <td>1970.04.00.b</td>\n",
       "      <td>1970.04.00.b</td>\n",
       "      <td>2908.0</td>\n",
       "      <td>Not provided</td>\n",
       "      <td>Not provided</td>\n",
       "    </tr>\n",
       "    <tr>\n",
       "      <th>3399</th>\n",
       "      <td>3400</td>\n",
       "      <td>5-Feb-1970</td>\n",
       "      <td>1970</td>\n",
       "      <td>Unprovoked</td>\n",
       "      <td>NaN</td>\n",
       "      <td>NaN</td>\n",
       "      <td>NaN</td>\n",
       "      <td>Wading</td>\n",
       "      <td>Sally Anne Irvine</td>\n",
       "      <td>F</td>\n",
       "      <td>...</td>\n",
       "      <td>Carpet shark</td>\n",
       "      <td>H.D. Baldridge (1994) SAF Case #1626</td>\n",
       "      <td>1970.02.05-NV-Irvine.pdf</td>\n",
       "      <td>http://sharkattackfile.net/spreadsheets/pdf_di...</td>\n",
       "      <td>http://sharkattackfile.net/spreadsheets/pdf_di...</td>\n",
       "      <td>1970.02.05</td>\n",
       "      <td>1970.02.05</td>\n",
       "      <td>2904.0</td>\n",
       "      <td>Not provided</td>\n",
       "      <td>Not provided</td>\n",
       "    </tr>\n",
       "    <tr>\n",
       "      <th>3425</th>\n",
       "      <td>3426</td>\n",
       "      <td>Aug-1969</td>\n",
       "      <td>1969</td>\n",
       "      <td>Unprovoked</td>\n",
       "      <td>NaN</td>\n",
       "      <td>NaN</td>\n",
       "      <td>NaN</td>\n",
       "      <td>NaN</td>\n",
       "      <td>Rodney Hughes</td>\n",
       "      <td>M</td>\n",
       "      <td>...</td>\n",
       "      <td>NaN</td>\n",
       "      <td>H.D. Baldridge (1994) SAF Case #1602</td>\n",
       "      <td>1969.08.00-NV-Hughes.pdf</td>\n",
       "      <td>http://sharkattackfile.net/spreadsheets/pdf_di...</td>\n",
       "      <td>http://sharkattackfile.net/spreadsheets/pdf_di...</td>\n",
       "      <td>1969.08.00</td>\n",
       "      <td>1969.08.00</td>\n",
       "      <td>2878.0</td>\n",
       "      <td>Not provided</td>\n",
       "      <td>Not provided</td>\n",
       "    </tr>\n",
       "    <tr>\n",
       "      <th>3605</th>\n",
       "      <td>3606</td>\n",
       "      <td>21-Oct-1965</td>\n",
       "      <td>1965</td>\n",
       "      <td>Unprovoked</td>\n",
       "      <td>NaN</td>\n",
       "      <td>NaN</td>\n",
       "      <td>Florida Strait</td>\n",
       "      <td>The boat Caribou II sank</td>\n",
       "      <td>Mario Castellanos</td>\n",
       "      <td>M</td>\n",
       "      <td>...</td>\n",
       "      <td>NaN</td>\n",
       "      <td>Lodi News Sentinel, 10/30/1965</td>\n",
       "      <td>1965.10.21-Castellanos.pdf</td>\n",
       "      <td>http://sharkattackfile.net/spreadsheets/pdf_di...</td>\n",
       "      <td>http://sharkattackfile.net/spreadsheets/pdf_di...</td>\n",
       "      <td>1965.10.21</td>\n",
       "      <td>1965.10.21</td>\n",
       "      <td>2698.0</td>\n",
       "      <td>Not provided</td>\n",
       "      <td>Not provided</td>\n",
       "    </tr>\n",
       "    <tr>\n",
       "      <th>3661</th>\n",
       "      <td>3662</td>\n",
       "      <td>27-Sep-1964</td>\n",
       "      <td>1964</td>\n",
       "      <td>Unknown</td>\n",
       "      <td>NaN</td>\n",
       "      <td>NaN</td>\n",
       "      <td>NaN</td>\n",
       "      <td>Spearfishing</td>\n",
       "      <td>Giancarlo Griffon</td>\n",
       "      <td>M</td>\n",
       "      <td>...</td>\n",
       "      <td>Shark involvement prior to death was not confi...</td>\n",
       "      <td>C. Moore. GSAF</td>\n",
       "      <td>1964.09.27-Griffon.pdf</td>\n",
       "      <td>http://sharkattackfile.net/spreadsheets/pdf_di...</td>\n",
       "      <td>http://sharkattackfile.net/spreadsheets/pdf_di...</td>\n",
       "      <td>1964.09.27</td>\n",
       "      <td>1964.09.27</td>\n",
       "      <td>2642.0</td>\n",
       "      <td>Not provided</td>\n",
       "      <td>Not provided</td>\n",
       "    </tr>\n",
       "    <tr>\n",
       "      <th>4018</th>\n",
       "      <td>4019</td>\n",
       "      <td>26-Jan-1960</td>\n",
       "      <td>1960</td>\n",
       "      <td>Unprovoked</td>\n",
       "      <td>NaN</td>\n",
       "      <td>Between Timor &amp; Darwin, Australia</td>\n",
       "      <td>NaN</td>\n",
       "      <td>Portuguese Airliner with 9 people aboard went ...</td>\n",
       "      <td>NaN</td>\n",
       "      <td>NaN</td>\n",
       "      <td>...</td>\n",
       "      <td>NaN</td>\n",
       "      <td>V.M. Coppleson (1962), p.260</td>\n",
       "      <td>1960.01.26-Portuguese airliner.pdf</td>\n",
       "      <td>http://sharkattackfile.net/spreadsheets/pdf_di...</td>\n",
       "      <td>http://sharkattackfile.net/spreadsheets/pdf_di...</td>\n",
       "      <td>1960.01.26</td>\n",
       "      <td>1960.01.26</td>\n",
       "      <td>2285.0</td>\n",
       "      <td>Not provided</td>\n",
       "      <td>Not provided</td>\n",
       "    </tr>\n",
       "    <tr>\n",
       "      <th>4231</th>\n",
       "      <td>4232</td>\n",
       "      <td>13-Sep-1956</td>\n",
       "      <td>1956</td>\n",
       "      <td>Unprovoked</td>\n",
       "      <td>NaN</td>\n",
       "      <td>Near the Andaman &amp; Nicobar Islands</td>\n",
       "      <td>NaN</td>\n",
       "      <td>Climbing back on ship</td>\n",
       "      <td>male</td>\n",
       "      <td>M</td>\n",
       "      <td>...</td>\n",
       "      <td>Blue shark</td>\n",
       "      <td>M. Hosina</td>\n",
       "      <td>1956.09.13-TunaBoat.pdf</td>\n",
       "      <td>http://sharkattackfile.net/spreadsheets/pdf_di...</td>\n",
       "      <td>http://sharkattackfile.net/spreadsheets/pdf_di...</td>\n",
       "      <td>1956.09.13</td>\n",
       "      <td>1956.09.13</td>\n",
       "      <td>2072.0</td>\n",
       "      <td>Not provided</td>\n",
       "      <td>Not provided</td>\n",
       "    </tr>\n",
       "    <tr>\n",
       "      <th>4266</th>\n",
       "      <td>4267</td>\n",
       "      <td>1956</td>\n",
       "      <td>1956</td>\n",
       "      <td>Unprovoked</td>\n",
       "      <td>NaN</td>\n",
       "      <td>Between Comores &amp; Madagascar</td>\n",
       "      <td>Geyser Bank</td>\n",
       "      <td>Shipwreck</td>\n",
       "      <td>Captain Eric Hunt, the cook &amp; a French passenger</td>\n",
       "      <td>M</td>\n",
       "      <td>...</td>\n",
       "      <td>NaN</td>\n",
       "      <td>dinofish.com</td>\n",
       "      <td>1956.00.00.g-Capt-Hunt.pdf</td>\n",
       "      <td>http://sharkattackfile.net/spreadsheets/pdf_di...</td>\n",
       "      <td>http://sharkattackfile.net/spreadsheets/pdf_di...</td>\n",
       "      <td>1956.00.00.g</td>\n",
       "      <td>1956.00.00.g</td>\n",
       "      <td>2037.0</td>\n",
       "      <td>Not provided</td>\n",
       "      <td>Not provided</td>\n",
       "    </tr>\n",
       "    <tr>\n",
       "      <th>4498</th>\n",
       "      <td>4499</td>\n",
       "      <td>Dec-1949</td>\n",
       "      <td>1949</td>\n",
       "      <td>Unprovoked</td>\n",
       "      <td>NaN</td>\n",
       "      <td>Caribbean Sea</td>\n",
       "      <td>Between  Cuba  &amp; Costa Rica</td>\n",
       "      <td>Sea Disaster, sinking of the motorship Wingate</td>\n",
       "      <td>Albert Battles, James Dean &amp; 4 crew</td>\n",
       "      <td>M</td>\n",
       "      <td>...</td>\n",
       "      <td>Shark involvement not confirmed</td>\n",
       "      <td>Canberra Times, 1/6/1950</td>\n",
       "      <td>1949.12.00.b-Wingate.pdf</td>\n",
       "      <td>http://sharkattackfile.net/spreadsheets/pdf_di...</td>\n",
       "      <td>http://sharkattackfile.net/spreadsheets/pdf_di...</td>\n",
       "      <td>1949.12.00.b</td>\n",
       "      <td>1949.12.00.b</td>\n",
       "      <td>1805.0</td>\n",
       "      <td>Not provided</td>\n",
       "      <td>Not provided</td>\n",
       "    </tr>\n",
       "    <tr>\n",
       "      <th>4639</th>\n",
       "      <td>4640</td>\n",
       "      <td>24-Oct-1944</td>\n",
       "      <td>1944</td>\n",
       "      <td>Unprovoked</td>\n",
       "      <td>NaN</td>\n",
       "      <td>NaN</td>\n",
       "      <td>225 miles east of Hong Kong</td>\n",
       "      <td>Japanese POW ship Arisan Maru with 1800 Americ...</td>\n",
       "      <td>NaN</td>\n",
       "      <td>M</td>\n",
       "      <td>...</td>\n",
       "      <td>NaN</td>\n",
       "      <td>internet (multiple)</td>\n",
       "      <td>1944.10.24-ArisanMaru.pdf</td>\n",
       "      <td>http://sharkattackfile.net/spreadsheets/pdf_di...</td>\n",
       "      <td>http://sharkattackfile.net/spreadsheets/pdf_di...</td>\n",
       "      <td>1944.10.24</td>\n",
       "      <td>1944.10.24</td>\n",
       "      <td>1664.0</td>\n",
       "      <td>Not provided</td>\n",
       "      <td>Not provided</td>\n",
       "    </tr>\n",
       "    <tr>\n",
       "      <th>4700</th>\n",
       "      <td>4701</td>\n",
       "      <td>Nov-1942</td>\n",
       "      <td>1942</td>\n",
       "      <td>Unprovoked</td>\n",
       "      <td>NaN</td>\n",
       "      <td>Off South American coast</td>\n",
       "      <td>NaN</td>\n",
       "      <td>Dutch merchant ship Zaandam torpedoed  by the ...</td>\n",
       "      <td>NaN</td>\n",
       "      <td>M</td>\n",
       "      <td>...</td>\n",
       "      <td>NaN</td>\n",
       "      <td>M.  Murphy; V.M. Coppleson (1962), pp.207-208</td>\n",
       "      <td>1942.11.00.a-Izzi.pdf</td>\n",
       "      <td>http://sharkattackfile.net/spreadsheets/pdf_di...</td>\n",
       "      <td>http://sharkattackfile.net/spreadsheets/pdf_di...</td>\n",
       "      <td>1942.11.00.a</td>\n",
       "      <td>1942.11.00.a</td>\n",
       "      <td>1603.0</td>\n",
       "      <td>Not provided</td>\n",
       "      <td>Not provided</td>\n",
       "    </tr>\n",
       "    <tr>\n",
       "      <th>4712</th>\n",
       "      <td>4713</td>\n",
       "      <td>Jun-1942</td>\n",
       "      <td>1942</td>\n",
       "      <td>Unprovoked</td>\n",
       "      <td>NaN</td>\n",
       "      <td>300 miles east of St. Thomas (Virgin Islands)</td>\n",
       "      <td>NaN</td>\n",
       "      <td>On life raft tethered to lifeboat. A seaman pu...</td>\n",
       "      <td>male</td>\n",
       "      <td>M</td>\n",
       "      <td>...</td>\n",
       "      <td>NaN</td>\n",
       "      <td>V.M. Coppleson (1962), p.258</td>\n",
       "      <td>1942.06.00-on-life-raft.pdf</td>\n",
       "      <td>http://sharkattackfile.net/spreadsheets/pdf_di...</td>\n",
       "      <td>http://sharkattackfile.net/spreadsheets/pdf_di...</td>\n",
       "      <td>1942.06.00</td>\n",
       "      <td>1942.06.00</td>\n",
       "      <td>1591.0</td>\n",
       "      <td>Not provided</td>\n",
       "      <td>Not provided</td>\n",
       "    </tr>\n",
       "    <tr>\n",
       "      <th>4726</th>\n",
       "      <td>4727</td>\n",
       "      <td>1942</td>\n",
       "      <td>1942</td>\n",
       "      <td>Unprovoked</td>\n",
       "      <td>NaN</td>\n",
       "      <td>NaN</td>\n",
       "      <td>NaN</td>\n",
       "      <td>Jumped overboard from torpedoed Panamanian fre...</td>\n",
       "      <td>male</td>\n",
       "      <td>M</td>\n",
       "      <td>...</td>\n",
       "      <td>NaN</td>\n",
       "      <td>V.M. Coppleson (1962), p.258</td>\n",
       "      <td>1942.00.00.e-seaman.pdf</td>\n",
       "      <td>http://sharkattackfile.net/spreadsheets/pdf_di...</td>\n",
       "      <td>http://sharkattackfile.net/spreadsheets/pdf_di...</td>\n",
       "      <td>1942.00.00.e</td>\n",
       "      <td>1942.00.00.e</td>\n",
       "      <td>1577.0</td>\n",
       "      <td>Not provided</td>\n",
       "      <td>Not provided</td>\n",
       "    </tr>\n",
       "    <tr>\n",
       "      <th>4729</th>\n",
       "      <td>4730</td>\n",
       "      <td>1942</td>\n",
       "      <td>1942</td>\n",
       "      <td>Boating</td>\n",
       "      <td>NaN</td>\n",
       "      <td>NaN</td>\n",
       "      <td>NaN</td>\n",
       "      <td>Days before the surrender of Singapore, the 3 ...</td>\n",
       "      <td>Bombardier J. Hall, Private Green of the Sherw...</td>\n",
       "      <td>M</td>\n",
       "      <td>...</td>\n",
       "      <td>NaN</td>\n",
       "      <td>V.M. Coppleson (1962), p.206</td>\n",
       "      <td>1942.00.00.b-Hall-Green-Jennings.pdf</td>\n",
       "      <td>http://sharkattackfile.net/spreadsheets/pdf_di...</td>\n",
       "      <td>http://sharkattackfile.net/spreadsheets/pdf_di...</td>\n",
       "      <td>1942.00.00.b</td>\n",
       "      <td>1942.00.00.b</td>\n",
       "      <td>1574.0</td>\n",
       "      <td>Not provided</td>\n",
       "      <td>Not provided</td>\n",
       "    </tr>\n",
       "    <tr>\n",
       "      <th>4911</th>\n",
       "      <td>4912</td>\n",
       "      <td>Reported 12-Apr-1935</td>\n",
       "      <td>1935</td>\n",
       "      <td>Unprovoked</td>\n",
       "      <td>NaN</td>\n",
       "      <td>NaN</td>\n",
       "      <td>NaN</td>\n",
       "      <td>Diving</td>\n",
       "      <td>Pearl Purdy Scott</td>\n",
       "      <td>F</td>\n",
       "      <td>...</td>\n",
       "      <td>NaN</td>\n",
       "      <td>Port Arthur News, 4/12/1935</td>\n",
       "      <td>1935.04.12.R-PearlPurdyScott.pdf</td>\n",
       "      <td>http://sharkattackfile.net/spreadsheets/pdf_di...</td>\n",
       "      <td>http://sharkattackfile.net/spreadsheets/pdf_di...</td>\n",
       "      <td>1935.04.12.R</td>\n",
       "      <td>1935.04.12.R</td>\n",
       "      <td>1392.0</td>\n",
       "      <td>Not provided</td>\n",
       "      <td>Not provided</td>\n",
       "    </tr>\n",
       "    <tr>\n",
       "      <th>5020</th>\n",
       "      <td>5021</td>\n",
       "      <td>Reported 27-Apr-1931</td>\n",
       "      <td>1931</td>\n",
       "      <td>Unprovoked</td>\n",
       "      <td>NaN</td>\n",
       "      <td>French Southern Territories</td>\n",
       "      <td>Île Saint-Paul</td>\n",
       "      <td>Fishing, boat capsized</td>\n",
       "      <td>Quillezic</td>\n",
       "      <td>M</td>\n",
       "      <td>...</td>\n",
       "      <td>NaN</td>\n",
       "      <td>Los Angeles Times, 4/27/1931</td>\n",
       "      <td>1931.04.27.R-Quillezic.pdf</td>\n",
       "      <td>http://sharkattackfile.net/spreadsheets/pdf_di...</td>\n",
       "      <td>http://sharkattackfile.net/spreadsheets/pdf_di...</td>\n",
       "      <td>1931.04.27.R</td>\n",
       "      <td>1931.04.27.R</td>\n",
       "      <td>1283.0</td>\n",
       "      <td>Not provided</td>\n",
       "      <td>Not provided</td>\n",
       "    </tr>\n",
       "    <tr>\n",
       "      <th>5060</th>\n",
       "      <td>5061</td>\n",
       "      <td>Reported 09-Dec-1929</td>\n",
       "      <td>1929</td>\n",
       "      <td>Unprovoked</td>\n",
       "      <td>NaN</td>\n",
       "      <td>NaN</td>\n",
       "      <td>NaN</td>\n",
       "      <td>NaN</td>\n",
       "      <td>Thomas Duggan</td>\n",
       "      <td>M</td>\n",
       "      <td>...</td>\n",
       "      <td>NaN</td>\n",
       "      <td>The Age, 12/9/1929</td>\n",
       "      <td>1929.12.09.R-Duggan.pdf</td>\n",
       "      <td>http://sharkattackfile.net/spreadsheets/pdf_di...</td>\n",
       "      <td>http://sharkattackfile.net/spreadsheets/pdf_di...</td>\n",
       "      <td>1929.12.09.R</td>\n",
       "      <td>1929.12.09.R</td>\n",
       "      <td>1243.0</td>\n",
       "      <td>Not provided</td>\n",
       "      <td>Not provided</td>\n",
       "    </tr>\n",
       "    <tr>\n",
       "      <th>5425</th>\n",
       "      <td>5426</td>\n",
       "      <td>17-Jan-1909</td>\n",
       "      <td>1909</td>\n",
       "      <td>Unknown</td>\n",
       "      <td>NaN</td>\n",
       "      <td>NaN</td>\n",
       "      <td>Near the equator</td>\n",
       "      <td>Jumped overboard</td>\n",
       "      <td>Thomas Butler</td>\n",
       "      <td>M</td>\n",
       "      <td>...</td>\n",
       "      <td>Questionable</td>\n",
       "      <td>Star, 3/18/1909</td>\n",
       "      <td>1909.01.17-Butler.pdf</td>\n",
       "      <td>http://sharkattackfile.net/spreadsheets/pdf_di...</td>\n",
       "      <td>http://sharkattackfile.net/spreadsheets/pdf_di...</td>\n",
       "      <td>1909.01.17</td>\n",
       "      <td>1909.01.17</td>\n",
       "      <td>878.0</td>\n",
       "      <td>Not provided</td>\n",
       "      <td>Not provided</td>\n",
       "    </tr>\n",
       "    <tr>\n",
       "      <th>5586</th>\n",
       "      <td>5587</td>\n",
       "      <td>Reported 19-Sep-1898</td>\n",
       "      <td>1898</td>\n",
       "      <td>Unprovoked</td>\n",
       "      <td>NaN</td>\n",
       "      <td>NaN</td>\n",
       "      <td>NaN</td>\n",
       "      <td>Diving</td>\n",
       "      <td>Halletts</td>\n",
       "      <td>M</td>\n",
       "      <td>...</td>\n",
       "      <td>NaN</td>\n",
       "      <td>Lincoln Evening News &amp; Daily Call, 9/19/1898</td>\n",
       "      <td>1898.09.19.b.R-Halletts.pdf</td>\n",
       "      <td>http://sharkattackfile.net/spreadsheets/pdf_di...</td>\n",
       "      <td>http://sharkattackfile.net/spreadsheets/pdf_di...</td>\n",
       "      <td>1898.09.19.b.R</td>\n",
       "      <td>1898.09.19.b.R</td>\n",
       "      <td>717.0</td>\n",
       "      <td>Not provided</td>\n",
       "      <td>Not provided</td>\n",
       "    </tr>\n",
       "    <tr>\n",
       "      <th>5587</th>\n",
       "      <td>5588</td>\n",
       "      <td>Reported 19-Sep-1898</td>\n",
       "      <td>1898</td>\n",
       "      <td>Unprovoked</td>\n",
       "      <td>NaN</td>\n",
       "      <td>NaN</td>\n",
       "      <td>NaN</td>\n",
       "      <td>Diving</td>\n",
       "      <td>male</td>\n",
       "      <td>M</td>\n",
       "      <td>...</td>\n",
       "      <td>NaN</td>\n",
       "      <td>Lincoln Evening News &amp; Daily Call, 9/19/1898</td>\n",
       "      <td>1898.09.19.a.R.Sully.pdf</td>\n",
       "      <td>http://sharkattackfile.net/spreadsheets/pdf_di...</td>\n",
       "      <td>http://sharkattackfile.net/spreadsheets/pdf_di...</td>\n",
       "      <td>1898.09.19.a.R</td>\n",
       "      <td>1898.09.19.a.R</td>\n",
       "      <td>716.0</td>\n",
       "      <td>Not provided</td>\n",
       "      <td>Not provided</td>\n",
       "    </tr>\n",
       "    <tr>\n",
       "      <th>5612</th>\n",
       "      <td>5613</td>\n",
       "      <td>Reported 15-Mar-1897</td>\n",
       "      <td>1897</td>\n",
       "      <td>Unprovoked</td>\n",
       "      <td>NaN</td>\n",
       "      <td>Mediterranean Sea</td>\n",
       "      <td>NaN</td>\n",
       "      <td>Swimming</td>\n",
       "      <td>male</td>\n",
       "      <td>M</td>\n",
       "      <td>...</td>\n",
       "      <td>NaN</td>\n",
       "      <td>Daily Northwestern, 5/15/1897</td>\n",
       "      <td>1897.03.15.b.R-Mediterranean.pdf</td>\n",
       "      <td>http://sharkattackfile.net/spreadsheets/pdf_di...</td>\n",
       "      <td>http://sharkattackfile.net/spreadsheets/pdf_di...</td>\n",
       "      <td>1897.03.15.b.R</td>\n",
       "      <td>1897.03.15.b.R</td>\n",
       "      <td>691.0</td>\n",
       "      <td>Not provided</td>\n",
       "      <td>Not provided</td>\n",
       "    </tr>\n",
       "    <tr>\n",
       "      <th>5636</th>\n",
       "      <td>5637</td>\n",
       "      <td>Reported 13-Jun-1895</td>\n",
       "      <td>1895</td>\n",
       "      <td>Unprovoked</td>\n",
       "      <td>NaN</td>\n",
       "      <td>NaN</td>\n",
       "      <td>NaN</td>\n",
       "      <td>Diving</td>\n",
       "      <td>Marsh</td>\n",
       "      <td>M</td>\n",
       "      <td>...</td>\n",
       "      <td>NaN</td>\n",
       "      <td>Lima Times, 6/13/1895</td>\n",
       "      <td>1895.06.13.R-EnglishDiver.pdf</td>\n",
       "      <td>http://sharkattackfile.net/spreadsheets/pdf_di...</td>\n",
       "      <td>http://sharkattackfile.net/spreadsheets/pdf_di...</td>\n",
       "      <td>1895.06.13.R</td>\n",
       "      <td>1895.06.13.R</td>\n",
       "      <td>667.0</td>\n",
       "      <td>Not provided</td>\n",
       "      <td>Not provided</td>\n",
       "    </tr>\n",
       "    <tr>\n",
       "      <th>5742</th>\n",
       "      <td>5743</td>\n",
       "      <td>30-Jul-1887</td>\n",
       "      <td>1887</td>\n",
       "      <td>Unprovoked</td>\n",
       "      <td>NaN</td>\n",
       "      <td>Gulf of California</td>\n",
       "      <td>NaN</td>\n",
       "      <td>Sea disaster, wreck of the sloop Sara</td>\n",
       "      <td>2 males</td>\n",
       "      <td>M</td>\n",
       "      <td>...</td>\n",
       "      <td>NaN</td>\n",
       "      <td>Austin Weekly Statesman, 8/11/1887</td>\n",
       "      <td>1887.07.30-TheSara.pdf</td>\n",
       "      <td>http://sharkattackfile.net/spreadsheets/pdf_di...</td>\n",
       "      <td>http://sharkattackfile.net/spreadsheets/pdf_di...</td>\n",
       "      <td>1887.07.30</td>\n",
       "      <td>1887.07.30</td>\n",
       "      <td>561.0</td>\n",
       "      <td>Not provided</td>\n",
       "      <td>Not provided</td>\n",
       "    </tr>\n",
       "    <tr>\n",
       "      <th>5770</th>\n",
       "      <td>5771</td>\n",
       "      <td>Reported 16-Apr-1885</td>\n",
       "      <td>1885</td>\n",
       "      <td>Unprovoked</td>\n",
       "      <td>NaN</td>\n",
       "      <td>NaN</td>\n",
       "      <td>NaN</td>\n",
       "      <td>Swimming</td>\n",
       "      <td>2 males</td>\n",
       "      <td>M</td>\n",
       "      <td>...</td>\n",
       "      <td>NaN</td>\n",
       "      <td>Gleaner (Jamaica), 4/16/1885</td>\n",
       "      <td>1885.04.16.R-GermanShip.pdf</td>\n",
       "      <td>http://sharkattackfile.net/spreadsheets/pdf_di...</td>\n",
       "      <td>http://sharkattackfile.net/spreadsheets/pdf_di...</td>\n",
       "      <td>1885.04.16.R</td>\n",
       "      <td>1885.04.16.R</td>\n",
       "      <td>533.0</td>\n",
       "      <td>Not provided</td>\n",
       "      <td>Not provided</td>\n",
       "    </tr>\n",
       "    <tr>\n",
       "      <th>5808</th>\n",
       "      <td>5809</td>\n",
       "      <td>Reported 16-Aug-1881</td>\n",
       "      <td>1881</td>\n",
       "      <td>Unprovoked</td>\n",
       "      <td>NaN</td>\n",
       "      <td>Western Banks</td>\n",
       "      <td>NaN</td>\n",
       "      <td>Floating, holding onto an oar after dory capsized</td>\n",
       "      <td>George Sedgwick</td>\n",
       "      <td>M</td>\n",
       "      <td>...</td>\n",
       "      <td>NaN</td>\n",
       "      <td>Lewiston Evening Journal, 8/16/1881</td>\n",
       "      <td>1881.08.16.R-Sedgwick.pdf</td>\n",
       "      <td>http://sharkattackfile.net/spreadsheets/pdf_di...</td>\n",
       "      <td>http://sharkattackfile.net/spreadsheets/pdf_di...</td>\n",
       "      <td>1881.08.16.R</td>\n",
       "      <td>1881.08.16.R</td>\n",
       "      <td>495.0</td>\n",
       "      <td>Not provided</td>\n",
       "      <td>Not provided</td>\n",
       "    </tr>\n",
       "    <tr>\n",
       "      <th>5810</th>\n",
       "      <td>5811</td>\n",
       "      <td>25-Jul-1881</td>\n",
       "      <td>1881</td>\n",
       "      <td>Unprovoked</td>\n",
       "      <td>NaN</td>\n",
       "      <td>NaN</td>\n",
       "      <td>Santa Cruz</td>\n",
       "      <td>Bathing</td>\n",
       "      <td>Father Hudson</td>\n",
       "      <td>M</td>\n",
       "      <td>...</td>\n",
       "      <td>NaN</td>\n",
       "      <td>Grey River Argus,10/3/1881, p.2</td>\n",
       "      <td>1881.06.25-FatherHudson.pdf</td>\n",
       "      <td>http://sharkattackfile.net/spreadsheets/pdf_di...</td>\n",
       "      <td>http://sharkattackfile.net/spreadsheets/pdf_di...</td>\n",
       "      <td>1881.06.25</td>\n",
       "      <td>1881.06.25</td>\n",
       "      <td>493.0</td>\n",
       "      <td>Not provided</td>\n",
       "      <td>Not provided</td>\n",
       "    </tr>\n",
       "    <tr>\n",
       "      <th>5839</th>\n",
       "      <td>5840</td>\n",
       "      <td>13-Oct-1878</td>\n",
       "      <td>1878</td>\n",
       "      <td>Unprovoked</td>\n",
       "      <td>NaN</td>\n",
       "      <td>NaN</td>\n",
       "      <td>NaN</td>\n",
       "      <td>Jumped overboard after murdering 2 shipmates</td>\n",
       "      <td>Sherrington</td>\n",
       "      <td>M</td>\n",
       "      <td>...</td>\n",
       "      <td>NaN</td>\n",
       "      <td>The Maitland Mercury &amp; Hunter River General Ad...</td>\n",
       "      <td>1878.10.13-Sherrington.pdf</td>\n",
       "      <td>http://sharkattackfile.net/spreadsheets/pdf_di...</td>\n",
       "      <td>http://sharkattackfile.net/spreadsheets/pdf_di...</td>\n",
       "      <td>1878.10.13</td>\n",
       "      <td>1878.10.13</td>\n",
       "      <td>464.0</td>\n",
       "      <td>Not provided</td>\n",
       "      <td>Not provided</td>\n",
       "    </tr>\n",
       "    <tr>\n",
       "      <th>5885</th>\n",
       "      <td>5886</td>\n",
       "      <td>Reported 15-Jun-1874</td>\n",
       "      <td>1874</td>\n",
       "      <td>Unprovoked</td>\n",
       "      <td>NaN</td>\n",
       "      <td>NaN</td>\n",
       "      <td>NaN</td>\n",
       "      <td>Salvaging a shipwreck</td>\n",
       "      <td>male</td>\n",
       "      <td>M</td>\n",
       "      <td>...</td>\n",
       "      <td>NaN</td>\n",
       "      <td>Daily Southern Cross, 6/15/1874</td>\n",
       "      <td>1874.06.15.a.R-Achilles-tendon.pdf</td>\n",
       "      <td>http://sharkattackfile.net/spreadsheets/pdf_di...</td>\n",
       "      <td>http://sharkattackfile.net/spreadsheets/pdf_di...</td>\n",
       "      <td>1874.06.15.a.R</td>\n",
       "      <td>1874.06.15.a.R</td>\n",
       "      <td>418.0</td>\n",
       "      <td>Not provided</td>\n",
       "      <td>Not provided</td>\n",
       "    </tr>\n",
       "    <tr>\n",
       "      <th>5920</th>\n",
       "      <td>5921</td>\n",
       "      <td>10-Apr-1869</td>\n",
       "      <td>1869</td>\n",
       "      <td>Unknown</td>\n",
       "      <td>NaN</td>\n",
       "      <td>NaN</td>\n",
       "      <td>NaN</td>\n",
       "      <td>Fell overboard</td>\n",
       "      <td>Christian Frederick</td>\n",
       "      <td>M</td>\n",
       "      <td>...</td>\n",
       "      <td>Shark involvement prior to death unconfirmed</td>\n",
       "      <td>Nelson Examiner &amp; New Zealand Chronicle, 4/24/...</td>\n",
       "      <td>1869.04.10-Frederick.pdf</td>\n",
       "      <td>http://sharkattackfile.net/spreadsheets/pdf_di...</td>\n",
       "      <td>http://sharkattackfile.net/spreadsheets/pdf_di...</td>\n",
       "      <td>1869.04.10</td>\n",
       "      <td>1869.04.10</td>\n",
       "      <td>383.0</td>\n",
       "      <td>Not provided</td>\n",
       "      <td>Not provided</td>\n",
       "    </tr>\n",
       "    <tr>\n",
       "      <th>5996</th>\n",
       "      <td>5997</td>\n",
       "      <td>Reported 20-Nov-1856</td>\n",
       "      <td>1856</td>\n",
       "      <td>Unprovoked</td>\n",
       "      <td>NaN</td>\n",
       "      <td>NaN</td>\n",
       "      <td>NaN</td>\n",
       "      <td>Swimming</td>\n",
       "      <td>Cornelius Conhlren</td>\n",
       "      <td>M</td>\n",
       "      <td>...</td>\n",
       "      <td>NaN</td>\n",
       "      <td>Pacific Commercial Advertiser, 11/20/1856</td>\n",
       "      <td>1856.11.20.R-Conhlren.pdf</td>\n",
       "      <td>http://sharkattackfile.net/spreadsheets/pdf_di...</td>\n",
       "      <td>http://sharkattackfile.net/spreadsheets/pdf_di...</td>\n",
       "      <td>1856.11.20.R</td>\n",
       "      <td>1856.11.20.R</td>\n",
       "      <td>307.0</td>\n",
       "      <td>Not provided</td>\n",
       "      <td>Not provided</td>\n",
       "    </tr>\n",
       "    <tr>\n",
       "      <th>6001</th>\n",
       "      <td>6002</td>\n",
       "      <td>28-Jul-1855</td>\n",
       "      <td>1855</td>\n",
       "      <td>Unprovoked</td>\n",
       "      <td>NaN</td>\n",
       "      <td>NaN</td>\n",
       "      <td>NaN</td>\n",
       "      <td>Bathing</td>\n",
       "      <td>a young boy, one of the crew of the Post Boy</td>\n",
       "      <td>M</td>\n",
       "      <td>...</td>\n",
       "      <td>NaN</td>\n",
       "      <td>Maitland Mercury, 8/25/1855</td>\n",
       "      <td>1855.07.28-PostBoy-sailors.pdf</td>\n",
       "      <td>http://sharkattackfile.net/spreadsheets/pdf_di...</td>\n",
       "      <td>http://sharkattackfile.net/spreadsheets/pdf_di...</td>\n",
       "      <td>1855.07.28</td>\n",
       "      <td>1855.07.28</td>\n",
       "      <td>302.0</td>\n",
       "      <td>Not provided</td>\n",
       "      <td>Not provided</td>\n",
       "    </tr>\n",
       "    <tr>\n",
       "      <th>6092</th>\n",
       "      <td>6093</td>\n",
       "      <td>Reported 22-Apr-1830</td>\n",
       "      <td>1830</td>\n",
       "      <td>Unprovoked</td>\n",
       "      <td>NaN</td>\n",
       "      <td>NaN</td>\n",
       "      <td>NaN</td>\n",
       "      <td>NaN</td>\n",
       "      <td>Jose</td>\n",
       "      <td>M</td>\n",
       "      <td>...</td>\n",
       "      <td>NaN</td>\n",
       "      <td>The Torchlight &amp; Public Advertiser, 4/22/1830</td>\n",
       "      <td>1830.04.22.R-Jose.pdf</td>\n",
       "      <td>http://sharkattackfile.net/spreadsheets/pdf_di...</td>\n",
       "      <td>http://sharkattackfile.net/spreadsheets/pdf_di...</td>\n",
       "      <td>1830.04.22.R</td>\n",
       "      <td>1830.04.22.R</td>\n",
       "      <td>211.0</td>\n",
       "      <td>Not provided</td>\n",
       "      <td>Not provided</td>\n",
       "    </tr>\n",
       "    <tr>\n",
       "      <th>6119</th>\n",
       "      <td>6120</td>\n",
       "      <td>01-Mar-1811</td>\n",
       "      <td>1811</td>\n",
       "      <td>Unprovoked</td>\n",
       "      <td>NaN</td>\n",
       "      <td>NaN</td>\n",
       "      <td>NaN</td>\n",
       "      <td>Fell overboard</td>\n",
       "      <td>John Walker</td>\n",
       "      <td>M</td>\n",
       "      <td>...</td>\n",
       "      <td>NaN</td>\n",
       "      <td>Journal of Captain Marryat</td>\n",
       "      <td>1811.03.01-John-Walker.pdf</td>\n",
       "      <td>http://sharkattackfile.net/spreadsheets/pdf_di...</td>\n",
       "      <td>http://sharkattackfile.net/spreadsheets/pdf_di...</td>\n",
       "      <td>1811.03.01</td>\n",
       "      <td>1811.03.01</td>\n",
       "      <td>184.0</td>\n",
       "      <td>Not provided</td>\n",
       "      <td>Not provided</td>\n",
       "    </tr>\n",
       "    <tr>\n",
       "      <th>6131</th>\n",
       "      <td>6132</td>\n",
       "      <td>Reported 18-Dec-1801</td>\n",
       "      <td>1801</td>\n",
       "      <td>Provoked</td>\n",
       "      <td>NaN</td>\n",
       "      <td>NaN</td>\n",
       "      <td>NaN</td>\n",
       "      <td>Standing on landed shark's tail</td>\n",
       "      <td>Stephen Pettigew</td>\n",
       "      <td>N</td>\n",
       "      <td>...</td>\n",
       "      <td>12' shark</td>\n",
       "      <td>The Evening Post, 12/18/1801</td>\n",
       "      <td>1801.12.18.R-Pettigrew.pdf</td>\n",
       "      <td>http://sharkattackfile.net/spreadsheets/pdf_di...</td>\n",
       "      <td>http://sharkattackfile.net/spreadsheets/pdf_di...</td>\n",
       "      <td>1801.12.18.R</td>\n",
       "      <td>1801.12.18.R</td>\n",
       "      <td>172.0</td>\n",
       "      <td>Not provided</td>\n",
       "      <td>Not provided</td>\n",
       "    </tr>\n",
       "    <tr>\n",
       "      <th>6133</th>\n",
       "      <td>6134</td>\n",
       "      <td>Reported May-28-1797</td>\n",
       "      <td>1797</td>\n",
       "      <td>Unprovoked</td>\n",
       "      <td>NaN</td>\n",
       "      <td>NaN</td>\n",
       "      <td>NaN</td>\n",
       "      <td>Dropped overboard</td>\n",
       "      <td>child</td>\n",
       "      <td>NaN</td>\n",
       "      <td>...</td>\n",
       "      <td>NaN</td>\n",
       "      <td>The Observer 5/28/1797</td>\n",
       "      <td>1797.05.28.R-Cloverdale.pdf</td>\n",
       "      <td>http://sharkattackfile.net/spreadsheets/pdf_di...</td>\n",
       "      <td>http://sharkattackfile.net/spreadsheets/pdf_di...</td>\n",
       "      <td>1797.05.28.R</td>\n",
       "      <td>1797.05.28.R</td>\n",
       "      <td>170.0</td>\n",
       "      <td>Not provided</td>\n",
       "      <td>Not provided</td>\n",
       "    </tr>\n",
       "    <tr>\n",
       "      <th>6137</th>\n",
       "      <td>6138</td>\n",
       "      <td>05-Jul-1787</td>\n",
       "      <td>1787</td>\n",
       "      <td>Unprovoked</td>\n",
       "      <td>NaN</td>\n",
       "      <td>St Helena</td>\n",
       "      <td>Landing Place</td>\n",
       "      <td>Swimming</td>\n",
       "      <td>Private Isaac Hicksled</td>\n",
       "      <td>M</td>\n",
       "      <td>...</td>\n",
       "      <td>NaN</td>\n",
       "      <td>H.R. Janisch (1885), Extracts from the St. Hel...</td>\n",
       "      <td>1787.07.05-Hicksled.pdf</td>\n",
       "      <td>http://sharkattackfile.net/spreadsheets/pdf_di...</td>\n",
       "      <td>http://sharkattackfile.net/spreadsheets/pdf_di...</td>\n",
       "      <td>1787.07.05</td>\n",
       "      <td>1787.07.05</td>\n",
       "      <td>166.0</td>\n",
       "      <td>Not provided</td>\n",
       "      <td>Not provided</td>\n",
       "    </tr>\n",
       "    <tr>\n",
       "      <th>6155</th>\n",
       "      <td>6156</td>\n",
       "      <td>17-Dec-1742</td>\n",
       "      <td>1742</td>\n",
       "      <td>Unprovoked</td>\n",
       "      <td>NaN</td>\n",
       "      <td>NaN</td>\n",
       "      <td>Carlisle Bay</td>\n",
       "      <td>Swimming</td>\n",
       "      <td>2 impressed seamen</td>\n",
       "      <td>M</td>\n",
       "      <td>...</td>\n",
       "      <td>NaN</td>\n",
       "      <td>C. Moore, GSAF</td>\n",
       "      <td>1742.12.17-AdviceSeamen.pdf</td>\n",
       "      <td>http://sharkattackfile.net/spreadsheets/pdf_di...</td>\n",
       "      <td>http://sharkattackfile.net/spreadsheets/pdf_di...</td>\n",
       "      <td>1742.12.17</td>\n",
       "      <td>1742.12.17</td>\n",
       "      <td>148.0</td>\n",
       "      <td>Not provided</td>\n",
       "      <td>Not provided</td>\n",
       "    </tr>\n",
       "    <tr>\n",
       "      <th>6165</th>\n",
       "      <td>6166</td>\n",
       "      <td>Reported 1638</td>\n",
       "      <td>1638</td>\n",
       "      <td>Unprovoked</td>\n",
       "      <td>NaN</td>\n",
       "      <td>NaN</td>\n",
       "      <td>NaN</td>\n",
       "      <td>NaN</td>\n",
       "      <td>sailors</td>\n",
       "      <td>M</td>\n",
       "      <td>...</td>\n",
       "      <td>NaN</td>\n",
       "      <td>Sir Thomas Herbert</td>\n",
       "      <td>1638.00.00.R-Herbert</td>\n",
       "      <td>http://sharkattackfile.net/spreadsheets/pdf_di...</td>\n",
       "      <td>http://sharkattackfile.net/spreadsheets/pdf_di...</td>\n",
       "      <td>1638.00.00.R</td>\n",
       "      <td>1638.00.00.R</td>\n",
       "      <td>138.0</td>\n",
       "      <td>Not provided</td>\n",
       "      <td>Not provided</td>\n",
       "    </tr>\n",
       "    <tr>\n",
       "      <th>6171</th>\n",
       "      <td>6172</td>\n",
       "      <td>1555</td>\n",
       "      <td>1555</td>\n",
       "      <td>Unprovoked</td>\n",
       "      <td>NaN</td>\n",
       "      <td>NaN</td>\n",
       "      <td>NaN</td>\n",
       "      <td>Swimming</td>\n",
       "      <td>male</td>\n",
       "      <td>M</td>\n",
       "      <td>...</td>\n",
       "      <td>NaN</td>\n",
       "      <td>Olaus Magnus</td>\n",
       "      <td>1555.00.00 - Olaus Magnus.pdf</td>\n",
       "      <td>http://sharkattackfile.net/spreadsheets/pdf_di...</td>\n",
       "      <td>http://sharkattackfile.net/spreadsheets/pdf_di...</td>\n",
       "      <td>1555.00.00</td>\n",
       "      <td>1555.00.00</td>\n",
       "      <td>132.0</td>\n",
       "      <td>Not provided</td>\n",
       "      <td>Not provided</td>\n",
       "    </tr>\n",
       "    <tr>\n",
       "      <th>6175</th>\n",
       "      <td>6176</td>\n",
       "      <td>77  A.D.</td>\n",
       "      <td>77</td>\n",
       "      <td>Unprovoked</td>\n",
       "      <td>NaN</td>\n",
       "      <td>Ionian Sea</td>\n",
       "      <td>NaN</td>\n",
       "      <td>Sponge diving</td>\n",
       "      <td>males</td>\n",
       "      <td>M</td>\n",
       "      <td>...</td>\n",
       "      <td>NaN</td>\n",
       "      <td>Perils mentioned by Pliny the Elder (23 A.D. t...</td>\n",
       "      <td>77AD-Pliny.pdf</td>\n",
       "      <td>http://sharkattackfile.net/spreadsheets/pdf_di...</td>\n",
       "      <td>http://sharkattackfile.net/spreadsheets/pdf_di...</td>\n",
       "      <td>0077.00.00</td>\n",
       "      <td>0077.00.00</td>\n",
       "      <td>128.0</td>\n",
       "      <td>Not provided</td>\n",
       "      <td>Not provided</td>\n",
       "    </tr>\n",
       "    <tr>\n",
       "      <th>6177</th>\n",
       "      <td>6178</td>\n",
       "      <td>Ca. 214 B.C.</td>\n",
       "      <td>0</td>\n",
       "      <td>Unprovoked</td>\n",
       "      <td>NaN</td>\n",
       "      <td>Ionian Sea</td>\n",
       "      <td>NaN</td>\n",
       "      <td>Ascending from a dive</td>\n",
       "      <td>Tharsys, a sponge diver</td>\n",
       "      <td>M</td>\n",
       "      <td>...</td>\n",
       "      <td>NaN</td>\n",
       "      <td>Reported by Greek poet, Leonidas of Tarentum (...</td>\n",
       "      <td>214BC-Tharsys.pdf</td>\n",
       "      <td>http://sharkattackfile.net/spreadsheets/pdf_di...</td>\n",
       "      <td>http://sharkattackfile.net/spreadsheets/pdf_di...</td>\n",
       "      <td>0000.0214</td>\n",
       "      <td>0000.0214</td>\n",
       "      <td>126.0</td>\n",
       "      <td>Not provided</td>\n",
       "      <td>Not provided</td>\n",
       "    </tr>\n",
       "    <tr>\n",
       "      <th>6199</th>\n",
       "      <td>6200</td>\n",
       "      <td>Before 2011</td>\n",
       "      <td>0</td>\n",
       "      <td>Provoked</td>\n",
       "      <td>NaN</td>\n",
       "      <td>NaN</td>\n",
       "      <td>NaN</td>\n",
       "      <td>NaN</td>\n",
       "      <td>Phillip Peters</td>\n",
       "      <td>M</td>\n",
       "      <td>...</td>\n",
       "      <td>NaN</td>\n",
       "      <td>Watertown Daily Times, 7/8/2011</td>\n",
       "      <td>ND-0124-Peters.pdf</td>\n",
       "      <td>http://sharkattackfile.net/spreadsheets/pdf_di...</td>\n",
       "      <td>http://sharkattackfile.net/spreadsheets/pdf_di...</td>\n",
       "      <td>ND-0124</td>\n",
       "      <td>ND-0124</td>\n",
       "      <td>104.0</td>\n",
       "      <td>Not provided</td>\n",
       "      <td>Not provided</td>\n",
       "    </tr>\n",
       "    <tr>\n",
       "      <th>6206</th>\n",
       "      <td>6207</td>\n",
       "      <td>Before 2012</td>\n",
       "      <td>0</td>\n",
       "      <td>Unprovoked</td>\n",
       "      <td>NaN</td>\n",
       "      <td>NaN</td>\n",
       "      <td>In a river feeding into the Bay of Bengal</td>\n",
       "      <td>Netting shrimp</td>\n",
       "      <td>Sametra Mestri</td>\n",
       "      <td>F</td>\n",
       "      <td>...</td>\n",
       "      <td>NaN</td>\n",
       "      <td>National Georgraphic Television</td>\n",
       "      <td>ND-0114-BayOfBengal.pdf</td>\n",
       "      <td>http://sharkattackfile.net/spreadsheets/pdf_di...</td>\n",
       "      <td>http://sharkattackfile.net/spreadsheets/pdf_di...</td>\n",
       "      <td>ND-0114</td>\n",
       "      <td>ND-0114</td>\n",
       "      <td>97.0</td>\n",
       "      <td>Not provided</td>\n",
       "      <td>Not provided</td>\n",
       "    </tr>\n",
       "    <tr>\n",
       "      <th>6259</th>\n",
       "      <td>6260</td>\n",
       "      <td>1941-1945</td>\n",
       "      <td>0</td>\n",
       "      <td>Unprovoked</td>\n",
       "      <td>NaN</td>\n",
       "      <td>NaN</td>\n",
       "      <td>NaN</td>\n",
       "      <td>A group of survivors on a raft for 17-days</td>\n",
       "      <td>C.</td>\n",
       "      <td>NaN</td>\n",
       "      <td>...</td>\n",
       "      <td>1.2 m [4'] shark</td>\n",
       "      <td>G.A. Llano in Airmen Against the Sea, p.69</td>\n",
       "      <td>ND-0044-C.pdf</td>\n",
       "      <td>http://sharkattackfile.net/spreadsheets/pdf_di...</td>\n",
       "      <td>http://sharkattackfile.net/spreadsheets/pdf_di...</td>\n",
       "      <td>ND.0044</td>\n",
       "      <td>ND.0044</td>\n",
       "      <td>44.0</td>\n",
       "      <td>Not provided</td>\n",
       "      <td>Not provided</td>\n",
       "    </tr>\n",
       "  </tbody>\n",
       "</table>\n",
       "<p>50 rows × 24 columns</p>\n",
       "</div>"
      ],
      "text/plain": [
       "        Id                  Date  Year        Type Country  \\\n",
       "62      63  Reported 13-Nov-2017  2017  Unprovoked     NaN   \n",
       "525    526              Aug-2014  2014     Unknown     NaN   \n",
       "2956  2957              Ca. 1983  1983  Unprovoked     NaN   \n",
       "3378  3379              Nov-1970  1970  Unprovoked     NaN   \n",
       "3387  3388           02-Aug-1970  1970     Unknown     NaN   \n",
       "3388  3389            5-Jul-1970  1970  Unprovoked     NaN   \n",
       "3395  3396              Apr-1970  1970    Provoked     NaN   \n",
       "3399  3400            5-Feb-1970  1970  Unprovoked     NaN   \n",
       "3425  3426              Aug-1969  1969  Unprovoked     NaN   \n",
       "3605  3606           21-Oct-1965  1965  Unprovoked     NaN   \n",
       "3661  3662           27-Sep-1964  1964     Unknown     NaN   \n",
       "4018  4019           26-Jan-1960  1960  Unprovoked     NaN   \n",
       "4231  4232           13-Sep-1956  1956  Unprovoked     NaN   \n",
       "4266  4267                  1956  1956  Unprovoked     NaN   \n",
       "4498  4499              Dec-1949  1949  Unprovoked     NaN   \n",
       "4639  4640           24-Oct-1944  1944  Unprovoked     NaN   \n",
       "4700  4701              Nov-1942  1942  Unprovoked     NaN   \n",
       "4712  4713              Jun-1942  1942  Unprovoked     NaN   \n",
       "4726  4727                  1942  1942  Unprovoked     NaN   \n",
       "4729  4730                  1942  1942     Boating     NaN   \n",
       "4911  4912  Reported 12-Apr-1935  1935  Unprovoked     NaN   \n",
       "5020  5021  Reported 27-Apr-1931  1931  Unprovoked     NaN   \n",
       "5060  5061  Reported 09-Dec-1929  1929  Unprovoked     NaN   \n",
       "5425  5426           17-Jan-1909  1909     Unknown     NaN   \n",
       "5586  5587  Reported 19-Sep-1898  1898  Unprovoked     NaN   \n",
       "5587  5588  Reported 19-Sep-1898  1898  Unprovoked     NaN   \n",
       "5612  5613  Reported 15-Mar-1897  1897  Unprovoked     NaN   \n",
       "5636  5637  Reported 13-Jun-1895  1895  Unprovoked     NaN   \n",
       "5742  5743           30-Jul-1887  1887  Unprovoked     NaN   \n",
       "5770  5771  Reported 16-Apr-1885  1885  Unprovoked     NaN   \n",
       "5808  5809  Reported 16-Aug-1881  1881  Unprovoked     NaN   \n",
       "5810  5811           25-Jul-1881  1881  Unprovoked     NaN   \n",
       "5839  5840           13-Oct-1878  1878  Unprovoked     NaN   \n",
       "5885  5886  Reported 15-Jun-1874  1874  Unprovoked     NaN   \n",
       "5920  5921           10-Apr-1869  1869     Unknown     NaN   \n",
       "5996  5997  Reported 20-Nov-1856  1856  Unprovoked     NaN   \n",
       "6001  6002           28-Jul-1855  1855  Unprovoked     NaN   \n",
       "6092  6093  Reported 22-Apr-1830  1830  Unprovoked     NaN   \n",
       "6119  6120           01-Mar-1811  1811  Unprovoked     NaN   \n",
       "6131  6132  Reported 18-Dec-1801  1801    Provoked     NaN   \n",
       "6133  6134  Reported May-28-1797  1797  Unprovoked     NaN   \n",
       "6137  6138           05-Jul-1787  1787  Unprovoked     NaN   \n",
       "6155  6156           17-Dec-1742  1742  Unprovoked     NaN   \n",
       "6165  6166         Reported 1638  1638  Unprovoked     NaN   \n",
       "6171  6172                  1555  1555  Unprovoked     NaN   \n",
       "6175  6176              77  A.D.    77  Unprovoked     NaN   \n",
       "6177  6178          Ca. 214 B.C.     0  Unprovoked     NaN   \n",
       "6199  6200           Before 2011     0    Provoked     NaN   \n",
       "6206  6207           Before 2012     0  Unprovoked     NaN   \n",
       "6259  6260             1941-1945     0  Unprovoked     NaN   \n",
       "\n",
       "                                               Area  \\\n",
       "62                                              NaN   \n",
       "525                                             NaN   \n",
       "2956                                English Channel   \n",
       "3378                                            NaN   \n",
       "3387                                  Caribbean Sea   \n",
       "3388                                            NaN   \n",
       "3395                                            NaN   \n",
       "3399                                            NaN   \n",
       "3425                                            NaN   \n",
       "3605                                            NaN   \n",
       "3661                                            NaN   \n",
       "4018              Between Timor & Darwin, Australia   \n",
       "4231             Near the Andaman & Nicobar Islands   \n",
       "4266                   Between Comores & Madagascar   \n",
       "4498                                  Caribbean Sea   \n",
       "4639                                            NaN   \n",
       "4700                       Off South American coast   \n",
       "4712  300 miles east of St. Thomas (Virgin Islands)   \n",
       "4726                                            NaN   \n",
       "4729                                            NaN   \n",
       "4911                                            NaN   \n",
       "5020                    French Southern Territories   \n",
       "5060                                            NaN   \n",
       "5425                                            NaN   \n",
       "5586                                            NaN   \n",
       "5587                                            NaN   \n",
       "5612                              Mediterranean Sea   \n",
       "5636                                            NaN   \n",
       "5742                             Gulf of California   \n",
       "5770                                            NaN   \n",
       "5808                                  Western Banks   \n",
       "5810                                            NaN   \n",
       "5839                                            NaN   \n",
       "5885                                            NaN   \n",
       "5920                                            NaN   \n",
       "5996                                            NaN   \n",
       "6001                                            NaN   \n",
       "6092                                            NaN   \n",
       "6119                                            NaN   \n",
       "6131                                            NaN   \n",
       "6133                                            NaN   \n",
       "6137                                      St Helena   \n",
       "6155                                            NaN   \n",
       "6165                                            NaN   \n",
       "6171                                            NaN   \n",
       "6175                                     Ionian Sea   \n",
       "6177                                     Ionian Sea   \n",
       "6199                                            NaN   \n",
       "6206                                            NaN   \n",
       "6259                                            NaN   \n",
       "\n",
       "                                       Location  \\\n",
       "62                                          NaN   \n",
       "525                                         NaN   \n",
       "2956                                        NaN   \n",
       "3378                                        NaN   \n",
       "3387                  Between St. Kitts & Nevis   \n",
       "3388                                        NaN   \n",
       "3395                                        NaN   \n",
       "3399                                        NaN   \n",
       "3425                                        NaN   \n",
       "3605                             Florida Strait   \n",
       "3661                                        NaN   \n",
       "4018                                        NaN   \n",
       "4231                                        NaN   \n",
       "4266                                Geyser Bank   \n",
       "4498                Between  Cuba  & Costa Rica   \n",
       "4639                225 miles east of Hong Kong   \n",
       "4700                                        NaN   \n",
       "4712                                        NaN   \n",
       "4726                                        NaN   \n",
       "4729                                        NaN   \n",
       "4911                                        NaN   \n",
       "5020                             Île Saint-Paul   \n",
       "5060                                        NaN   \n",
       "5425                           Near the equator   \n",
       "5586                                        NaN   \n",
       "5587                                        NaN   \n",
       "5612                                        NaN   \n",
       "5636                                        NaN   \n",
       "5742                                        NaN   \n",
       "5770                                        NaN   \n",
       "5808                                        NaN   \n",
       "5810                                 Santa Cruz   \n",
       "5839                                        NaN   \n",
       "5885                                        NaN   \n",
       "5920                                        NaN   \n",
       "5996                                        NaN   \n",
       "6001                                        NaN   \n",
       "6092                                        NaN   \n",
       "6119                                        NaN   \n",
       "6131                                        NaN   \n",
       "6133                                        NaN   \n",
       "6137                              Landing Place   \n",
       "6155                               Carlisle Bay   \n",
       "6165                                        NaN   \n",
       "6171                                        NaN   \n",
       "6175                                        NaN   \n",
       "6177                                        NaN   \n",
       "6199                                        NaN   \n",
       "6206  In a river feeding into the Bay of Bengal   \n",
       "6259                                        NaN   \n",
       "\n",
       "                                               Activity  \\\n",
       "62                                              Surfing   \n",
       "525                                        Sea disaster   \n",
       "2956                                           Swimming   \n",
       "3378                                                NaN   \n",
       "3387        Sea Disaster Sinking of ferryboat Christina   \n",
       "3388                                                NaN   \n",
       "3395                                         Freediving   \n",
       "3399                                             Wading   \n",
       "3425                                                NaN   \n",
       "3605                           The boat Caribou II sank   \n",
       "3661                                       Spearfishing   \n",
       "4018  Portuguese Airliner with 9 people aboard went ...   \n",
       "4231                              Climbing back on ship   \n",
       "4266                                          Shipwreck   \n",
       "4498     Sea Disaster, sinking of the motorship Wingate   \n",
       "4639  Japanese POW ship Arisan Maru with 1800 Americ...   \n",
       "4700  Dutch merchant ship Zaandam torpedoed  by the ...   \n",
       "4712  On life raft tethered to lifeboat. A seaman pu...   \n",
       "4726  Jumped overboard from torpedoed Panamanian fre...   \n",
       "4729  Days before the surrender of Singapore, the 3 ...   \n",
       "4911                                             Diving   \n",
       "5020                             Fishing, boat capsized   \n",
       "5060                                                NaN   \n",
       "5425                                  Jumped overboard    \n",
       "5586                                             Diving   \n",
       "5587                                             Diving   \n",
       "5612                                           Swimming   \n",
       "5636                                             Diving   \n",
       "5742              Sea disaster, wreck of the sloop Sara   \n",
       "5770                                           Swimming   \n",
       "5808  Floating, holding onto an oar after dory capsized   \n",
       "5810                                            Bathing   \n",
       "5839       Jumped overboard after murdering 2 shipmates   \n",
       "5885                              Salvaging a shipwreck   \n",
       "5920                                     Fell overboard   \n",
       "5996                                           Swimming   \n",
       "6001                                            Bathing   \n",
       "6092                                                NaN   \n",
       "6119                                     Fell overboard   \n",
       "6131                    Standing on landed shark's tail   \n",
       "6133                                  Dropped overboard   \n",
       "6137                                           Swimming   \n",
       "6155                                           Swimming   \n",
       "6165                                                NaN   \n",
       "6171                                           Swimming   \n",
       "6175                                      Sponge diving   \n",
       "6177                              Ascending from a dive   \n",
       "6199                                                NaN   \n",
       "6206                                     Netting shrimp   \n",
       "6259         A group of survivors on a raft for 17-days   \n",
       "\n",
       "                                                   Name Sex   ...  \\\n",
       "62                                        Timur Yunusov    M  ...   \n",
       "525                                      Cuban refugees    M  ...   \n",
       "2956                 Padma Shri Taranath Narayan Shenoy    M  ...   \n",
       "3378                                      Heinz Plotsky    M  ...   \n",
       "3387                                                NaN  NaN  ...   \n",
       "3388                                               male    M  ...   \n",
       "3395                                      Lionel Jarvis    M  ...   \n",
       "3399                                  Sally Anne Irvine    F  ...   \n",
       "3425                                      Rodney Hughes    M  ...   \n",
       "3605                                  Mario Castellanos    M  ...   \n",
       "3661                                  Giancarlo Griffon    M  ...   \n",
       "4018                                                NaN  NaN  ...   \n",
       "4231                                               male    M  ...   \n",
       "4266   Captain Eric Hunt, the cook & a French passenger    M  ...   \n",
       "4498                Albert Battles, James Dean & 4 crew    M  ...   \n",
       "4639                                                NaN    M  ...   \n",
       "4700                                                NaN    M  ...   \n",
       "4712                                               male    M  ...   \n",
       "4726                                               male    M  ...   \n",
       "4729  Bombardier J. Hall, Private Green of the Sherw...    M  ...   \n",
       "4911                                  Pearl Purdy Scott    F  ...   \n",
       "5020                                          Quillezic    M  ...   \n",
       "5060                                      Thomas Duggan    M  ...   \n",
       "5425                                      Thomas Butler    M  ...   \n",
       "5586                                           Halletts    M  ...   \n",
       "5587                                               male    M  ...   \n",
       "5612                                               male    M  ...   \n",
       "5636                                              Marsh    M  ...   \n",
       "5742                                            2 males    M  ...   \n",
       "5770                                            2 males    M  ...   \n",
       "5808                                    George Sedgwick    M  ...   \n",
       "5810                                      Father Hudson    M  ...   \n",
       "5839                                        Sherrington    M  ...   \n",
       "5885                                               male    M  ...   \n",
       "5920                                Christian Frederick    M  ...   \n",
       "5996                                 Cornelius Conhlren    M  ...   \n",
       "6001       a young boy, one of the crew of the Post Boy    M  ...   \n",
       "6092                                               Jose    M  ...   \n",
       "6119                                        John Walker    M  ...   \n",
       "6131                                   Stephen Pettigew    N  ...   \n",
       "6133                                              child  NaN  ...   \n",
       "6137                             Private Isaac Hicksled    M  ...   \n",
       "6155                                 2 impressed seamen    M  ...   \n",
       "6165                                            sailors    M  ...   \n",
       "6171                                               male    M  ...   \n",
       "6175                                              males    M  ...   \n",
       "6177                            Tharsys, a sponge diver    M  ...   \n",
       "6199                                     Phillip Peters    M  ...   \n",
       "6206                                     Sametra Mestri    F  ...   \n",
       "6259                                                 C.  NaN  ...   \n",
       "\n",
       "                                               Species   \\\n",
       "62                                                  NaN   \n",
       "525                     Shark involvement not confirmed   \n",
       "2956                                                NaN   \n",
       "3378                                                NaN   \n",
       "3387  Shark involvement prior to death was not confi...   \n",
       "3388                                         Mako shark   \n",
       "3395                                   Wobbegong shark    \n",
       "3399                                       Carpet shark   \n",
       "3425                                                NaN   \n",
       "3605                                                NaN   \n",
       "3661  Shark involvement prior to death was not confi...   \n",
       "4018                                                NaN   \n",
       "4231                                         Blue shark   \n",
       "4266                                                NaN   \n",
       "4498                    Shark involvement not confirmed   \n",
       "4639                                                NaN   \n",
       "4700                                                NaN   \n",
       "4712                                                NaN   \n",
       "4726                                                NaN   \n",
       "4729                                                NaN   \n",
       "4911                                                NaN   \n",
       "5020                                                NaN   \n",
       "5060                                                NaN   \n",
       "5425                                       Questionable   \n",
       "5586                                                NaN   \n",
       "5587                                                NaN   \n",
       "5612                                                NaN   \n",
       "5636                                                NaN   \n",
       "5742                                                NaN   \n",
       "5770                                                NaN   \n",
       "5808                                                NaN   \n",
       "5810                                                NaN   \n",
       "5839                                                NaN   \n",
       "5885                                                NaN   \n",
       "5920       Shark involvement prior to death unconfirmed   \n",
       "5996                                                NaN   \n",
       "6001                                                NaN   \n",
       "6092                                                NaN   \n",
       "6119                                                NaN   \n",
       "6131                                          12' shark   \n",
       "6133                                                NaN   \n",
       "6137                                                NaN   \n",
       "6155                                                NaN   \n",
       "6165                                                NaN   \n",
       "6171                                                NaN   \n",
       "6175                                                NaN   \n",
       "6177                                                NaN   \n",
       "6199                                                NaN   \n",
       "6206                                                NaN   \n",
       "6259                                   1.2 m [4'] shark   \n",
       "\n",
       "                                 Investigator or Source  \\\n",
       "62                                            Instagram   \n",
       "525                        Associated Press, 11/27/2014   \n",
       "2956                           Times of India, 2/5/2012   \n",
       "3378              H.D. Baldridge (1994), SAF Case #1645   \n",
       "3387                        Rome News Tribune, 8/3/1970   \n",
       "3388              H.D. Baldridge (1994), SAF Case #1628   \n",
       "3395              H.D. Baldridge (1994), SAF Case #1616   \n",
       "3399               H.D. Baldridge (1994) SAF Case #1626   \n",
       "3425               H.D. Baldridge (1994) SAF Case #1602   \n",
       "3605                     Lodi News Sentinel, 10/30/1965   \n",
       "3661                                     C. Moore. GSAF   \n",
       "4018                       V.M. Coppleson (1962), p.260   \n",
       "4231                                          M. Hosina   \n",
       "4266                                       dinofish.com   \n",
       "4498                           Canberra Times, 1/6/1950   \n",
       "4639                                internet (multiple)   \n",
       "4700      M.  Murphy; V.M. Coppleson (1962), pp.207-208   \n",
       "4712                       V.M. Coppleson (1962), p.258   \n",
       "4726                       V.M. Coppleson (1962), p.258   \n",
       "4729                       V.M. Coppleson (1962), p.206   \n",
       "4911                        Port Arthur News, 4/12/1935   \n",
       "5020                       Los Angeles Times, 4/27/1931   \n",
       "5060                                 The Age, 12/9/1929   \n",
       "5425                                    Star, 3/18/1909   \n",
       "5586       Lincoln Evening News & Daily Call, 9/19/1898   \n",
       "5587       Lincoln Evening News & Daily Call, 9/19/1898   \n",
       "5612                      Daily Northwestern, 5/15/1897   \n",
       "5636                              Lima Times, 6/13/1895   \n",
       "5742                 Austin Weekly Statesman, 8/11/1887   \n",
       "5770                       Gleaner (Jamaica), 4/16/1885   \n",
       "5808                Lewiston Evening Journal, 8/16/1881   \n",
       "5810                    Grey River Argus,10/3/1881, p.2   \n",
       "5839  The Maitland Mercury & Hunter River General Ad...   \n",
       "5885                    Daily Southern Cross, 6/15/1874   \n",
       "5920  Nelson Examiner & New Zealand Chronicle, 4/24/...   \n",
       "5996          Pacific Commercial Advertiser, 11/20/1856   \n",
       "6001                        Maitland Mercury, 8/25/1855   \n",
       "6092      The Torchlight & Public Advertiser, 4/22/1830   \n",
       "6119                         Journal of Captain Marryat   \n",
       "6131                       The Evening Post, 12/18/1801   \n",
       "6133                             The Observer 5/28/1797   \n",
       "6137  H.R. Janisch (1885), Extracts from the St. Hel...   \n",
       "6155                                     C. Moore, GSAF   \n",
       "6165                                 Sir Thomas Herbert   \n",
       "6171                                       Olaus Magnus   \n",
       "6175  Perils mentioned by Pliny the Elder (23 A.D. t...   \n",
       "6177  Reported by Greek poet, Leonidas of Tarentum (...   \n",
       "6199                    Watertown Daily Times, 7/8/2011   \n",
       "6206                    National Georgraphic Television   \n",
       "6259         G.A. Llano in Airmen Against the Sea, p.69   \n",
       "\n",
       "                                       pdf  \\\n",
       "62                  2017.11.13.R-Timur.pdf   \n",
       "525          2014.08.00-Cuban-refugees.pdf   \n",
       "2956               1983.00.00.d-Shenoy.pdf   \n",
       "3378             1970.11.00-NV-Plotsky.pdf   \n",
       "3387    1970.08.02-Christina-ferryboat.pdf   \n",
       "3388                1970.07.05-NV-male.pdf   \n",
       "3395            1970.04.00.b-NV-Jarvis.pdf   \n",
       "3399              1970.02.05-NV-Irvine.pdf   \n",
       "3425              1969.08.00-NV-Hughes.pdf   \n",
       "3605            1965.10.21-Castellanos.pdf   \n",
       "3661                1964.09.27-Griffon.pdf   \n",
       "4018    1960.01.26-Portuguese airliner.pdf   \n",
       "4231               1956.09.13-TunaBoat.pdf   \n",
       "4266            1956.00.00.g-Capt-Hunt.pdf   \n",
       "4498              1949.12.00.b-Wingate.pdf   \n",
       "4639             1944.10.24-ArisanMaru.pdf   \n",
       "4700                 1942.11.00.a-Izzi.pdf   \n",
       "4712           1942.06.00-on-life-raft.pdf   \n",
       "4726               1942.00.00.e-seaman.pdf   \n",
       "4729  1942.00.00.b-Hall-Green-Jennings.pdf   \n",
       "4911      1935.04.12.R-PearlPurdyScott.pdf   \n",
       "5020            1931.04.27.R-Quillezic.pdf   \n",
       "5060               1929.12.09.R-Duggan.pdf   \n",
       "5425                 1909.01.17-Butler.pdf   \n",
       "5586           1898.09.19.b.R-Halletts.pdf   \n",
       "5587              1898.09.19.a.R.Sully.pdf   \n",
       "5612      1897.03.15.b.R-Mediterranean.pdf   \n",
       "5636         1895.06.13.R-EnglishDiver.pdf   \n",
       "5742                1887.07.30-TheSara.pdf   \n",
       "5770           1885.04.16.R-GermanShip.pdf   \n",
       "5808             1881.08.16.R-Sedgwick.pdf   \n",
       "5810           1881.06.25-FatherHudson.pdf   \n",
       "5839            1878.10.13-Sherrington.pdf   \n",
       "5885    1874.06.15.a.R-Achilles-tendon.pdf   \n",
       "5920              1869.04.10-Frederick.pdf   \n",
       "5996             1856.11.20.R-Conhlren.pdf   \n",
       "6001        1855.07.28-PostBoy-sailors.pdf   \n",
       "6092                 1830.04.22.R-Jose.pdf   \n",
       "6119            1811.03.01-John-Walker.pdf   \n",
       "6131            1801.12.18.R-Pettigrew.pdf   \n",
       "6133           1797.05.28.R-Cloverdale.pdf   \n",
       "6137               1787.07.05-Hicksled.pdf   \n",
       "6155           1742.12.17-AdviceSeamen.pdf   \n",
       "6165                  1638.00.00.R-Herbert   \n",
       "6171         1555.00.00 - Olaus Magnus.pdf   \n",
       "6175                        77AD-Pliny.pdf   \n",
       "6177                     214BC-Tharsys.pdf   \n",
       "6199                    ND-0124-Peters.pdf   \n",
       "6206               ND-0114-BayOfBengal.pdf   \n",
       "6259                         ND-0044-C.pdf   \n",
       "\n",
       "                                           href formula  \\\n",
       "62    http://sharkattackfile.net/spreadsheets/pdf_di...   \n",
       "525   http://sharkattackfile.net/spreadsheets/pdf_di...   \n",
       "2956  http://sharkattackfile.net/spreadsheets/pdf_di...   \n",
       "3378  http://sharkattackfile.net/spreadsheets/pdf_di...   \n",
       "3387  http://sharkattackfile.net/spreadsheets/pdf_di...   \n",
       "3388  http://sharkattackfile.net/spreadsheets/pdf_di...   \n",
       "3395  http://sharkattackfile.net/spreadsheets/pdf_di...   \n",
       "3399  http://sharkattackfile.net/spreadsheets/pdf_di...   \n",
       "3425  http://sharkattackfile.net/spreadsheets/pdf_di...   \n",
       "3605  http://sharkattackfile.net/spreadsheets/pdf_di...   \n",
       "3661  http://sharkattackfile.net/spreadsheets/pdf_di...   \n",
       "4018  http://sharkattackfile.net/spreadsheets/pdf_di...   \n",
       "4231  http://sharkattackfile.net/spreadsheets/pdf_di...   \n",
       "4266  http://sharkattackfile.net/spreadsheets/pdf_di...   \n",
       "4498  http://sharkattackfile.net/spreadsheets/pdf_di...   \n",
       "4639  http://sharkattackfile.net/spreadsheets/pdf_di...   \n",
       "4700  http://sharkattackfile.net/spreadsheets/pdf_di...   \n",
       "4712  http://sharkattackfile.net/spreadsheets/pdf_di...   \n",
       "4726  http://sharkattackfile.net/spreadsheets/pdf_di...   \n",
       "4729  http://sharkattackfile.net/spreadsheets/pdf_di...   \n",
       "4911  http://sharkattackfile.net/spreadsheets/pdf_di...   \n",
       "5020  http://sharkattackfile.net/spreadsheets/pdf_di...   \n",
       "5060  http://sharkattackfile.net/spreadsheets/pdf_di...   \n",
       "5425  http://sharkattackfile.net/spreadsheets/pdf_di...   \n",
       "5586  http://sharkattackfile.net/spreadsheets/pdf_di...   \n",
       "5587  http://sharkattackfile.net/spreadsheets/pdf_di...   \n",
       "5612  http://sharkattackfile.net/spreadsheets/pdf_di...   \n",
       "5636  http://sharkattackfile.net/spreadsheets/pdf_di...   \n",
       "5742  http://sharkattackfile.net/spreadsheets/pdf_di...   \n",
       "5770  http://sharkattackfile.net/spreadsheets/pdf_di...   \n",
       "5808  http://sharkattackfile.net/spreadsheets/pdf_di...   \n",
       "5810  http://sharkattackfile.net/spreadsheets/pdf_di...   \n",
       "5839  http://sharkattackfile.net/spreadsheets/pdf_di...   \n",
       "5885  http://sharkattackfile.net/spreadsheets/pdf_di...   \n",
       "5920  http://sharkattackfile.net/spreadsheets/pdf_di...   \n",
       "5996  http://sharkattackfile.net/spreadsheets/pdf_di...   \n",
       "6001  http://sharkattackfile.net/spreadsheets/pdf_di...   \n",
       "6092  http://sharkattackfile.net/spreadsheets/pdf_di...   \n",
       "6119  http://sharkattackfile.net/spreadsheets/pdf_di...   \n",
       "6131  http://sharkattackfile.net/spreadsheets/pdf_di...   \n",
       "6133  http://sharkattackfile.net/spreadsheets/pdf_di...   \n",
       "6137  http://sharkattackfile.net/spreadsheets/pdf_di...   \n",
       "6155  http://sharkattackfile.net/spreadsheets/pdf_di...   \n",
       "6165  http://sharkattackfile.net/spreadsheets/pdf_di...   \n",
       "6171  http://sharkattackfile.net/spreadsheets/pdf_di...   \n",
       "6175  http://sharkattackfile.net/spreadsheets/pdf_di...   \n",
       "6177  http://sharkattackfile.net/spreadsheets/pdf_di...   \n",
       "6199  http://sharkattackfile.net/spreadsheets/pdf_di...   \n",
       "6206  http://sharkattackfile.net/spreadsheets/pdf_di...   \n",
       "6259  http://sharkattackfile.net/spreadsheets/pdf_di...   \n",
       "\n",
       "                                                   href   Case Number.1  \\\n",
       "62    http://sharkattackfile.net/spreadsheets/pdf_di...    2017.11.13.R   \n",
       "525   http://sharkattackfile.net/spreadsheets/pdf_di...      2014.08.00   \n",
       "2956  http://sharkattackfile.net/spreadsheets/pdf_di...    1983.00.00.d   \n",
       "3378  http://sharkattackfile.net/spreadsheets/pdf_di...      1970.11.00   \n",
       "3387  http://sharkattackfile.net/spreadsheets/pdf_di...      1970.08.02   \n",
       "3388  http://sharkattackfile.net/spreadsheets/pdf_di...      1970.07.05   \n",
       "3395  http://sharkattackfile.net/spreadsheets/pdf_di...    1970.04.00.b   \n",
       "3399  http://sharkattackfile.net/spreadsheets/pdf_di...      1970.02.05   \n",
       "3425  http://sharkattackfile.net/spreadsheets/pdf_di...      1969.08.00   \n",
       "3605  http://sharkattackfile.net/spreadsheets/pdf_di...      1965.10.21   \n",
       "3661  http://sharkattackfile.net/spreadsheets/pdf_di...      1964.09.27   \n",
       "4018  http://sharkattackfile.net/spreadsheets/pdf_di...      1960.01.26   \n",
       "4231  http://sharkattackfile.net/spreadsheets/pdf_di...      1956.09.13   \n",
       "4266  http://sharkattackfile.net/spreadsheets/pdf_di...    1956.00.00.g   \n",
       "4498  http://sharkattackfile.net/spreadsheets/pdf_di...    1949.12.00.b   \n",
       "4639  http://sharkattackfile.net/spreadsheets/pdf_di...      1944.10.24   \n",
       "4700  http://sharkattackfile.net/spreadsheets/pdf_di...    1942.11.00.a   \n",
       "4712  http://sharkattackfile.net/spreadsheets/pdf_di...      1942.06.00   \n",
       "4726  http://sharkattackfile.net/spreadsheets/pdf_di...    1942.00.00.e   \n",
       "4729  http://sharkattackfile.net/spreadsheets/pdf_di...    1942.00.00.b   \n",
       "4911  http://sharkattackfile.net/spreadsheets/pdf_di...    1935.04.12.R   \n",
       "5020  http://sharkattackfile.net/spreadsheets/pdf_di...    1931.04.27.R   \n",
       "5060  http://sharkattackfile.net/spreadsheets/pdf_di...    1929.12.09.R   \n",
       "5425  http://sharkattackfile.net/spreadsheets/pdf_di...      1909.01.17   \n",
       "5586  http://sharkattackfile.net/spreadsheets/pdf_di...  1898.09.19.b.R   \n",
       "5587  http://sharkattackfile.net/spreadsheets/pdf_di...  1898.09.19.a.R   \n",
       "5612  http://sharkattackfile.net/spreadsheets/pdf_di...  1897.03.15.b.R   \n",
       "5636  http://sharkattackfile.net/spreadsheets/pdf_di...    1895.06.13.R   \n",
       "5742  http://sharkattackfile.net/spreadsheets/pdf_di...      1887.07.30   \n",
       "5770  http://sharkattackfile.net/spreadsheets/pdf_di...    1885.04.16.R   \n",
       "5808  http://sharkattackfile.net/spreadsheets/pdf_di...    1881.08.16.R   \n",
       "5810  http://sharkattackfile.net/spreadsheets/pdf_di...      1881.06.25   \n",
       "5839  http://sharkattackfile.net/spreadsheets/pdf_di...      1878.10.13   \n",
       "5885  http://sharkattackfile.net/spreadsheets/pdf_di...  1874.06.15.a.R   \n",
       "5920  http://sharkattackfile.net/spreadsheets/pdf_di...      1869.04.10   \n",
       "5996  http://sharkattackfile.net/spreadsheets/pdf_di...    1856.11.20.R   \n",
       "6001  http://sharkattackfile.net/spreadsheets/pdf_di...      1855.07.28   \n",
       "6092  http://sharkattackfile.net/spreadsheets/pdf_di...    1830.04.22.R   \n",
       "6119  http://sharkattackfile.net/spreadsheets/pdf_di...      1811.03.01   \n",
       "6131  http://sharkattackfile.net/spreadsheets/pdf_di...    1801.12.18.R   \n",
       "6133  http://sharkattackfile.net/spreadsheets/pdf_di...    1797.05.28.R   \n",
       "6137  http://sharkattackfile.net/spreadsheets/pdf_di...      1787.07.05   \n",
       "6155  http://sharkattackfile.net/spreadsheets/pdf_di...      1742.12.17   \n",
       "6165  http://sharkattackfile.net/spreadsheets/pdf_di...    1638.00.00.R   \n",
       "6171  http://sharkattackfile.net/spreadsheets/pdf_di...      1555.00.00   \n",
       "6175  http://sharkattackfile.net/spreadsheets/pdf_di...      0077.00.00   \n",
       "6177  http://sharkattackfile.net/spreadsheets/pdf_di...       0000.0214   \n",
       "6199  http://sharkattackfile.net/spreadsheets/pdf_di...         ND-0124   \n",
       "6206  http://sharkattackfile.net/spreadsheets/pdf_di...         ND-0114   \n",
       "6259  http://sharkattackfile.net/spreadsheets/pdf_di...         ND.0044   \n",
       "\n",
       "       Case Number.2 original order Additional Info        Others  \n",
       "62      2017.11.13.R         6241.0    Not provided  Not provided  \n",
       "525       2014.08.00         5778.0    Not provided  Not provided  \n",
       "2956    1983.00.00.d         3347.0    Not provided  Not provided  \n",
       "3378      1970.11.00         2925.0    Not provided  Not provided  \n",
       "3387      1970.08.02         2916.0    Not provided  Not provided  \n",
       "3388      1970.07.05         2915.0    Not provided  Not provided  \n",
       "3395    1970.04.00.b         2908.0    Not provided  Not provided  \n",
       "3399      1970.02.05         2904.0    Not provided  Not provided  \n",
       "3425      1969.08.00         2878.0    Not provided  Not provided  \n",
       "3605      1965.10.21         2698.0    Not provided  Not provided  \n",
       "3661      1964.09.27         2642.0    Not provided  Not provided  \n",
       "4018      1960.01.26         2285.0    Not provided  Not provided  \n",
       "4231      1956.09.13         2072.0    Not provided  Not provided  \n",
       "4266    1956.00.00.g         2037.0    Not provided  Not provided  \n",
       "4498    1949.12.00.b         1805.0    Not provided  Not provided  \n",
       "4639      1944.10.24         1664.0    Not provided  Not provided  \n",
       "4700    1942.11.00.a         1603.0    Not provided  Not provided  \n",
       "4712      1942.06.00         1591.0    Not provided  Not provided  \n",
       "4726    1942.00.00.e         1577.0    Not provided  Not provided  \n",
       "4729    1942.00.00.b         1574.0    Not provided  Not provided  \n",
       "4911    1935.04.12.R         1392.0    Not provided  Not provided  \n",
       "5020    1931.04.27.R         1283.0    Not provided  Not provided  \n",
       "5060    1929.12.09.R         1243.0    Not provided  Not provided  \n",
       "5425      1909.01.17          878.0    Not provided  Not provided  \n",
       "5586  1898.09.19.b.R          717.0    Not provided  Not provided  \n",
       "5587  1898.09.19.a.R          716.0    Not provided  Not provided  \n",
       "5612  1897.03.15.b.R          691.0    Not provided  Not provided  \n",
       "5636    1895.06.13.R          667.0    Not provided  Not provided  \n",
       "5742      1887.07.30          561.0    Not provided  Not provided  \n",
       "5770    1885.04.16.R          533.0    Not provided  Not provided  \n",
       "5808    1881.08.16.R          495.0    Not provided  Not provided  \n",
       "5810      1881.06.25          493.0    Not provided  Not provided  \n",
       "5839      1878.10.13          464.0    Not provided  Not provided  \n",
       "5885  1874.06.15.a.R          418.0    Not provided  Not provided  \n",
       "5920      1869.04.10          383.0    Not provided  Not provided  \n",
       "5996    1856.11.20.R          307.0    Not provided  Not provided  \n",
       "6001      1855.07.28          302.0    Not provided  Not provided  \n",
       "6092    1830.04.22.R          211.0    Not provided  Not provided  \n",
       "6119      1811.03.01          184.0    Not provided  Not provided  \n",
       "6131    1801.12.18.R          172.0    Not provided  Not provided  \n",
       "6133    1797.05.28.R          170.0    Not provided  Not provided  \n",
       "6137      1787.07.05          166.0    Not provided  Not provided  \n",
       "6155      1742.12.17          148.0    Not provided  Not provided  \n",
       "6165    1638.00.00.R          138.0    Not provided  Not provided  \n",
       "6171      1555.00.00          132.0    Not provided  Not provided  \n",
       "6175      0077.00.00          128.0    Not provided  Not provided  \n",
       "6177       0000.0214          126.0    Not provided  Not provided  \n",
       "6199         ND-0124          104.0    Not provided  Not provided  \n",
       "6206         ND-0114           97.0    Not provided  Not provided  \n",
       "6259         ND.0044           44.0    Not provided  Not provided  \n",
       "\n",
       "[50 rows x 24 columns]"
      ]
     },
     "execution_count": 33,
     "metadata": {},
     "output_type": "execute_result"
    }
   ],
   "source": [
    "df[df[\"Country\"].isnull()]"
   ]
  },
  {
   "cell_type": "raw",
   "metadata": {},
   "source": []
  },
  {
   "cell_type": "code",
   "execution_count": 34,
   "metadata": {},
   "outputs": [],
   "source": [
    "df['Country']=df['Country'].fillna('Unknown')"
   ]
  },
  {
   "cell_type": "code",
   "execution_count": 35,
   "metadata": {
    "scrolled": true
   },
   "outputs": [],
   "source": [
    "df.replace({'Country': r'^ASIA.$'}, {'Country': 'ASIA'}, regex=True, inplace=True)"
   ]
  },
  {
   "cell_type": "code",
   "execution_count": 36,
   "metadata": {},
   "outputs": [],
   "source": [
    "df['Country'] = df.Country.apply(lambda x: x.split('?')[0])"
   ]
  },
  {
   "cell_type": "code",
   "execution_count": 37,
   "metadata": {},
   "outputs": [],
   "source": [
    "df.replace({'Country': 'Fiji'}, {'Country': 'FIJI'}, regex=True, inplace=True)"
   ]
  },
  {
   "cell_type": "code",
   "execution_count": 38,
   "metadata": {},
   "outputs": [],
   "source": [
    "df['Area']=df['Area'].fillna('Unknown')\n"
   ]
  },
  {
   "cell_type": "code",
   "execution_count": 39,
   "metadata": {
    "scrolled": true
   },
   "outputs": [
    {
     "name": "stdout",
     "output_type": "stream",
     "text": [
      "['California' 'Georgia' 'Hawaii' 'New South Wales' 'Colima' 'Pernambuco'\n",
      " 'Florida' 'Queensland' 'South Carolina' 'Cornwall' 'Westerm Australia'\n",
      " 'Eastern Cape Province' 'Hua Hin' 'Cocos Island' 'Western Australia'\n",
      " 'Alifu Alifu Atoll' 'Western Cape Province' 'New Providence' 'Alagoas'\n",
      " 'Unknown' 'Victoria' 'KwaZulu-Natal' 'Boi Island, Victoria'\n",
      " 'Galapagos Islands' 'Fernando de Noronha' 'Sepang' 'Holquin Province'\n",
      " 'Pamplemousses ' 'South Australia' 'North Island' 'New York'\n",
      " 'Canary Islands' ' Upolu Island' 'Shizuoka Prefecture' 'Texas'\n",
      " 'Castellón' 'Massachusetts' 'Red Sea Protectorate'\n",
      " 'New Providence District' '40 miles off Grand Bahama Island'\n",
      " 'Ascension Island' 'New Jersey' 'Majorca' 'Washington' 'Tabasco'\n",
      " 'Anjouan' 'Ibiza Island' 'Marquesas' 'South Devon' 'New Providence '\n",
      " 'Sharjah, ' 'Baja California Sur' 'Saint-Leu' 'South Island'\n",
      " 'Luzon Island' 'Great Exuma' 'Saint-Andre' 'Bimini' 'Bali' 'Tuamotos'\n",
      " 'Oregon' 'North Province' 'New Providence Island' 'Alicante Province'\n",
      " 'Hong Kong' 'Kochi Prefecture' 'Tasmania' 'Abaco Islands' 'Alabama'\n",
      " 'North Carolina' 'Isla Provedencia' 'Suez' 'Grand Terre'\n",
      " 'Boa Vista Island' 'Vanua Levu' 'Santa Catarina State' 'South Province'\n",
      " 'Altagracia Province' 'Grand Cayman' 'Balneário Camboriú'\n",
      " 'Fujairah Emirate' 'Grand Canary Island' 'Inhambane Province' 'Phuket'\n",
      " 'Alicante' 'Guanacaste' 'Bora Bora' 'Grand Bahama Island' 'Le Port'\n",
      " 'Rangiroa' 'Saint-Gilles-les-Bains' 'Sardinia' 'Sinaloa'\n",
      " 'Central Tuamotu' 'd\\x92Étang-Salé' 'Granada'\n",
      " 'Cargados Carajos Shoals (St. Brandon)' 'Moorea' 'Catalonia' 'Maryland'\n",
      " 'Louisiana' 'West End' 'Delaware' 'Atsumi peninsula' 'Palmyra Atoll'\n",
      " 'Wallis and Futuna' 'Baie de Sainte-Marie' 'Society Islands' 'Trinidad'\n",
      " 'Okinawa Prefecture' '740 miles SE of Tarawa Atoll' 'Southern District'\n",
      " 'Bay of Biscay' 'Quintana Roo' 'Exuma Islands' 'Saint-Paul' 'Taitung '\n",
      " 'Kingston Parish' 'Santa Cruz Island' 'Saint-Gilles' 'Tuamotus'\n",
      " 'Eleuthera' 'St. Catherine' 'Palawan' 'Mercury Islands' 'Delta' \"Vava'u\"\n",
      " 'Inner Hebrides' 'Saint Leu' 'Trois-Bassins' 'British Colombia'\n",
      " 'Guerrero' 'Saint-Benoit' 'Tabuk Province' 'Antofagasta Province'\n",
      " \"St John's\" 'Santa Elena' 'East New Britain' 'Bois-Blanc ' 'Moray'\n",
      " 'Puerto Rico' 'Samaná Province' 'Coast Province' 'Central Province'\n",
      " 'Primorsky Krai' 'Peter the Great Bay, Khasan, Primorsky Krai (Far East)'\n",
      " 'Telyakovsky Bay, Khasan,  Primorsky Krai (Far East)' 'Praslin' 'Sucre'\n",
      " 'Middle Caicos' 'Caicos Bank' 'San Andrés archipelago' 'Kedah'\n",
      " 'Umm al Qaywayan Province' 'Vitu Levu' 'South Sinai Peninsula'\n",
      " ' Loyalty Islands' 'Saint Gilles ' 'Maine' 'Virginia' \"Ha'api \"\n",
      " 'Western Province' 'Jeju Province' 'Binh Dinh Province'\n",
      " 'Antsiranana Province' 'Sinai Peninsula' 'Off Vanua Levu' 'Merizo'\n",
      " 'Rio Grande Do Sul' 'Dubai' 'Torres Strait' 'Eastern Province'\n",
      " 'Eastern Cape  Province' 'Maputo Province' 'Bocas' 'Fife' 'Devon'\n",
      " 'Makira-Ulawa Province' 'Mombasa' 'Catalunya' 'St. Johns Reef'\n",
      " 'Off Green Island' 'North Region' 'Batangas province' 'Strait of Malacca'\n",
      " 'Guantanamo Province' 'Maranhão' 'Red Sea' 'Batanes Provine' 'Luzon'\n",
      " 'Northern Territory' ' Split-Dalmatia Count,' 'North Devon'\n",
      " 'US Virgin Islands' 'San Carlos' 'Cabo San Lucas' 'Sussex' 'Bahia'\n",
      " 'Easter Ross' 'Guerro' 'Yasawa Islands' 'Northern Bahamas' 'Tokyo Bay'\n",
      " 'Baja California' 'Green Bay' 'Loyalty Islands' 'Marovo Lagoon'\n",
      " 'Territory of Cocos (Keeling) Islands' 'Oslo Fjord' 'Kent' 'Bird Island'\n",
      " 'Providenciales' 'Bimini Islands' 'Muhafazat Hadramawt' 'Cook islans'\n",
      " 'Surigao del Norte' 'Between Somalia & Yemen' 'Ambergris Caye'\n",
      " 'Saint-Pierre' 'Kentucky' 'Andros Islands' 'Guam' 'Western Area'\n",
      " '300 miles from Antigua' '800 miles from land'\n",
      " '600 nm west of the Canary Islands' 'Simpson Bay' 'East Wall'\n",
      " 'Inner Islands' 'Shanghai' 'Malampa Province'\n",
      " \"South Ch'ungch'ong Province\" 'Bay Islands' 'New Mexico'\n",
      " 'Santa Isabel Province' 'Santiago de Cuba Province' 'Camaguey Province'\n",
      " 'Conservatória District' 'South Carolina ' 'Kuril Islands in the Pacific'\n",
      " 'Wakayama Prefecture' \"Nuku'alofa\" 'Saint-Benoît'\n",
      " 'South Island, near Karitane north of Dunedin' 'Rocha' 'Northlands'\n",
      " 'Anzoategui' 'Cook Islands' 'Tamil Nadu' 'Pearl Islands' 'Taveuni'\n",
      " 'Johnston Atoll' 'Baatan' 'Rio de Janeiro' 'Nueva Esparta' 'Southland'\n",
      " 'North Pacific coast' 'Caroline Islands' 'Cheshire'\n",
      " 'Louisiade Archipelago'\n",
      " 'KwaZulu-Natal between Port Edward and Port St Johns'\n",
      " 'Milne Bay Province' 'Cikobia Island (north of Vanua Levu)'\n",
      " 'Rayong Province' 'Zamboanga del Sur Province' 'Rio Grande de Norte'\n",
      " 'Off the western coast of peninsular Malaysia' 'New Brunswick'\n",
      " 'Miyako Island' 'Alaska' 'Minerva Reef' 'Madang Province'\n",
      " 'Worcestershire' 'Phang nga Province' 'Alinglaplap Atoll' 'Adriatic Sea'\n",
      " 'Ralik Chain' 'Grand Baie' \"L' Etang Salé-les-Bains\" 'Southern Japan'\n",
      " 'Cap Vert Peninsula' 'Marches region' 'Berry Islands' 'Transvaal' 'Gaza'\n",
      " \"Grand'Anse\" 'Beaufonds' 'Miyako' \"L'Etang-Sale\" 'Chatham Islands '\n",
      " 'South Sinai, Gulf of Aqaba' 'Cat Cay' 'Missouri'\n",
      " '12 miles off the north coast' 'Saint-Paul '\n",
      " 'Chatham Islands, east of New  Zealand' 'Saint-Denis' 'Vava\\x92u'\n",
      " 'Mississippi' 'Clearwater Bay' 'New Territories' 'Aichi Prefecture'\n",
      " 'Tafea Province' 'Kagoshima Prefecture' 'Saint-Joseph' 'Banaadir Region'\n",
      " 'La Libertad' 'Costa Blanca' 'Walkers Cay'\n",
      " 'On the Kowloon penisula, south of Sai Kung' 'Ehime Prefecture'\n",
      " 'Tongapatu Group' 'West Africa' 'Wakaya Island' 'North Carolina '\n",
      " 'Mexico / Caribbean Sea' 'Antarctic Ocean' 'La Saline-les-Bains'\n",
      " 'Sea of Japan' 'Tavenui' 'Ligurian Sea' \"L'Etang-Salé\"\n",
      " 'Kowloon Peninsula' 'Port Shelter' 'Laucala Island' 'Sainte-Marie'\n",
      " 'Great Exuma Island' 'Sainte-Suzanne' 'Tuscany' 'Tyrrhenian Sea'\n",
      " 'New Ireland' 'Valpariso Province' 'Viscayan Sea' 'Manfredonia '\n",
      " 'Tokyo Prefecture' 'Saint-Louis' 'Mindoro' 'Between DR and Puerto Rico'\n",
      " 'Between Honiara & Isabel Island' 'Florida Straits' 'Gulf of Lyons'\n",
      " 'Cádiz' 'Sicily' 'Andikira Fokithes' 'Central Philippines' 'Rhode Island'\n",
      " 'Northwest Italy' 'English Channel' 'North & South Carolina'\n",
      " 'Kumamoto Prefecture' 'Biserta' 'Saint-Philippe' 'Chungnam'\n",
      " 'Eronogo Region' 'Coquimbo' 'Pagasitikos Gulf' \"St. Mary's Parish\"\n",
      " 'Romblon Province' 'Lamu Archipelago' 'Los Vilos' 'Island of Kos'\n",
      " \"Ha'api\" 'Madeira Islands' 'Ho Ha Wan Marine Park' 'Southern Thailand'\n",
      " 'Golfo de Venezia' 'Ralik Archipelago'\n",
      " 'South China Sea 200 miles from Hong Kong' 'Reggio Calabria Province'\n",
      " 'Mirs Bay ' 'Genoa Province' 'Ganges-Brahmaputra delta'\n",
      " ' Split-Dalmatia County' 'Florida ' 'Primorje-Gorski Kotar County '\n",
      " 'Aulong Island' 'Western Caroline Islands' 'Upolu Island' 'Antibes'\n",
      " 'Illeginni Atoll' 'Istria County' 'Between Beira & Maputo'\n",
      " 'Khuzestan Province' 'Inhambe Province' 'Namonuito Atoll'\n",
      " 'Eastern Caroline Islands'\n",
      " 'Western Caroline Islands (North Pacific Ocean)' 'Caribbean Sea'\n",
      " 'St. Andrew Parish' '200 nm southeast of Manila' 'Limpopo River'\n",
      " 'New Ireland Province' 'Zadar County' 'Basrah' 'Clarendon' 'Moro Gulf'\n",
      " 'Johor' 'Magdalena Department' 'Mafia Island' 'Gulf Province'\n",
      " 'Morobe Province' 'Limón Province' 'Rombion Province' 'Veracruz'\n",
      " 'Brindisi Province' 'Kagawa Prefecture' 'Liguria' 'Hamilton'\n",
      " 'Out Islands' 'Mugla Province' 'Gibraltar' 'New Britain' 'Bay of Maputo'\n",
      " 'Duke of York Islands' 'Taranto province' 'Northern Taiwan'\n",
      " 'Admiralty Islands, Manus Province' 'North Sumatra'\n",
      " \"250 miles southwest of O'ahu, Hawaii\" 'West coast' 'East Sepik'\n",
      " 'Near Bougainville (North Solomons)' 'East of the Gulf of Aqaba'\n",
      " 'Bougainville (North Solomons)' 'Victoria ' 'Okayama Prefecture'\n",
      " 'San Blas' 'Connecticut' 'Lau Group' 'Caribbean Coast' 'Vita Levu'\n",
      " 'San Blas Islands' 'Puntarenas Province' 'Lomaloma, Lau'\n",
      " 'Between Southampton & Canary Islands' 'South Coast, East New Britain'\n",
      " ' Lau Province' 'Ysabel Island' 'Santo Domingo' 'San Blas coast'\n",
      " 'Thessaly' 'Lomaiviti  Island Group' 'Rodrigues' 'Manus Island'\n",
      " 'Pinas Bay' 'Grand Turk Island' 'Off coast of West Africa' 'Sharon'\n",
      " 'Antalya Province' 'Northern District'\n",
      " 'New Ireland Province, Bismarck Archipelago' 'Cyclades' 'Viti Levu'\n",
      " 'Off the Coromandel Peninsula, North Island' 'Madang'\n",
      " 'Guadalcanal Province' '10ºS, 142ºE' 'Kwajalein Atoll' 'East Flores'\n",
      " 'Guerrrero' 'Western Luzon Island' 'Shefa Province'\n",
      " '165  miles from Bermuda'\n",
      " '25 km off the coast of Iran & 483km from mouth of Persian Gulf'\n",
      " 'Venice Province' 'Sandaun Province' 'Anatolia'\n",
      " 'East New Britain Province' 'United Arab Emirates'\n",
      " 'Wake Island (EnenKio)' '19S, 178?E' 'Pennsylvania' '9.35N 79.35W'\n",
      " 'Roncador Bank' 'Western District' 'Enroute from Suez to Aden (Yemen)'\n",
      " '180 miles southeast of Okinawa' 'Eniwetok Atoll' 'Cap-Vert Peninsula'\n",
      " 'Delagoa Bay' 'In the English Channel ' 'Cook Strait'\n",
      " 'Unknown, treated at Wick, SCOTLAND' 'Corregidor Island' 'Paget'\n",
      " '33N, 68W' 'Casamance' 'Madang (WO)' 'Between Timor & Darwin, Australia'\n",
      " 'Pacific coast' 'St. Georges ' 'Eastern  Province'\n",
      " 'Northwest of Viti Levu' 'West New Britain Province' 'Rigo subdistrict'\n",
      " 'Masbate' '400 miles southeast of Sri Lanka' 'Lomaiviti Province'\n",
      " 'Kadavu' 'Leyte Island' 'Orissa' 'Hokkaido Prefecture' 'North Palawan'\n",
      " 'Queaon' 'Istria' 'PANAMA' 'In the Gulf Stream ' 'Mersin Province'\n",
      " 'Guyamas' 'Between England & South Africa' 'Mindanao'\n",
      " ' Kikori River mouth' 'South Chungcheong Province' 'Ahirkapi coast'\n",
      " 'Tutuila Island' 'Primorje-Gorski Kotar County'\n",
      " 'Between Hawaii & Wake Island' 'Taipei Hsien' 'Ibaraki Prefecture'\n",
      " 'South Pacific Ocean' 'Canal Zone' '1,000 miles east of Hawaii' 'Honiara'\n",
      " 'Yucatan Channel' 'Havana Province' 'Karun River'\n",
      " 'Abau Subdistrict,Central Province' 'New Britain, Bismarck Archipelago'\n",
      " 'Estuaire Province' 'Near Dakar, Cap Vert Peninsula'\n",
      " 'Near the Andaman & Nicobar Islands' 'Mozambique Channel' 'Tyrrenian Sea'\n",
      " 'Congreve Channel' 'St. Thomas Bay' 'Madeira'\n",
      " 'Between Comores & Madagascar' 'Corfu Island' '1000 miles west of Hawaii'\n",
      " 'Izo Islands' ' Primorje-Gorski Kotar County' 'Open sea' 'Aden'\n",
      " 'New Ireland, Bismarck Archipelago' '18S / 50E' 'Illinois'\n",
      " 'Isles del Rosario' 'Wake Island' 'Isle of Man' 'Nagasaki Prefecture'\n",
      " 'Liguaria' 'Slovenia' 'South shore ' 'Buenos Aires Province'\n",
      " '330 to 350 miles east of Wake Island' 'Nova Scotia' 'Gulf of Panama'\n",
      " 'Genoa  Province' 'Abau Sub District, Central Province' 'Teramo'\n",
      " 'Red Sea State' 'Curacao' 'Port Louis Province' 'Montserrado'\n",
      " 'Bay of Maputu' 'Sofala Province' 'Salerno' 'Salerno Province' 'Taranto'\n",
      " 'Naples Province' ' La Libertad' 'Sago Prefecture' 'Savona'\n",
      " 'Southern Province' 'Jakarta Harbour' 'Singapore Harbor' 'Calabria'\n",
      " 'Shatt-el-Arab River' 'Shatt-al-Arab River' 'Tamaulipas'\n",
      " 'Calvados Archipelago' 'Shat-Al-Arab River'\n",
      " 'Between Kwajalein Atoll & Johnston Island' 'Attica' 'Adana Province'\n",
      " 'Bandar Ma\\x92shur sea inlet' 'Saipan' 'Carpathian Sea' 'Kwajalein'\n",
      " 'Dar-es-Salaam ' '\"Head of the Gulf\"' 'Ryukyu' ' North Carolina'\n",
      " 'In transit between Tinian and Leyte' 'Northern Java' 'Tel Aviv'\n",
      " 'Colon Province' '300 miles east of Luzon'\n",
      " 'Bernardino Strait near Gulf of Leyte'\n",
      " 'Off Samar Island in the Gulf of Leyte' 'Lake Nicaragua (fresh water)'\n",
      " 'Pacific Ocean' 'Near the Fiji Islands' '40 miles south of Naples '\n",
      " 'Northwest of Papua New Guinea' 'Between Hawaii and U.S.A.'\n",
      " 'Off South American coast' 'Makora-Ulawa Province' '04.05N-13.23W'\n",
      " 'Midway Atoll' '300 miles east of St. Thomas (Virgin Islands)'\n",
      " 'West of Ceylon (Sri  Lanka)' 'East Java' 'Camiguin Island'\n",
      " 'Cay Sal Bank' '(Southwestern Pacific)' 'Panama City' 'Off Libya'\n",
      " 'North of Pernambuco, Brazil' 'Off coast of Ecuador' 'Trelawney Province'\n",
      " 'In Convoy OB 274' 'New Georgia' 'Panama Bay (Pacific Ocean)' 'Bwagaoia'\n",
      " 'Western Papuan Gulf' 'Torres Strait ' 'Carabobo' 'Ascension Bay'\n",
      " 'North China' 'Lower San Juan River' 'Nicoya Peninsula' 'Basrah City'\n",
      " 'West Bengal' 'Queensland ' 'Argyllshire' 'Arran' 'Argyll'\n",
      " 'Fishing Grounds' 'Newfoundland' 'Isle of Wight' 'Makira-Uluwa Province'\n",
      " 'Northern (Oro) Province' 'Herzliyah' 'Elqui Province' 'Istanbul'\n",
      " 'St Michael Parish' 'Barlavento Islands' 'Viti Levu Island'\n",
      " 'Bay of Fundy' 'Manila' 'French Southern Territories' 'Niua '\n",
      " 'Black River' 'Phoenix Islands' 'Cienfuegos Province' 'Valencia'\n",
      " 'Santiago Island' 'Near Puntarenas' 'Porto Seguro' 'Salinas Bay'\n",
      " 'Golfo di Genova in the Ligurian Sea' 'Sants-Montjic'\n",
      " 'South of the Equator ' 'Bay of Monaco' 'Valencia ' 'Vancouver'\n",
      " '2 to 3 miles off Taboguilla Island, Pacific Ocean' 'Dorset'\n",
      " '150 miles offshore' 'Galica' 'Demerara County' 'Vera Cruz' ' Manila Bay'\n",
      " 'Lucy' 'East Yorkshire' 'Westmoreland Parish' 'Cavite Province, Luzon'\n",
      " 'Cape Haitien' 'Leyte' 'Halifax' 'Turtle Bogue'\n",
      " '60 miles north of San Domingo in the West Indies' 'Colon' 'Off Ireland'\n",
      " 'Mediterranean Sea' 'Gran Canaria' 'Apolima Strait' 'Essequibo' 'Lagos '\n",
      " 'Trieste' '5aint-Denis' 'Viti Levu group' 'Balearics' 'Málaga '\n",
      " 'Chatham Islands' 'Georges Bank' 'Zambesi River' 'Colón Province'\n",
      " '30 nm from Singapore' 'Andalucia' 'Sfax' 'South Atlantic Ocean'\n",
      " 'Galicia' 'Gulf of Suez' 'Java' 'Tiburon Peninsula' 'Oaxaca'\n",
      " 'Harare Province' 'Khánh Hòa Province' 'Maluku Province' 'Suez Canal'\n",
      " ' Nusa Tenggara' 'Between Noumea & Sydney' 'Villa Clara Province'\n",
      " 'Ancona Province' 'Quezon' 'Rio San Juan' 'Southern Cyprus' 'Syracuse'\n",
      " 'Western Viscayas' 'Mindoro Occidental' 'Negros ' 'Imperia Province'\n",
      " 'Muala' 'East coast' 'Ratak ' 'Socotra Islands' 'Off Cape Haitien'\n",
      " 'Moluccas' 'Bocas del Toro' 'Provence' 'Bay of Campeche' 'Rangoon'\n",
      " 'Bay of Bengal' 'Bayelsa State' 'South Island?' 'Norfolk Island'\n",
      " 'Brittany' 'Line Islands' 'Woodlark Islands' 'Munxar Reef'\n",
      " 'Northern Peloponnese' 'Between Perth & Colombo' 'Gujarat' 'Lukovo'\n",
      " 'Cortés' 'Gulf of California'\n",
      " 'Somewhere between Philadelphia and Hiogo, Japan' ' New Jersey'\n",
      " \"Côte d'Azur  \" 'Maldonado coast' 'Western Banks' 'Andaman Islands'\n",
      " 'Off the coast of West Africa' 'Misamis Oriental' 'Strait of Messina'\n",
      " 'Hoogly River' 'Cyclades archipelago' 'Mount Lebanon'\n",
      " 'Between Hastings & Fairlight, Sussex' 'Veracruz ' 'Gilbert Islands'\n",
      " 'Lomaiviti Provine' 'Off the coast of South America' '22ºN, 88ºE'\n",
      " 'Matanzas Province (north coast)' 'Alpes Maritime' 'Edinburgh'\n",
      " 'Eastern Catalona' '300 miles east of Mauritius' 'Foveaux Strait'\n",
      " 'Sumatra' 'Conakry Region' 'Corfu' 'Malaga' 'Bonin Islands'\n",
      " 'Fernando Po Island' 'Mangaia Island' 'New York ' 'Corfu '\n",
      " 'Between Australia & USA' 'Tongatapu' 'Norfolk' 'Island of St. Thomas'\n",
      " 'Cumberland' 'Sanma Province' \"35º39 : 165º8'\" 'CUBA' 'Western Area '\n",
      " 'Paraiba' 'Cape Coast' 'Rivers State' 'Maharashtra' 'St. Anne'\n",
      " 'St Helena' \"Côte d'Azur \" 'Skagerrak arm of the North Sea'\n",
      " 'Las Perlas archipelago' 'Bardestrand' 'Southwest coast' 'Kerala'\n",
      " 'Nice & Marseilles' 'Magarita or Cubagua Islands' 'Ionian Sea' 'Piraeus'\n",
      " 'Off Thessaly' 'Bocas del Toro Province' 'Rocha ' 'Gulf of Tadjoura'\n",
      " 'Cyrenaica' 'Northern Province' 'Los Roques  Islands'\n",
      " 'Dodecanese Islands' 'Malaita Province' 'South Korea'\n",
      " 'Milne Bay  Province' 'Island of Volos' 'Amirante Islands'\n",
      " 'Kadavu Island Group' 'Toamasina Province' 'Riau Province' 'Bikini Atoll'\n",
      " 'Between New Ireland & New Britain' 'Ba Ria-Vung Tau  Province'\n",
      " 'Moala Island']\n"
     ]
    }
   ],
   "source": [
    "a=df['Area'].unique()\n",
    "print(a)"
   ]
  },
  {
   "cell_type": "code",
   "execution_count": 40,
   "metadata": {},
   "outputs": [
    {
     "data": {
      "text/plain": [
       "array(['Oceanside, San Diego County', 'St. Simon Island, Glynn County',\n",
       "       'Habush, Oahu', ..., 'Ocracoke Inlet', 'Panama Bay 8ºN, 79ºW',\n",
       "       'Below the English fort, Trincomalee'], dtype=object)"
      ]
     },
     "execution_count": 40,
     "metadata": {},
     "output_type": "execute_result"
    }
   ],
   "source": [
    "df['Location'].unique()"
   ]
  },
  {
   "cell_type": "code",
   "execution_count": 41,
   "metadata": {},
   "outputs": [],
   "source": [
    "df['Location']=df['Location'].fillna('Unknown')"
   ]
  },
  {
   "cell_type": "code",
   "execution_count": 42,
   "metadata": {},
   "outputs": [
    {
     "data": {
      "text/plain": [
       "Unknown                                        540\n",
       "New Smyrna Beach, Volusia County               163\n",
       "Daytona Beach, Volusia County                   30\n",
       "Ponce Inlet, Volusia County                     20\n",
       "Melbourne Beach, Brevard County                 18\n",
       "                                              ... \n",
       "Will Rogers State Beach, Los Angeles County      1\n",
       "Point Lowly, north of Whyalla                    1\n",
       "Clarence Head                                    1\n",
       "Between Carnac and Garden Islands                1\n",
       "Frikkies Bay                                     1\n",
       "Name: Location, Length: 4109, dtype: int64"
      ]
     },
     "execution_count": 42,
     "metadata": {},
     "output_type": "execute_result"
    }
   ],
   "source": [
    "df['Location'].value_counts()"
   ]
  },
  {
   "cell_type": "code",
   "execution_count": 43,
   "metadata": {},
   "outputs": [],
   "source": [
    "df['Activity']=df['Activity'].fillna('Unknown')"
   ]
  },
  {
   "cell_type": "code",
   "execution_count": 44,
   "metadata": {},
   "outputs": [],
   "source": [
    "df['Name']=df['Name'].fillna('Unknown')"
   ]
  },
  {
   "cell_type": "code",
   "execution_count": null,
   "metadata": {},
   "outputs": [],
   "source": []
  },
  {
   "cell_type": "code",
   "execution_count": 45,
   "metadata": {},
   "outputs": [],
   "source": [
    "df.columns = df.columns.to_series().apply(lambda x: x.strip()) "
   ]
  },
  {
   "cell_type": "code",
   "execution_count": 46,
   "metadata": {},
   "outputs": [
    {
     "data": {
      "text/plain": [
       "array(['F', 'M', nan, 'M ', 'lli', 'N', '.'], dtype=object)"
      ]
     },
     "execution_count": 46,
     "metadata": {},
     "output_type": "execute_result"
    }
   ],
   "source": [
    "df['Sex'].unique()"
   ]
  },
  {
   "cell_type": "code",
   "execution_count": 47,
   "metadata": {},
   "outputs": [],
   "source": [
    "df['Sex']=df['Sex'].fillna('Unkown')"
   ]
  },
  {
   "cell_type": "code",
   "execution_count": 48,
   "metadata": {},
   "outputs": [
    {
     "data": {
      "text/plain": [
       "array(['F', 'M', 'Unkown', 'M ', 'lli', 'N', '.'], dtype=object)"
      ]
     },
     "execution_count": 48,
     "metadata": {},
     "output_type": "execute_result"
    }
   ],
   "source": [
    "df['Sex'].unique()"
   ]
  },
  {
   "cell_type": "code",
   "execution_count": 49,
   "metadata": {},
   "outputs": [],
   "source": [
    "df['Sex']=df.Sex.apply(lambda x: x.strip())"
   ]
  },
  {
   "cell_type": "code",
   "execution_count": 50,
   "metadata": {},
   "outputs": [
    {
     "data": {
      "text/plain": [
       "array(['F', 'M', 'Unkown', 'lli', 'N', '.'], dtype=object)"
      ]
     },
     "execution_count": 50,
     "metadata": {},
     "output_type": "execute_result"
    }
   ],
   "source": [
    "df['Sex'].unique()"
   ]
  },
  {
   "cell_type": "code",
   "execution_count": 51,
   "metadata": {},
   "outputs": [],
   "source": [
    "df.replace({'Sex' : { 'lli' : 'Unknown', 'N' : 'Unknown', '.' : 'Unkown' }},inplace=True)"
   ]
  },
  {
   "cell_type": "code",
   "execution_count": 52,
   "metadata": {},
   "outputs": [],
   "source": [
    "df.replace({'Sex':'Unkown'},{'Sex':'Unknown'}, regex=True, inplace=True)"
   ]
  },
  {
   "cell_type": "code",
   "execution_count": 53,
   "metadata": {},
   "outputs": [],
   "source": [
    "df['Age']=df['Age'].fillna('Unknown')"
   ]
  },
  {
   "cell_type": "code",
   "execution_count": 54,
   "metadata": {},
   "outputs": [
    {
     "data": {
      "text/plain": [
       "0"
      ]
     },
     "execution_count": 54,
     "metadata": {},
     "output_type": "execute_result"
    }
   ],
   "source": [
    "df['Age'].isnull().sum()"
   ]
  },
  {
   "cell_type": "code",
   "execution_count": 55,
   "metadata": {},
   "outputs": [
    {
     "data": {
      "text/plain": [
       "array(['57', '11', '48', 'Unknown', '18', '52', '15', '12', '32', '10',\n",
       "       '21', '34', '30', '60', '33', '29', '54', '41', '37', '56', '19',\n",
       "       '25', '69', '38', '55', '35', '46', '45', '14', '40s', '28', '20',\n",
       "       '24', '26', '49', '22', '7', '31', '17', '40', '13', '42', '3',\n",
       "       '8', '50', '16', '82', '73', '20s', '68', '51', '39', '58', 'Teen',\n",
       "       '47', '61', '65', '36', '66', '43', '60s', '9', '72', '59', '6',\n",
       "       '27', '64', '23', '71', '44', '62', '63', '70', '18 months', '53',\n",
       "       '30s', '50s', 'teen', '77', '74', '28 & 26', '5', '86', '18 or 20',\n",
       "       '12 or 13', '46 & 34', '28, 23 & 30', 'Teens', '36 & 26',\n",
       "       '8 or 10', '84', '\\xa0 ', ' ', '30 or 36', '6½', '21 & ?', '75',\n",
       "       '33 or 37', 'mid-30s', '23 & 20', ' 30', '7      &    31', ' 28',\n",
       "       '20?', \"60's\", '32 & 30', '16 to 18', '87', '67', 'Elderly',\n",
       "       'mid-20s', 'Ca. 33', '74 ', '45 ', '21 or 26', '20 ', '>50',\n",
       "       '18 to 22', 'adult', '9 & 12', '? & 19', '9 months', '25 to 35',\n",
       "       '23 & 26', '1', '(adult)', '33 & 37', '25 or 28',\n",
       "       '37, 67, 35, 27,  ? & 27', '21, 34,24 & 35', '30 & 32', '50 & 30',\n",
       "       '17 & 35', 'X', '\"middle-age\"', '13 or 18', '34 & 19', '33 & 26',\n",
       "       '2 to 3 months', 'MAKE LINE GREEN', ' 43', '81', '\"young\"',\n",
       "       '7 or 8', '78', '17 & 16', 'F', 'Both 11', '9 or 10', 'young',\n",
       "       '36 & 23', '  ', 'A.M.', '?    &   14', '10 or 12', '31 or 33',\n",
       "       '2½', '13 or 14'], dtype=object)"
      ]
     },
     "execution_count": 55,
     "metadata": {},
     "output_type": "execute_result"
    }
   ],
   "source": [
    "df['Age'].unique()"
   ]
  },
  {
   "cell_type": "code",
   "execution_count": 56,
   "metadata": {},
   "outputs": [],
   "source": [
    "df['Age']=df.Age.apply(lambda x: x.lstrip())"
   ]
  },
  {
   "cell_type": "code",
   "execution_count": 57,
   "metadata": {},
   "outputs": [],
   "source": [
    "df.replace({'Age': 'Elderly'}, {'Age': 'Unknown'}, regex=True, inplace=True)"
   ]
  },
  {
   "cell_type": "code",
   "execution_count": 58,
   "metadata": {},
   "outputs": [],
   "source": [
    "df.replace({'Age': 'Teen'}, {'Age': 'Unknown'}, regex=True, inplace=True)"
   ]
  },
  {
   "cell_type": "code",
   "execution_count": 59,
   "metadata": {},
   "outputs": [],
   "source": [
    "df.replace({'Age': 'teen'}, {'Age': 'Unknown'}, regex=True, inplace=True)"
   ]
  },
  {
   "cell_type": "code",
   "execution_count": 60,
   "metadata": {},
   "outputs": [],
   "source": [
    "df.replace({'Age': 'young'}, {'Age': 'Unknown'}, regex=True, inplace=True)"
   ]
  },
  {
   "cell_type": "code",
   "execution_count": 61,
   "metadata": {},
   "outputs": [],
   "source": [
    "df.replace({'Age': 'adult'}, {'Age': 'Unknown'}, regex=True, inplace=True)"
   ]
  },
  {
   "cell_type": "code",
   "execution_count": 62,
   "metadata": {},
   "outputs": [],
   "source": [
    "df.replace({'Age': 'X'}, {'Age': 'Unknown'}, regex=True, inplace=True)"
   ]
  },
  {
   "cell_type": "code",
   "execution_count": 63,
   "metadata": {},
   "outputs": [],
   "source": [
    "df.replace({'Age': 'F'}, {'Age': 'Unknown'}, regex=True, inplace=True)"
   ]
  },
  {
   "cell_type": "code",
   "execution_count": 64,
   "metadata": {},
   "outputs": [],
   "source": [
    "df.replace({'Age': 'A.M.'}, {'Age': 'Unknown'}, regex=True, inplace=True)"
   ]
  },
  {
   "cell_type": "code",
   "execution_count": 65,
   "metadata": {},
   "outputs": [],
   "source": [
    "df.replace({'Age': 'MAKE LINE GREEN'}, {'Age': 'Unknown'}, regex=True, inplace=True)"
   ]
  },
  {
   "cell_type": "code",
   "execution_count": 66,
   "metadata": {},
   "outputs": [],
   "source": [
    "df.replace({'Age': 'middle-age'}, {'Age': 'Unknown'}, regex=True, inplace=True)"
   ]
  },
  {
   "cell_type": "code",
   "execution_count": 67,
   "metadata": {},
   "outputs": [],
   "source": [
    "df['Age'] = df.Age.apply(lambda x: x.split('s')[0])"
   ]
  },
  {
   "cell_type": "code",
   "execution_count": 68,
   "metadata": {},
   "outputs": [],
   "source": [
    "df['Age'] = df['Age'].str.strip()"
   ]
  },
  {
   "cell_type": "code",
   "execution_count": 69,
   "metadata": {},
   "outputs": [],
   "source": [
    "df.replace({'Age': ''}, {'Age': 'Unknown'}, regex=True, inplace=True)"
   ]
  },
  {
   "cell_type": "code",
   "execution_count": 70,
   "metadata": {},
   "outputs": [],
   "source": [
    "df.replace({'Age': '>50'}, {'Age': 'Unknown'}, regex=True, inplace=True)"
   ]
  },
  {
   "cell_type": "code",
   "execution_count": 71,
   "metadata": {},
   "outputs": [],
   "source": [
    "df['Injury']=df['Injury'].fillna('Unknown')"
   ]
  },
  {
   "cell_type": "code",
   "execution_count": 72,
   "metadata": {},
   "outputs": [
    {
     "data": {
      "text/plain": [
       "FATAL                                                                                                   802\n",
       "Survived                                                                                                 97\n",
       "Foot bitten                                                                                              87\n",
       "No injury                                                                                                82\n",
       "Leg bitten                                                                                               72\n",
       "                                                                                                       ... \n",
       "Boat damaged                                                                                              1\n",
       "No injury, but sharks repeatedly hit their fins and guns                                                  1\n",
       "Minor punctures & lacerations on left hand                                                                1\n",
       "Numerous puncture wounds to leg                                                                           1\n",
       "No injury to occupants, They fought off sharks & killed one with an automatic. Rescued 34 days later      1\n",
       "Name: Injury, Length: 3737, dtype: int64"
      ]
     },
     "execution_count": 72,
     "metadata": {},
     "output_type": "execute_result"
    }
   ],
   "source": [
    "df['Injury'].value_counts()"
   ]
  },
  {
   "cell_type": "code",
   "execution_count": 73,
   "metadata": {},
   "outputs": [],
   "source": [
    "df['Fatal (Y/N)']=df['Fatal (Y/N)'].fillna('Unknown')"
   ]
  },
  {
   "cell_type": "code",
   "execution_count": 74,
   "metadata": {},
   "outputs": [],
   "source": [
    "df.replace({'Fatal (Y/N)': 'UNKNOWN'}, {'Fatal (Y/N)': 'Unknown'}, regex=True, inplace=True)"
   ]
  },
  {
   "cell_type": "code",
   "execution_count": 75,
   "metadata": {},
   "outputs": [],
   "source": [
    "df['Fatal (Y/N)'] = df['Fatal (Y/N)'].str.strip()"
   ]
  },
  {
   "cell_type": "code",
   "execution_count": 76,
   "metadata": {},
   "outputs": [],
   "source": [
    "df.replace({'Fatal (Y/N)': 'y'}, {'Fatal (Y/N)': 'Y'}, regex=True, inplace=True)"
   ]
  },
  {
   "cell_type": "code",
   "execution_count": 77,
   "metadata": {},
   "outputs": [],
   "source": [
    "df.replace({'Fatal (Y/N)': 'M'}, {'Fatal (Y/N)': 'Unknown'}, regex=True, inplace=True)"
   ]
  },
  {
   "cell_type": "code",
   "execution_count": 78,
   "metadata": {},
   "outputs": [],
   "source": [
    "df.replace({'Fatal (Y/N)': 'UnknownUnknownUnknownUnknown'}, {'Fatal (Y/N)': 'Unknown'}, regex=True, inplace=True)"
   ]
  },
  {
   "cell_type": "code",
   "execution_count": 79,
   "metadata": {},
   "outputs": [],
   "source": [
    "df['Time']=df['Time'].fillna('Unknown')"
   ]
  },
  {
   "cell_type": "code",
   "execution_count": 80,
   "metadata": {},
   "outputs": [],
   "source": [
    "df['Time'] = df['Time'].str.strip()"
   ]
  },
  {
   "cell_type": "markdown",
   "metadata": {},
   "source": [
    "# SPECIES"
   ]
  },
  {
   "cell_type": "code",
   "execution_count": 81,
   "metadata": {},
   "outputs": [],
   "source": [
    "df['Species']=df['Species'].fillna('Unknown')"
   ]
  },
  {
   "cell_type": "code",
   "execution_count": 82,
   "metadata": {},
   "outputs": [
    {
     "data": {
      "text/plain": [
       "C. Moore, GSAF                                     105\n",
       "C. Creswell, GSAF                                   92\n",
       "S. Petersohn, GSAF                                  82\n",
       "R. Collier                                          55\n",
       "R. Collier, GSAF                                    48\n",
       "                                                  ... \n",
       "Miami Herald,  7/12/1988, p.1B                       1\n",
       "A.Resciniti, p.107                                   1\n",
       "H. Edwards, p.31, citing Sebastian Manrique          1\n",
       "Orlando Sentinel, 7/16/1963                          1\n",
       "P. Lynch, N. Doveton, G. Wolfe, M.Levine, GSAF       1\n",
       "Name: Investigator or Source, Length: 4969, dtype: int64"
      ]
     },
     "execution_count": 82,
     "metadata": {},
     "output_type": "execute_result"
    }
   ],
   "source": [
    "df['Investigator or Source'].value_counts()"
   ]
  },
  {
   "cell_type": "code",
   "execution_count": 83,
   "metadata": {},
   "outputs": [],
   "source": [
    "df.rename(columns = {'Investigator or Source':'Source'}, inplace = True)"
   ]
  },
  {
   "cell_type": "code",
   "execution_count": 84,
   "metadata": {},
   "outputs": [],
   "source": [
    "df['Source']=df['Source'].str.strip()"
   ]
  },
  {
   "cell_type": "code",
   "execution_count": 85,
   "metadata": {},
   "outputs": [],
   "source": [
    "df['Source']=df['Source'].fillna('Unknown')"
   ]
  },
  {
   "cell_type": "code",
   "execution_count": 86,
   "metadata": {},
   "outputs": [],
   "source": [
    "df['href formula']=df['href formula'].str.strip()"
   ]
  },
  {
   "cell_type": "code",
   "execution_count": 87,
   "metadata": {},
   "outputs": [],
   "source": [
    "df['href formula']=df['href formula'].fillna('Not provided')"
   ]
  },
  {
   "cell_type": "code",
   "execution_count": 88,
   "metadata": {},
   "outputs": [],
   "source": [
    "df['original order']=df['original order'].astype(int)"
   ]
  },
  {
   "cell_type": "code",
   "execution_count": 89,
   "metadata": {},
   "outputs": [
    {
     "data": {
      "text/plain": [
       "0    6303\n",
       "1    6302\n",
       "2    6301\n",
       "3    6300\n",
       "4    6299\n",
       "Name: original order, dtype: int32"
      ]
     },
     "execution_count": 89,
     "metadata": {},
     "output_type": "execute_result"
    }
   ],
   "source": [
    "df['original order'].head()"
   ]
  },
  {
   "cell_type": "code",
   "execution_count": 90,
   "metadata": {},
   "outputs": [],
   "source": [
    "df.rename(columns ={'Case Number.1':'Case Number'}, inplace=True)"
   ]
  },
  {
   "cell_type": "code",
   "execution_count": 91,
   "metadata": {},
   "outputs": [],
   "source": [
    "df['Date']=df['Date'].str.strip()"
   ]
  },
  {
   "cell_type": "code",
   "execution_count": 92,
   "metadata": {},
   "outputs": [],
   "source": [
    "df.replace({'Date': 'No date'}, {'Date': 'Unknown'}, regex=True, inplace=True)"
   ]
  },
  {
   "cell_type": "code",
   "execution_count": 93,
   "metadata": {
    "scrolled": true
   },
   "outputs": [],
   "source": [
    "df1=df.copy()"
   ]
  },
  {
   "cell_type": "code",
   "execution_count": 94,
   "metadata": {
    "scrolled": true
   },
   "outputs": [],
   "source": [
    "df['Date']= df.Date.apply(lambda x : x\n",
    "                        .replace('Reported ', '')\n",
    "                        .replace('Early ',    '')\n",
    "                        .replace('Late ',     '')\n",
    "                        .replace('--',        '-')\n",
    "                        .replace('Before',     '')\n",
    "            )"
   ]
  },
  {
   "cell_type": "code",
   "execution_count": 95,
   "metadata": {},
   "outputs": [],
   "source": [
    "from datetime import datetime\n",
    "from datetime import date"
   ]
  },
  {
   "cell_type": "code",
   "execution_count": 96,
   "metadata": {},
   "outputs": [],
   "source": [
    "df['Others'] = pd.to_datetime(df.Date, errors='coerce')"
   ]
  },
  {
   "cell_type": "code",
   "execution_count": 97,
   "metadata": {
    "scrolled": false
   },
   "outputs": [],
   "source": [
    "df['Others'] = pd.DatetimeIndex(df['Others']).month"
   ]
  },
  {
   "cell_type": "code",
   "execution_count": 98,
   "metadata": {
    "scrolled": true
   },
   "outputs": [],
   "source": [
    "df['Others']=df['Others'].fillna(0)"
   ]
  },
  {
   "cell_type": "code",
   "execution_count": 99,
   "metadata": {
    "scrolled": true
   },
   "outputs": [],
   "source": [
    "df['Others']=df['Others'].astype(int)"
   ]
  },
  {
   "cell_type": "code",
   "execution_count": 100,
   "metadata": {},
   "outputs": [],
   "source": [
    "df.replace({'Month': '1'}, {'Month': 'January'}, regex=True, inplace=True)"
   ]
  },
  {
   "cell_type": "code",
   "execution_count": 101,
   "metadata": {},
   "outputs": [],
   "source": [
    "df.replace({'Others': '2'}, {'Others': 'February'}, regex=True, inplace=True)"
   ]
  },
  {
   "cell_type": "code",
   "execution_count": 102,
   "metadata": {},
   "outputs": [],
   "source": [
    "df.replace({'Others': '3'}, {'Others': 'March'}, regex=True, inplace=True)"
   ]
  },
  {
   "cell_type": "code",
   "execution_count": 103,
   "metadata": {},
   "outputs": [],
   "source": [
    "df.replace({'Others': '4'}, {'Others': 'April'}, regex=True, inplace=True)"
   ]
  },
  {
   "cell_type": "code",
   "execution_count": 104,
   "metadata": {},
   "outputs": [],
   "source": [
    "df.replace({'Others': '5'}, {'Others': 'May'}, regex=True, inplace=True)"
   ]
  },
  {
   "cell_type": "code",
   "execution_count": 105,
   "metadata": {},
   "outputs": [],
   "source": [
    "df.replace({'Others': '6'}, {'Others': 'June'}, regex=True, inplace=True)"
   ]
  },
  {
   "cell_type": "code",
   "execution_count": 106,
   "metadata": {},
   "outputs": [],
   "source": [
    "df.replace({'Others': '7'}, {'Others': 'July'}, regex=True, inplace=True)"
   ]
  },
  {
   "cell_type": "code",
   "execution_count": 107,
   "metadata": {},
   "outputs": [],
   "source": [
    "df.replace({'Others': '8'}, {'Others': 'August'}, regex=True, inplace=True)"
   ]
  },
  {
   "cell_type": "code",
   "execution_count": 108,
   "metadata": {},
   "outputs": [],
   "source": [
    "df.replace({'Others': '9'}, {'Others': 'September'}, regex=True, inplace=True)"
   ]
  },
  {
   "cell_type": "code",
   "execution_count": 109,
   "metadata": {},
   "outputs": [],
   "source": [
    "df.replace({'Others': '10'}, {'Others': 'October'}, regex=True, inplace=True)"
   ]
  },
  {
   "cell_type": "code",
   "execution_count": 110,
   "metadata": {},
   "outputs": [],
   "source": [
    "df.replace({'Others': '11'}, {'Others': 'November'}, regex=True, inplace=True)"
   ]
  },
  {
   "cell_type": "code",
   "execution_count": 111,
   "metadata": {},
   "outputs": [],
   "source": [
    "df.replace({'Others': '12'}, {'Others': 'December'}, regex=True, inplace=True)"
   ]
  },
  {
   "cell_type": "code",
   "execution_count": 112,
   "metadata": {},
   "outputs": [],
   "source": [
    "df.replace({'Others': '0'}, {'Others': 'Unknown'}, regex=True, inplace=True)"
   ]
  },
  {
   "cell_type": "code",
   "execution_count": 113,
   "metadata": {
    "scrolled": true
   },
   "outputs": [],
   "source": [
    "df=df.rename(columns={'Others':'Month'})"
   ]
  },
  {
   "cell_type": "code",
   "execution_count": 114,
   "metadata": {},
   "outputs": [],
   "source": [
    "df['Date'] = pd.to_datetime(df.Date, errors='coerce')"
   ]
  },
  {
   "cell_type": "code",
   "execution_count": 115,
   "metadata": {},
   "outputs": [],
   "source": [
    "df['Date']=df['Date'].fillna('Unknown')"
   ]
  },
  {
   "cell_type": "code",
   "execution_count": null,
   "metadata": {},
   "outputs": [],
   "source": []
  },
  {
   "cell_type": "code",
   "execution_count": 116,
   "metadata": {},
   "outputs": [],
   "source": [
    "df['Country']=df['Country'].str.replace(r'\\/.+|\\(.+\\)|\\.|\\?','')"
   ]
  },
  {
   "cell_type": "code",
   "execution_count": 117,
   "metadata": {},
   "outputs": [],
   "source": [
    "df['Country']=df['Country'].str.replace('\\&', 'and')"
   ]
  },
  {
   "cell_type": "code",
   "execution_count": 118,
   "metadata": {},
   "outputs": [],
   "source": [
    "df['Country']=df.Country.apply(lambda x: x.upper())"
   ]
  },
  {
   "cell_type": "code",
   "execution_count": 119,
   "metadata": {},
   "outputs": [],
   "source": [
    "df.replace({'Country': 'COLUMBIA'}, {'Country': 'COLOMBIA'}, regex=True, inplace=True)"
   ]
  },
  {
   "cell_type": "code",
   "execution_count": 120,
   "metadata": {},
   "outputs": [],
   "source": [
    "df.replace({'Country': 'ATLANTIC OCEAN'}, {'Country': 'UNKNOWN'}, regex=True, inplace=True)"
   ]
  },
  {
   "cell_type": "code",
   "execution_count": 121,
   "metadata": {},
   "outputs": [],
   "source": [
    "df.replace({'Country': 'ST MAARTIN'}, {'Country': 'ST MARTIN'}, regex=True, inplace=True)"
   ]
  },
  {
   "cell_type": "code",
   "execution_count": 122,
   "metadata": {},
   "outputs": [],
   "source": [
    "df.replace({'Country': 'DIEGO GARCIA'}, {'Country': 'UNKNOWN'}, regex=True, inplace=True)"
   ]
  },
  {
   "cell_type": "code",
   "execution_count": 123,
   "metadata": {},
   "outputs": [],
   "source": [
    "df.replace({'Country': 'MID UNKNOWN'}, {'Country': 'UNKNOWN'}, regex=True, inplace=True)"
   ]
  },
  {
   "cell_type": "code",
   "execution_count": 124,
   "metadata": {},
   "outputs": [],
   "source": [
    "df.replace({'Country': 'MID UNKNOWN'}, {'Country': 'UNKNOWN'}, regex=True, inplace=True)"
   ]
  },
  {
   "cell_type": "code",
   "execution_count": 125,
   "metadata": {},
   "outputs": [],
   "source": [
    "df.replace({'Country': 'NORTH UNKNOWN'}, {'Country': 'UNKNOWN'}, regex=True, inplace=True)"
   ]
  },
  {
   "cell_type": "code",
   "execution_count": 126,
   "metadata": {},
   "outputs": [],
   "source": [
    "df.replace({'Country': 'BETWEEN PORTUGAL AND INDIA'}, {'Country': 'UNKNOWN'}, regex=True, inplace=True)"
   ]
  },
  {
   "cell_type": "code",
   "execution_count": 127,
   "metadata": {},
   "outputs": [],
   "source": [
    "df['Country'] = df['Country'].str.strip()"
   ]
  },
  {
   "cell_type": "code",
   "execution_count": 128,
   "metadata": {},
   "outputs": [],
   "source": [
    "df.replace({'Country': 'MEDITERRANEAN SEA'}, {'Country': 'UNKNOWN'}, regex=True, inplace=True)"
   ]
  },
  {
   "cell_type": "code",
   "execution_count": 129,
   "metadata": {},
   "outputs": [],
   "source": [
    "df.replace({'Country': 'COAST OF AFRICA'}, {'Country': 'AFRICA'}, regex=True, inplace=True)"
   ]
  },
  {
   "cell_type": "code",
   "execution_count": 130,
   "metadata": {},
   "outputs": [],
   "source": [
    "df.replace({'Country': 'MID-PACIFC OCEAN'}, {'Country': 'UNKNOWN'}, regex=True, inplace=True)"
   ]
  },
  {
   "cell_type": "code",
   "execution_count": 131,
   "metadata": {},
   "outputs": [],
   "source": [
    "df.replace({'Country': 'CENTRAL PACIFIC'}, {'Country': 'UNKNOWN'}, regex=True, inplace=True)"
   ]
  },
  {
   "cell_type": "code",
   "execution_count": 132,
   "metadata": {},
   "outputs": [],
   "source": [
    "df.replace({'Country': 'BRITISH OVERSEAS TERRITORY'}, {'Country': 'UNITED KINGDOM'}, regex=True, inplace=True)"
   ]
  },
  {
   "cell_type": "code",
   "execution_count": 133,
   "metadata": {},
   "outputs": [],
   "source": [
    "df['Area']=df['Area'].str.strip()"
   ]
  },
  {
   "cell_type": "code",
   "execution_count": 134,
   "metadata": {},
   "outputs": [],
   "source": [
    "df.replace({'Fatal (Y/N)':'2017'},{'Fatal (Y/N)':'Unknown'}, regex=True, inplace=True)"
   ]
  },
  {
   "cell_type": "code",
   "execution_count": 135,
   "metadata": {
    "scrolled": true
   },
   "outputs": [
    {
     "data": {
      "text/html": [
       "<div>\n",
       "<style scoped>\n",
       "    .dataframe tbody tr th:only-of-type {\n",
       "        vertical-align: middle;\n",
       "    }\n",
       "\n",
       "    .dataframe tbody tr th {\n",
       "        vertical-align: top;\n",
       "    }\n",
       "\n",
       "    .dataframe thead th {\n",
       "        text-align: right;\n",
       "    }\n",
       "</style>\n",
       "<table border=\"1\" class=\"dataframe\">\n",
       "  <thead>\n",
       "    <tr style=\"text-align: right;\">\n",
       "      <th></th>\n",
       "      <th>Activity</th>\n",
       "      <th>Fatal (Y/N)</th>\n",
       "    </tr>\n",
       "  </thead>\n",
       "  <tbody>\n",
       "    <tr>\n",
       "      <th>7</th>\n",
       "      <td>Fishing</td>\n",
       "      <td>N</td>\n",
       "    </tr>\n",
       "    <tr>\n",
       "      <th>13</th>\n",
       "      <td>Fishing</td>\n",
       "      <td>N</td>\n",
       "    </tr>\n",
       "    <tr>\n",
       "      <th>23</th>\n",
       "      <td>Fishing</td>\n",
       "      <td>N</td>\n",
       "    </tr>\n",
       "    <tr>\n",
       "      <th>31</th>\n",
       "      <td>Fishing</td>\n",
       "      <td>N</td>\n",
       "    </tr>\n",
       "    <tr>\n",
       "      <th>55</th>\n",
       "      <td>Fishing / Wading</td>\n",
       "      <td>N</td>\n",
       "    </tr>\n",
       "    <tr>\n",
       "      <th>...</th>\n",
       "      <td>...</td>\n",
       "      <td>...</td>\n",
       "    </tr>\n",
       "    <tr>\n",
       "      <th>6283</th>\n",
       "      <td>Fishing</td>\n",
       "      <td>N</td>\n",
       "    </tr>\n",
       "    <tr>\n",
       "      <th>6289</th>\n",
       "      <td>Fishing</td>\n",
       "      <td>Y</td>\n",
       "    </tr>\n",
       "    <tr>\n",
       "      <th>6293</th>\n",
       "      <td>Fishing</td>\n",
       "      <td>Y</td>\n",
       "    </tr>\n",
       "    <tr>\n",
       "      <th>6294</th>\n",
       "      <td>Fishing</td>\n",
       "      <td>Y</td>\n",
       "    </tr>\n",
       "    <tr>\n",
       "      <th>6295</th>\n",
       "      <td>Fishing</td>\n",
       "      <td>Y</td>\n",
       "    </tr>\n",
       "  </tbody>\n",
       "</table>\n",
       "<p>633 rows × 2 columns</p>\n",
       "</div>"
      ],
      "text/plain": [
       "              Activity Fatal (Y/N)\n",
       "7              Fishing           N\n",
       "13             Fishing           N\n",
       "23             Fishing           N\n",
       "31             Fishing           N\n",
       "55    Fishing / Wading           N\n",
       "...                ...         ...\n",
       "6283           Fishing           N\n",
       "6289           Fishing           Y\n",
       "6293           Fishing           Y\n",
       "6294           Fishing           Y\n",
       "6295           Fishing           Y\n",
       "\n",
       "[633 rows x 2 columns]"
      ]
     },
     "execution_count": 135,
     "metadata": {},
     "output_type": "execute_result"
    }
   ],
   "source": [
    "df[df['Activity'].str.contains('Fishing')][['Activity','Fatal (Y/N)']]"
   ]
  },
  {
   "cell_type": "code",
   "execution_count": 136,
   "metadata": {},
   "outputs": [],
   "source": [
    "df['Name']=df.Name.apply(lambda x: x.upper())"
   ]
  },
  {
   "cell_type": "code",
   "execution_count": 137,
   "metadata": {},
   "outputs": [],
   "source": [
    "df['Name']=df['Name'].str.replace('MALE', 'UNKNOWN')"
   ]
  },
  {
   "cell_type": "code",
   "execution_count": 138,
   "metadata": {},
   "outputs": [],
   "source": [
    "df['Name']=df['Name'].str.replace('FEMALE', 'UNKNOWN')"
   ]
  },
  {
   "cell_type": "code",
   "execution_count": 139,
   "metadata": {},
   "outputs": [],
   "source": [
    "df.replace({'Name': r'^FEMALE.$'}, {'Name': 'UNKNOWN'}, regex=True, inplace=True)"
   ]
  },
  {
   "cell_type": "code",
   "execution_count": 140,
   "metadata": {},
   "outputs": [],
   "source": [
    "df['Name']=df['Name'].str.replace(r'\\/.+|\\(.+\\)|\\.|\\?','')"
   ]
  },
  {
   "cell_type": "code",
   "execution_count": 141,
   "metadata": {},
   "outputs": [],
   "source": [
    "df['Name']=df['Name'].str.replace(r'\\W',' ')"
   ]
  },
  {
   "cell_type": "code",
   "execution_count": 142,
   "metadata": {},
   "outputs": [],
   "source": [
    "df['Name']=df.Name.apply(lambda x: x.capitalize())"
   ]
  },
  {
   "cell_type": "code",
   "execution_count": 143,
   "metadata": {},
   "outputs": [],
   "source": [
    "df['Name']=df['Name'].str.replace(r'\\d+','')"
   ]
  },
  {
   "cell_type": "code",
   "execution_count": 144,
   "metadata": {},
   "outputs": [],
   "source": [
    "df['Age']=df['Age'].str.replace(r'18 month','1.5')"
   ]
  },
  {
   "cell_type": "code",
   "execution_count": 145,
   "metadata": {},
   "outputs": [],
   "source": [
    "df['Age']=df['Age'].str.replace(r'9 month','<1')"
   ]
  },
  {
   "cell_type": "code",
   "execution_count": 146,
   "metadata": {},
   "outputs": [],
   "source": [
    "df['Age']=df['Age'].str.replace(r'2 to 3 month','<1')"
   ]
  },
  {
   "cell_type": "code",
   "execution_count": 147,
   "metadata": {},
   "outputs": [],
   "source": [
    "df['Age']=df['Age'].str.replace(r'2 to 3 month','<1')"
   ]
  },
  {
   "cell_type": "code",
   "execution_count": 148,
   "metadata": {},
   "outputs": [],
   "source": [
    "df['Age']=df['Age'].str.replace(r'Both 11','11')"
   ]
  },
  {
   "cell_type": "code",
   "execution_count": 149,
   "metadata": {},
   "outputs": [],
   "source": [
    "df['Age']=df['Age'].str.replace(r'(Unknown)','Unknown')"
   ]
  },
  {
   "cell_type": "code",
   "execution_count": 150,
   "metadata": {},
   "outputs": [],
   "source": [
    "def clean_species(entry):\n",
    "    \n",
    "    \n",
    "    if isinstance(entry, float) or (len(entry.split(' '))==1):\n",
    "        return \"Not identified\"\n",
    "    else:\n",
    "        species = entry.split(' ')\n",
    "        \n",
    "        s=\" \".join([species[i] for i in range(len(species)-1) if species[i+1] == 'shark' or species[i+1] == 'shark,'])\n",
    "\n",
    "        if len(s) <3:\n",
    "            return \"Not identified\"\n",
    "        elif ord(s[0].lower()) not in range(ord('a'), ord('z')):\n",
    "            return \"Not identified\"\n",
    "        else:\n",
    "            return s\n",
    "\n",
    "\n",
    "    "
   ]
  },
  {
   "cell_type": "code",
   "execution_count": 151,
   "metadata": {
    "scrolled": true
   },
   "outputs": [],
   "source": [
    "df['Species']=df.Species.apply(clean_species)"
   ]
  },
  {
   "cell_type": "code",
   "execution_count": 152,
   "metadata": {
    "scrolled": true
   },
   "outputs": [
    {
     "name": "stdout",
     "output_type": "stream",
     "text": [
      "['No injury to occupant, outrigger canoe and paddle damaged'\n",
      " 'Minor injury to left thigh'\n",
      " 'Injury to left lower leg from surfboard skeg' ...\n",
      " 'FATAL, leg stripped of flesh  '\n",
      " 'FATAL, knocked overboard by tail of shark & carried off by shark '\n",
      " 'FATAL. \"Shark bit him in half, carrying away the lower extremities\" ']\n"
     ]
    }
   ],
   "source": [
    "print(df['Injury'].unique())"
   ]
  },
  {
   "cell_type": "code",
   "execution_count": 153,
   "metadata": {},
   "outputs": [],
   "source": [
    "df['pdf']=df['pdf'].str.capitalize()"
   ]
  },
  {
   "cell_type": "code",
   "execution_count": 154,
   "metadata": {},
   "outputs": [],
   "source": [
    "df = df[['Id',\n",
    " 'Date',\n",
    " 'Month',\n",
    " 'Year',\n",
    " 'Type',\n",
    " 'Country',\n",
    " 'Area',\n",
    " 'Location',\n",
    " 'Activity',\n",
    " 'Name',\n",
    " 'Sex',\n",
    " 'Age',\n",
    " 'Injury',\n",
    " 'Fatal (Y/N)',\n",
    " 'Time',\n",
    " 'Species',\n",
    " 'Source',\n",
    " 'pdf',\n",
    " 'href formula',\n",
    " 'href',\n",
    " 'Case Number',\n",
    " 'Case Number.2',\n",
    " 'original order',\n",
    " 'Additional Info',\n",
    " ]]"
   ]
  },
  {
   "cell_type": "code",
   "execution_count": null,
   "metadata": {},
   "outputs": [],
   "source": []
  },
  {
   "cell_type": "code",
   "execution_count": 155,
   "metadata": {},
   "outputs": [],
   "source": [
    "df['Additional Info']=df['Additional Info'].str.replace(r'stopped here','Not provided')"
   ]
  },
  {
   "cell_type": "code",
   "execution_count": 156,
   "metadata": {},
   "outputs": [],
   "source": [
    "df['Time']=df['Time'].str.replace('h',':')"
   ]
  },
  {
   "cell_type": "code",
   "execution_count": 157,
   "metadata": {},
   "outputs": [],
   "source": [
    "df['Time'] = df['Time'].replace(to_replace ='\\D', value = '', regex = True)"
   ]
  },
  {
   "cell_type": "code",
   "execution_count": 158,
   "metadata": {},
   "outputs": [],
   "source": [
    "df['Time']=df['Time'][df['Time'].str.len()<5]"
   ]
  },
  {
   "cell_type": "code",
   "execution_count": 159,
   "metadata": {},
   "outputs": [],
   "source": [
    "df['Time']=df['Time'].fillna('Unknown')"
   ]
  },
  {
   "cell_type": "code",
   "execution_count": null,
   "metadata": {},
   "outputs": [],
   "source": []
  },
  {
   "cell_type": "code",
   "execution_count": 160,
   "metadata": {},
   "outputs": [],
   "source": [
    "def clean_activity(entry):\n",
    "    activities = entry.split(\" \")\n",
    "    \n",
    "    for a in activities:\n",
    "        if a.endswith('ing'):\n",
    "            ac = a\n",
    "            return ac            "
   ]
  },
  {
   "cell_type": "code",
   "execution_count": 161,
   "metadata": {},
   "outputs": [],
   "source": [
    "df['Activity']=df.Activity.apply(clean_activity)"
   ]
  },
  {
   "cell_type": "code",
   "execution_count": 162,
   "metadata": {
    "scrolled": false
   },
   "outputs": [],
   "source": [
    "df['Activity']=df['Activity'].str.capitalize()"
   ]
  },
  {
   "cell_type": "code",
   "execution_count": 163,
   "metadata": {
    "scrolled": true
   },
   "outputs": [
    {
     "data": {
      "text/plain": [
       "array(['Paddling', 'Standing', 'Surfing', 'Diving', 'Swimming', 'Fishing',\n",
       "       'Walking', 'Feeding', 'Boarding', 'Paddle-skiing', 'Windsurfing',\n",
       "       'Paddleboarding', 'Wading', 'Cleaning', 'Snorkeling',\n",
       "       'Spearfishing', None, 'Bathing', 'Kayaking', 'Poaching',\n",
       "       'Canoeing', 'Skimboarding', 'Touching', 'Attempting', 'Kakaying',\n",
       "       'Washing', 'Grabbing', 'Tagging', 'Skiing', 'Floating',\n",
       "       'Lobstering', 'Teasing', 'Surf-skiing', 'Photographing',\n",
       "       'Treading', 'Playing', 'Sitting', 'Rowing', 'Bodysurfing',\n",
       "       'Filming', 'Petting', 'Kneeling', 'Watching', 'Kitesurfing',\n",
       "       'Sailing', 'Kiteboarding', 'Casting', 'Wrangling', 'Dragging',\n",
       "       'Bodyboarding', 'Crayfishing', 'Jumping', 'Collecting', 'Holding',\n",
       "       'Wakeboarding', 'Rescuing', 'Measuring', 'Paddle-boarding',\n",
       "       'Paddle-surfing', 'Crawling', 'Crabbing', 'Sinking', 'Towing',\n",
       "       'Free-diving', 'Removing', 'Reviving', 'Shrimping', 'Lifesaving',\n",
       "       'Competing', 'Crouching', 'Scurfing', 'Chumming',\n",
       "       'Boogie-boarding', 'Boeing', 'Wade-fishing', 'Wearing', 'Carrying',\n",
       "       'Killing', 'Body-boarding', 'Kite-boarding', 'Hiking',\n",
       "       'Conducting', 'Lying', 'Splashing', 'Cruising', 'Moving',\n",
       "       'Gathering', '\"riding', 'Sleeping', 'Freediving', 'Falling',\n",
       "       'Stamding', 'Riding', 'Preparing', 'Finning', 'Resting',\n",
       "       'Observing', 'Skindiving', 'Sittting', 'Returning', 'Dropping',\n",
       "       'Ditching', 'Meshing', 'Racing', 'Investigating', 'Foundering',\n",
       "       'During', 'Water-skiing', 'Paddleskiing', 'Inspecting', 'Catching',\n",
       "       'Exercising', 'Gaffing', 'Clinging', 'Drawing', 'Thrashing',\n",
       "       'Being', 'Trying', 'Surf-fishing', 'Netting', 'Sight-seeing',\n",
       "       'King', 'Leaving', 'Clamming', 'Picking', 'Pulling', 'Hunting',\n",
       "       'Throwing', 'Helping', 'Hauling', 'Sunbathing', 'Spearing',\n",
       "       'Retrieving', 'Dangling', 'Searching', 'Testing', 'Seining',\n",
       "       'Abandoning', 'Missing', 'Escaping', 'Pushing', 'Climbing',\n",
       "       'Surveying', 'Attaching', 'Checking', 'Using', 'Taking', 'Chasing',\n",
       "       'Lining', 'Tossing', 'Lifting', 'Setting', 'Trailing', 'Hanging',\n",
       "       'Gigging', 'Working', '\"climbing', 'Ducking', 'Dynamiting',\n",
       "       'Longling', 'Boating', '\"flying', 'Crossing', 'Landing', 'Cutting',\n",
       "       'Recovering', 'Goggle-diving', 'Defecating', 'Bending',\n",
       "       'Examining', 'Involving', 'Bringing', 'Flying', 'Reading',\n",
       "       'Guarding', 'Travelling', 'Sculling', 'Waiting', 'Burning',\n",
       "       'Bathing/swimming', 'Scooping', 'Awaiting', 'Launching', 'Feeling',\n",
       "       'Repairing', 'Shelling', 'Dismantling', 'Hoisting', '\"swimming',\n",
       "       'Stuffing', 'Pearling', 'Laying', 'Expecting', 'Shooting',\n",
       "       'Harpooning', 'Footing', 'Angling', '\"crossing', 'Pursuing',\n",
       "       'Fleeing', 'Drowning', 'Oystering', 'Yachting', 'Restraining',\n",
       "       'Traveling', 'Murdering', 'Salvaging', 'Painting', 'Coming',\n",
       "       'Reaching', 'Deserting', 'Fighting', 'Harassing', 'Hooking',\n",
       "       'Loading', 'Ascending', 'Net-fishing', 'Lashing'], dtype=object)"
      ]
     },
     "execution_count": 163,
     "metadata": {},
     "output_type": "execute_result"
    }
   ],
   "source": [
    "df['Activity'].unique()"
   ]
  },
  {
   "cell_type": "code",
   "execution_count": 164,
   "metadata": {},
   "outputs": [
    {
     "data": {
      "text/plain": [
       "array(['No injury to occupant, outrigger canoe and paddle damaged',\n",
       "       'Minor injury to left thigh',\n",
       "       'Injury to left lower leg from surfboard skeg', ...,\n",
       "       'FATAL, leg stripped of flesh  ',\n",
       "       'FATAL, knocked overboard by tail of shark & carried off by shark ',\n",
       "       'FATAL. \"Shark bit him in half, carrying away the lower extremities\" '],\n",
       "      dtype=object)"
      ]
     },
     "execution_count": 164,
     "metadata": {},
     "output_type": "execute_result"
    }
   ],
   "source": [
    "df['Injury'].unique()"
   ]
  },
  {
   "cell_type": "code",
   "execution_count": 165,
   "metadata": {},
   "outputs": [],
   "source": [
    "df['Injury']=df['Injury'].str.replace('FATAL','Unknown')"
   ]
  },
  {
   "cell_type": "code",
   "execution_count": 166,
   "metadata": {},
   "outputs": [],
   "source": [
    "df['Injury']=df['Injury'].str.strip()"
   ]
  },
  {
   "cell_type": "code",
   "execution_count": 167,
   "metadata": {},
   "outputs": [],
   "source": [
    "df=df.rename(columns={'href':'Href','href formula': 'Href Formula'})"
   ]
  },
  {
   "cell_type": "code",
   "execution_count": 168,
   "metadata": {},
   "outputs": [],
   "source": [
    "df=df.rename(columns={'original order':'Original Order'})"
   ]
  },
  {
   "cell_type": "code",
   "execution_count": 169,
   "metadata": {},
   "outputs": [],
   "source": [
    "df['Activity']=df['Activity'].fillna('Unkwnon')"
   ]
  },
  {
   "cell_type": "code",
   "execution_count": 172,
   "metadata": {},
   "outputs": [],
   "source": [
    "df=df.rename(columns={'Case Number.2':'Case Number repeat'})"
   ]
  },
  {
   "cell_type": "code",
   "execution_count": 174,
   "metadata": {},
   "outputs": [],
   "source": [
    "df.to_csv('attacksCesar.csv')"
   ]
  },
  {
   "cell_type": "code",
   "execution_count": null,
   "metadata": {},
   "outputs": [],
   "source": []
  },
  {
   "cell_type": "code",
   "execution_count": 173,
   "metadata": {
    "scrolled": true
   },
   "outputs": [
    {
     "name": "stdout",
     "output_type": "stream",
     "text": [
      "<class 'pandas.core.frame.DataFrame'>\n",
      "Int64Index: 6302 entries, 0 to 6301\n",
      "Data columns (total 24 columns):\n",
      " #   Column              Non-Null Count  Dtype \n",
      "---  ------              --------------  ----- \n",
      " 0   Id                  6302 non-null   int32 \n",
      " 1   Date                6302 non-null   object\n",
      " 2   Month               6302 non-null   int32 \n",
      " 3   Year                6302 non-null   int32 \n",
      " 4   Type                6302 non-null   object\n",
      " 5   Country             6302 non-null   object\n",
      " 6   Area                6302 non-null   object\n",
      " 7   Location            6302 non-null   object\n",
      " 8   Activity            6302 non-null   object\n",
      " 9   Name                6302 non-null   object\n",
      " 10  Sex                 6302 non-null   object\n",
      " 11  Age                 6302 non-null   object\n",
      " 12  Injury              6302 non-null   object\n",
      " 13  Fatal (Y/N)         6302 non-null   object\n",
      " 14  Time                6302 non-null   object\n",
      " 15  Species             6302 non-null   object\n",
      " 16  Source              6302 non-null   object\n",
      " 17  pdf                 6302 non-null   object\n",
      " 18  Href Formula        6302 non-null   object\n",
      " 19  Href                6302 non-null   object\n",
      " 20  Case Number         6302 non-null   object\n",
      " 21  Case Number repeat  6302 non-null   object\n",
      " 22  Original Order      6302 non-null   int32 \n",
      " 23  Additional Info     6302 non-null   object\n",
      "dtypes: int32(4), object(20)\n",
      "memory usage: 1.1+ MB\n"
     ]
    }
   ],
   "source": [
    "df.info()"
   ]
  },
  {
   "cell_type": "code",
   "execution_count": null,
   "metadata": {
    "scrolled": true
   },
   "outputs": [],
   "source": []
  },
  {
   "cell_type": "code",
   "execution_count": null,
   "metadata": {
    "scrolled": true
   },
   "outputs": [],
   "source": []
  },
  {
   "cell_type": "code",
   "execution_count": null,
   "metadata": {},
   "outputs": [],
   "source": []
  },
  {
   "cell_type": "code",
   "execution_count": null,
   "metadata": {},
   "outputs": [],
   "source": []
  },
  {
   "cell_type": "code",
   "execution_count": null,
   "metadata": {},
   "outputs": [],
   "source": []
  },
  {
   "cell_type": "code",
   "execution_count": null,
   "metadata": {},
   "outputs": [],
   "source": []
  },
  {
   "cell_type": "code",
   "execution_count": null,
   "metadata": {},
   "outputs": [],
   "source": []
  },
  {
   "cell_type": "code",
   "execution_count": null,
   "metadata": {},
   "outputs": [],
   "source": []
  },
  {
   "cell_type": "code",
   "execution_count": null,
   "metadata": {},
   "outputs": [],
   "source": []
  },
  {
   "cell_type": "code",
   "execution_count": null,
   "metadata": {},
   "outputs": [],
   "source": []
  },
  {
   "cell_type": "code",
   "execution_count": 171,
   "metadata": {},
   "outputs": [
    {
     "ename": "NameError",
     "evalue": "name 'l' is not defined",
     "output_type": "error",
     "traceback": [
      "\u001b[1;31m---------------------------------------------------------------------------\u001b[0m",
      "\u001b[1;31mNameError\u001b[0m                                 Traceback (most recent call last)",
      "\u001b[1;32m<ipython-input-171-cde25b5e10ad>\u001b[0m in \u001b[0;36m<module>\u001b[1;34m\u001b[0m\n\u001b[1;32m----> 1\u001b[1;33m \u001b[0ml\u001b[0m\u001b[1;33m\u001b[0m\u001b[1;33m\u001b[0m\u001b[0m\n\u001b[0m",
      "\u001b[1;31mNameError\u001b[0m: name 'l' is not defined"
     ]
    }
   ],
   "source": [
    "l"
   ]
  },
  {
   "cell_type": "code",
   "execution_count": null,
   "metadata": {},
   "outputs": [],
   "source": []
  },
  {
   "cell_type": "code",
   "execution_count": null,
   "metadata": {},
   "outputs": [],
   "source": []
  },
  {
   "cell_type": "code",
   "execution_count": null,
   "metadata": {},
   "outputs": [],
   "source": []
  },
  {
   "cell_type": "code",
   "execution_count": null,
   "metadata": {},
   "outputs": [],
   "source": []
  },
  {
   "cell_type": "code",
   "execution_count": null,
   "metadata": {
    "scrolled": true
   },
   "outputs": [],
   "source": []
  },
  {
   "cell_type": "code",
   "execution_count": null,
   "metadata": {
    "scrolled": true
   },
   "outputs": [],
   "source": []
  },
  {
   "cell_type": "code",
   "execution_count": null,
   "metadata": {
    "scrolled": true
   },
   "outputs": [],
   "source": []
  },
  {
   "cell_type": "code",
   "execution_count": null,
   "metadata": {},
   "outputs": [],
   "source": []
  },
  {
   "cell_type": "code",
   "execution_count": null,
   "metadata": {},
   "outputs": [],
   "source": []
  },
  {
   "cell_type": "code",
   "execution_count": null,
   "metadata": {},
   "outputs": [],
   "source": []
  },
  {
   "cell_type": "code",
   "execution_count": null,
   "metadata": {},
   "outputs": [],
   "source": []
  },
  {
   "cell_type": "code",
   "execution_count": null,
   "metadata": {},
   "outputs": [],
   "source": []
  },
  {
   "cell_type": "code",
   "execution_count": null,
   "metadata": {},
   "outputs": [],
   "source": []
  },
  {
   "cell_type": "code",
   "execution_count": null,
   "metadata": {},
   "outputs": [],
   "source": []
  }
 ],
 "metadata": {
  "kernelspec": {
   "display_name": "Python 3",
   "language": "python",
   "name": "python3"
  },
  "language_info": {
   "codemirror_mode": {
    "name": "ipython",
    "version": 3
   },
   "file_extension": ".py",
   "mimetype": "text/x-python",
   "name": "python",
   "nbconvert_exporter": "python",
   "pygments_lexer": "ipython3",
   "version": "3.7.6"
  }
 },
 "nbformat": 4,
 "nbformat_minor": 4
}
